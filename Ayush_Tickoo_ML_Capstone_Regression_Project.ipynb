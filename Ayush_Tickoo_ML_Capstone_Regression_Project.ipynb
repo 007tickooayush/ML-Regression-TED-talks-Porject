{
  "cells": [
    {
      "cell_type": "markdown",
      "metadata": {
        "id": "vncDsAP0Gaoa"
      },
      "source": [
        "# **Project Name   - TED Talk Views Prediction** \n",
        "\n"
      ]
    },
    {
      "cell_type": "markdown",
      "metadata": {
        "id": "beRrZCGUAJYm"
      },
      "source": [
        "##### **Project Type**    - Regression\n",
        "##### **Contribution**    - Individual\n",
        "##### **Contributor       - Ayush Tickoo**\n"
      ]
    },
    {
      "cell_type": "markdown",
      "metadata": {
        "id": "FJNUwmbgGyua"
      },
      "source": [
        "# **Project Summary -**"
      ]
    },
    {
      "cell_type": "markdown",
      "metadata": {
        "id": "F6v_1wHtG2nS"
      },
      "source": [
        "In this project, the objective is to predict the number of views a TED talk session can have using the dataset provided, by applying specific methods to draw out heuristics after doing exploratory data analysis on the dataset. Before beginning with the data analysis, data wrangling will be done to get the data in a format ready for analysis. Hence after completing the wrangling and analysis statistically and visually, we will continue doing transformations on the dataset, if required. Transformations, such as encoding, normalization, and regularization of the dataset. After the data is ready is ready to be entered in to a model, it will be split into a proportion and a portion of it will be kept for testing the model chosen. Hence, multiple models will be applied to get acknowleged about the model that fits the dataset best for predictions, which will also be followed by paramter tuning, if required to get the highest accuracy possible."
      ]
    },
    {
      "cell_type": "markdown",
      "metadata": {
        "id": "w6K7xa23Elo4"
      },
      "source": [
        "# **GitHub Link -**"
      ]
    },
    {
      "cell_type": "markdown",
      "metadata": {
        "id": "h1o69JH3Eqqn"
      },
      "source": [
        "https://github.com/007tickooayush/ML-Regression-TED-talks-Project"
      ]
    },
    {
      "cell_type": "markdown",
      "metadata": {
        "id": "yQaldy8SH6Dl"
      },
      "source": [
        "# **Problem Statement**\n"
      ]
    },
    {
      "cell_type": "markdown",
      "metadata": {
        "id": "DpeJGUA3kjGy"
      },
      "source": [
        "TED is all about spreading powerful ideas on any topic. This dataset contains over 4,005 TED talks, including transcripts in multiple languages.\n",
        "\n",
        "Founded in 1984 by Richard Salman, the nonprofit organization dedicated to bringing together experts in the fields of technology, entertainment, and design, TED talks have become a mecca for ideas from nearly every industry. In 2015, TED and its sister TEDx chapters published over 2,000 talks that are freely available to the general public, with a list of speakers including Al Gore, Jimmy Wales, Shah Rukh Khan and Bill Gates.\n",
        "\n",
        "TED Talks has been using “ideas worth spreading” as a platform for years.\n",
        "In the digital world we live in today, TED is a great platform to spread your ideas. But how do you know if your ideas will be heard or appreciated.\n",
        "\n",
        "The main goal is to build a predictive model that can help predict the number of views of videos uploaded to the TEDx website."
      ]
    },
    {
      "cell_type": "code",
      "source": [
        "import time \n",
        "start_time = time.time()"
      ],
      "metadata": {
        "id": "CA32ccxOv2Q1"
      },
      "execution_count": null,
      "outputs": []
    },
    {
      "cell_type": "markdown",
      "metadata": {
        "id": "mDgbUHAGgjLW"
      },
      "source": [
        "## **General Guidelines** : -  "
      ]
    },
    {
      "cell_type": "markdown",
      "metadata": {
        "id": "ZrxVaUj-hHfC"
      },
      "source": [
        "1.   Well-structured, formatted, and commented code is required. \n",
        "2.   Exception Handling, Production Grade Code & Deployment Ready Code will be a plus. Those students will be awarded some additional credits. \n",
        "     \n",
        "     The additional credits will have advantages over other students during Star Student selection.\n",
        "       \n",
        "             [ Note: - Deployment Ready Code is defined as, the whole .ipynb notebook should be executable in one go\n",
        "                       without a single error logged. ]\n",
        "\n",
        "3.   Each and every logic should have proper comments.\n",
        "4. You may add as many number of charts you want. Make Sure for each and every chart the following format should be answered.\n",
        "        \n",
        "\n",
        "```\n",
        "# Chart visualization code\n",
        "```\n",
        "            \n",
        "\n",
        "*   Why did you pick the specific chart?\n",
        "*   What is/are the insight(s) found from the chart?\n",
        "* Will the gained insights help creating a positive business impact? \n",
        "Are there any insights that lead to negative growth? Justify with specific reason.\n",
        "\n",
        "5. You have to create at least 15 logical & meaningful charts having important insights.\n",
        "\n",
        "\n",
        "[ Hints : - Do the Vizualization in  a structured way while following \"UBM\" Rule. \n",
        "\n",
        "U - Univariate Analysis,\n",
        "\n",
        "B - Bivariate Analysis (Numerical - Categorical, Numerical - Numerical, Categorical - Categorical)\n",
        "\n",
        "M - Multivariate Analysis\n",
        " ]\n",
        "\n",
        "\n",
        "\n",
        "\n",
        "\n",
        "6. You may add more ml algorithms for model creation. Make sure for each and every algorithm, the following format should be answered.\n",
        "\n",
        "\n",
        "*   Explain the ML Model used and it's performance using Evaluation metric Score Chart.\n",
        "\n",
        "\n",
        "*   Cross- Validation & Hyperparameter Tuning\n",
        "\n",
        "*   Have you seen any improvement? Note down the improvement with updates Evaluation metric Score Chart.\n",
        "\n",
        "*   Explain each evaluation metric's indication towards business and the business impact pf the ML model used.\n",
        "\n",
        "\n",
        "\n",
        "\n",
        "\n",
        "\n",
        "\n",
        "\n",
        "\n",
        "\n",
        "\n",
        "\n",
        "\n",
        "\n",
        "\n",
        "\n",
        "\n",
        "\n"
      ]
    },
    {
      "cell_type": "markdown",
      "metadata": {
        "id": "xTLwvoPc6xqE"
      },
      "source": [
        "## **About the dataset**"
      ]
    },
    {
      "cell_type": "markdown",
      "metadata": {
        "id": "Y3lxredqlCYt"
      },
      "source": [
        "### Import Libraries"
      ]
    },
    {
      "cell_type": "code",
      "execution_count": null,
      "metadata": {
        "id": "M8Vqi-pPk-HR"
      },
      "outputs": [],
      "source": [
        "# Import Libraries\n",
        "from numpy import math\n",
        "import numpy as np\n",
        "from numpy import nan\n",
        "import pandas as pd\n",
        "import missingno as msno\n",
        "\n",
        "from datetime import datetime\n",
        "from statsmodels.stats.outliers_influence import variance_inflation_factor\n",
        "\n",
        "from sklearn.metrics import r2_score,log_loss\n",
        "from sklearn.metrics import mean_squared_error,mean_absolute_error\n",
        "from sklearn.metrics import accuracy_score\n",
        "\n",
        "from sklearn.linear_model import Ridge,Lasso, ElasticNet\n",
        "from sklearn.linear_model import LinearRegression\n",
        "from sklearn.tree import DecisionTreeRegressor\n",
        "from sklearn.ensemble import RandomForestRegressor, GradientBoostingRegressor\n",
        "from xgboost import XGBRegressor \n",
        "\n",
        "from sklearn.preprocessing import MinMaxScaler,StandardScaler\n",
        "from sklearn.model_selection import KFold,train_test_split\n",
        "from sklearn.model_selection import RandomizedSearchCV, GridSearchCV\n",
        "from sklearn.feature_selection import f_regression\n",
        "import seaborn as sns\n",
        "import matplotlib.pyplot as plt\n",
        "\n",
        "%matplotlib inline"
      ]
    },
    {
      "cell_type": "code",
      "execution_count": null,
      "metadata": {
        "id": "G6WnaMss_UAh"
      },
      "outputs": [],
      "source": [
        "# to reduce the deprecated method and other unnecessary warning messages from the console\n",
        "import warnings\n",
        "warnings.filterwarnings('ignore')"
      ]
    },
    {
      "cell_type": "markdown",
      "metadata": {
        "id": "roTNnghiaVDA"
      },
      "source": [
        "Mount Drive"
      ]
    },
    {
      "cell_type": "code",
      "execution_count": null,
      "metadata": {
        "id": "WOdJzt5-aaIN"
      },
      "outputs": [],
      "source": [
        "from google.colab import drive\n",
        "drive.mount('/content/drive',force_remount = False)"
      ]
    },
    {
      "cell_type": "markdown",
      "metadata": {
        "id": "3RnN4peoiCZX"
      },
      "source": [
        "### Dataset Loading"
      ]
    },
    {
      "cell_type": "code",
      "execution_count": null,
      "metadata": {
        "id": "4CkvbW_SlZ_R"
      },
      "outputs": [],
      "source": [
        "# Load Dataset\n",
        "dir_path = '/content/drive/MyDrive/Colab Notebooks/ALMABETTER_DSC/1_1.2_Regression_Project/Ayush Tickoo ML Regression Project [Capstone Project]/data/'\n",
        "df = pd.read_csv(dir_path+'data_ted_talks.csv')"
      ]
    },
    {
      "cell_type": "code",
      "execution_count": null,
      "metadata": {
        "id": "8nn5Um0i6hUU"
      },
      "outputs": [],
      "source": [
        "# create a backup of the datafame\n",
        "df_bkup = df.copy()"
      ]
    },
    {
      "cell_type": "markdown",
      "metadata": {
        "id": "x71ZqKXriCWQ"
      },
      "source": [
        "### Dataset First View"
      ]
    },
    {
      "cell_type": "code",
      "execution_count": null,
      "metadata": {
        "id": "LWNFOSvLl09H"
      },
      "outputs": [],
      "source": [
        "# Dataset First Look\n",
        "df.head()"
      ]
    },
    {
      "cell_type": "markdown",
      "metadata": {
        "id": "7hBIi_osiCS2"
      },
      "source": [
        "### Dataset Rows & Columns count"
      ]
    },
    {
      "cell_type": "code",
      "execution_count": null,
      "metadata": {
        "id": "Kllu7SJgmLij"
      },
      "outputs": [],
      "source": [
        "# Dataset Rows & Columns overview\n",
        "df.info()"
      ]
    },
    {
      "cell_type": "code",
      "execution_count": null,
      "metadata": {
        "id": "4fzkek7xEM9x"
      },
      "outputs": [],
      "source": [
        "# Description of non-numerical variables in dataset \n",
        "df.describe(include='object')"
      ]
    },
    {
      "cell_type": "code",
      "execution_count": null,
      "metadata": {
        "id": "QBMIc-pXFDZQ"
      },
      "outputs": [],
      "source": [
        "# Descrption of numerical columns \n",
        "df.describe()"
      ]
    },
    {
      "cell_type": "code",
      "execution_count": null,
      "metadata": {
        "id": "vGJBBXur8K5h"
      },
      "outputs": [],
      "source": [
        "# Dimensions of Dataset\n",
        "df.shape"
      ]
    },
    {
      "cell_type": "code",
      "execution_count": null,
      "metadata": {
        "id": "bmtC3ZK08teW"
      },
      "outputs": [],
      "source": [
        "# First entry of dataset\n",
        "df.iloc[0]"
      ]
    },
    {
      "cell_type": "code",
      "execution_count": null,
      "metadata": {
        "id": "S4c9ihEM9_dI"
      },
      "outputs": [],
      "source": [
        "# Last entry of dataset\n",
        "df.iloc[-1]"
      ]
    },
    {
      "cell_type": "markdown",
      "metadata": {
        "id": "JlHwYmJAmNHm"
      },
      "source": [
        "### Dataset Information"
      ]
    },
    {
      "cell_type": "code",
      "execution_count": null,
      "metadata": {
        "id": "0hwTIqEzEcnE"
      },
      "outputs": [],
      "source": [
        "# Columns of the dataset\n",
        "df.columns"
      ]
    },
    {
      "cell_type": "markdown",
      "metadata": {
        "id": "35m5QtbWiB9F"
      },
      "source": [
        "#### Duplicate Values"
      ]
    },
    {
      "cell_type": "code",
      "execution_count": null,
      "metadata": {
        "id": "1sLdpKYkmox0"
      },
      "outputs": [],
      "source": [
        "# Dataset Duplicate Value Count\n",
        "print('Count of Duplicates in dataset: ',(df.duplicated()).sum())"
      ]
    },
    {
      "cell_type": "markdown",
      "metadata": {
        "id": "PoPl-ycgm1ru"
      },
      "source": [
        "#### Missing Values/Null Values"
      ]
    },
    {
      "cell_type": "code",
      "execution_count": null,
      "metadata": {
        "id": "GgHWkxvamxVg"
      },
      "outputs": [],
      "source": [
        "# Missing Values/Null Values Count\n",
        "df.isnull().sum()"
      ]
    },
    {
      "cell_type": "code",
      "execution_count": null,
      "metadata": {
        "id": "3q5wnI3om9sJ"
      },
      "outputs": [],
      "source": [
        "# Visualizing the missing values in form of heatmap\n",
        "sns.heatmap(df.isnull(),cmap='viridis')\n",
        "plt.show()"
      ]
    },
    {
      "cell_type": "code",
      "execution_count": null,
      "metadata": {
        "id": "boztYFgR_Iho"
      },
      "outputs": [],
      "source": [
        "# Printing the matrix of missing/NaN values of columns\n",
        "msno.matrix(df)\n",
        "plt.show()"
      ]
    },
    {
      "cell_type": "markdown",
      "metadata": {
        "id": "nA9Y7ga8ng1Z"
      },
      "source": [
        "## **Understanding the Variables**"
      ]
    },
    {
      "cell_type": "markdown",
      "metadata": {
        "id": "PBTbrJXOngz2"
      },
      "source": [
        "### Variables Description "
      ]
    },
    {
      "cell_type": "markdown",
      "metadata": {
        "id": "aJV4KIxSnxay"
      },
      "source": [
        "\n",
        "- **talk_id** - identification number provided by TED (int)\n",
        "- **title** - Title of TED talk (string) \n",
        "- **speaker_1** - First speaker in TED speaker list (string)\n",
        "- **all_speakers** - All the speakers in the TED session (dictionary) <br>`[FORMAT - {'speaker' : 'speaker_name'}`<br>`(speaker - speaker number of session, speaker_name - name of speaker)]`\n",
        "- **occupations** - Occupation of the speakers of the session (dictionary) <br> `[FORMAT - {'speaker' : 'speaker_occupation'}`<br>`(speaker - speaker number of session, speaker_occupation - occupation of speaker)]`\n",
        "- **about_speakers** - Descriptive text about speakers (dictionary) <br>`[FORMAT - {'speaker' : 'speaker_description'}`<br>`(speaker - speaker number of session, speaker_description - About the speaker)]`\n",
        "- **views**{<u>**Dependent Variable**</u>} - Number of views (int) \n",
        "- **recorded_date** - Date of the TED session (string)\n",
        "- **published_date** - Date of TED session publishment (string) \n",
        "- **event** - Event of the TED session (string)\n",
        "- **native_lang** - Native language (string)\n",
        "- **available_lang** - All the available languages (list)\n",
        "- **comments** - Number of comments received (dictionary)<br>`[FORMAT - {'talk_id' : 'title'}`<br>`(talk_id - column 1 of dataset, title - column 2 of dataset)]`\n",
        "- **duration** - Duration of TED talk session (in seconds) (int)\n",
        "- **topics** - Topic of the TED session and tags (list)\n",
        "- **related_talks** - Related TED talk sessions (dictionary)<br>`[FORMAT - {'talk_id' : 'title'}`<br>`(talk_id - column 1 of dataset, title - column 2 of dataset)]`\n",
        "- **url** - URL link of the TED session (string)\n",
        "- **description** - Information about the TED talk session (string) \n",
        "- **transcript** - Complete transcript of the TED session (string)"
      ]
    },
    {
      "cell_type": "markdown",
      "metadata": {
        "id": "u3PMJOP6ngxN"
      },
      "source": [
        "### Check Unique Values for each variable."
      ]
    },
    {
      "cell_type": "code",
      "execution_count": null,
      "metadata": {
        "id": "zms12Yq5n-jE"
      },
      "outputs": [],
      "source": [
        "# Check Unique Values for each variable.\n",
        "unique_vals = pd.DataFrame(df.nunique(),columns=['unique_count'])\n",
        "unique_vals['total'] = len(df)\n",
        "\n",
        "unique_vals"
      ]
    },
    {
      "cell_type": "markdown",
      "metadata": {
        "id": "b937faYmEvxf"
      },
      "source": [
        "## ***Data Cleaning and Data pre-processing***"
      ]
    },
    {
      "cell_type": "markdown",
      "metadata": {
        "id": "eum4EyOlEvxf"
      },
      "source": [
        "### Data Cleaning Code"
      ]
    },
    {
      "cell_type": "markdown",
      "metadata": {
        "id": "40dce74yEvxf"
      },
      "source": [
        "`Making the dataset analysis ready.`"
      ]
    },
    {
      "cell_type": "code",
      "execution_count": null,
      "metadata": {
        "id": "ZJfOQ-CM9f4B"
      },
      "outputs": [],
      "source": [
        "# Numerical columns\n",
        "print('Numerical Columns:',[i for i in df.describe().columns.to_list()])\n"
      ]
    },
    {
      "cell_type": "code",
      "execution_count": null,
      "metadata": {
        "id": "ACET5Qznl9Dx"
      },
      "outputs": [],
      "source": [
        "# Non-numerical columns\n",
        "print('Non-numerical Columns:',[i for i in df.describe(include='object').columns.to_list()])"
      ]
    },
    {
      "cell_type": "markdown",
      "metadata": {
        "id": "KABYn9QtdxG-"
      },
      "source": [
        "#### Cleaning and Processing views"
      ]
    },
    {
      "cell_type": "code",
      "execution_count": null,
      "metadata": {
        "id": "gkyxzzu7eNaL"
      },
      "outputs": [],
      "source": [
        "max_view_power = len(str(int(df['views'].max())))\n",
        "for i in range(1,max_view_power):\n",
        "  print('Views less than',10**i,' '*(max_view_power - i),': ',len(df.loc[(df['views'] <= 10**i),:]))"
      ]
    },
    {
      "cell_type": "code",
      "execution_count": null,
      "metadata": {
        "id": "mej4UjZreNaL"
      },
      "outputs": [],
      "source": [
        "len(df.loc[(df['views'] <= 1000),:])"
      ]
    },
    {
      "cell_type": "markdown",
      "metadata": {
        "id": "AL5gUa7QeNaM"
      },
      "source": [
        "Here we have these 6 values that can be presented as outliers as the views are even lesser than 1000, far lower than the average, for that session.\n",
        "We can see that some of the values for views variables are 0 or less than 1000, hence are outliers. so we remove these values considreing of them being in a neglegible percentage."
      ]
    },
    {
      "cell_type": "code",
      "execution_count": null,
      "metadata": {
        "id": "o5kBnzjTeNaM"
      },
      "outputs": [],
      "source": [
        "df.drop(df.loc[(df['views'] < 1000) | (df['views'] <= 0)].index,inplace = True)"
      ]
    },
    {
      "cell_type": "markdown",
      "metadata": {
        "id": "Sf-zHB5Je1Jd"
      },
      "source": [
        "#### Cleaning and Processing comments"
      ]
    },
    {
      "cell_type": "code",
      "execution_count": null,
      "metadata": {
        "id": "jJ4i9XW6Bgtp"
      },
      "outputs": [],
      "source": [
        "len(df.loc[(df['comments'] == 0) ,:])"
      ]
    },
    {
      "cell_type": "code",
      "execution_count": null,
      "metadata": {
        "id": "EyHyWsABAD8H"
      },
      "outputs": [],
      "source": [
        "len(df.loc[(df['comments'].isnull()),:])"
      ]
    },
    {
      "cell_type": "markdown",
      "metadata": {
        "id": "_ZSGOoNj9fSw"
      },
      "source": [
        "Treating the null values and outliers in comments and reshaping the dataset accorrdingly."
      ]
    },
    {
      "cell_type": "code",
      "execution_count": null,
      "metadata": {
        "id": "oJbDhndILNiO"
      },
      "outputs": [],
      "source": [
        "df.drop(df.loc[df['comments'] == 0].index,inplace = True)"
      ]
    },
    {
      "cell_type": "code",
      "execution_count": null,
      "metadata": {
        "id": "OIplWgiYKD7I"
      },
      "outputs": [],
      "source": [
        "df['comments'].fillna(df['comments'].median(),axis=0,inplace = True)"
      ]
    },
    {
      "cell_type": "markdown",
      "metadata": {
        "id": "OtcuaYUUfB7y"
      },
      "source": [
        "#### Cleaning and Processing dates, published_date and recorded_date"
      ]
    },
    {
      "cell_type": "code",
      "execution_count": null,
      "metadata": {
        "id": "EBnDPNTYFp5t"
      },
      "outputs": [],
      "source": [
        "# transforming the recorded_date and published date to datetime data type \n",
        "df['recorded_date'] = pd.to_datetime(df['recorded_date'])\n",
        "df['published_date'] = pd.to_datetime(df['published_date'])"
      ]
    },
    {
      "cell_type": "code",
      "execution_count": null,
      "metadata": {
        "id": "mWqWtr42Hvq7"
      },
      "outputs": [],
      "source": [
        "df['recorded_date'].dtype"
      ]
    },
    {
      "cell_type": "code",
      "execution_count": null,
      "metadata": {
        "id": "JsVzeDnMHzZt"
      },
      "outputs": [],
      "source": [
        "df['published_date'].dtype"
      ]
    },
    {
      "cell_type": "markdown",
      "metadata": {
        "id": "Xtf3CjC6goK7"
      },
      "source": [
        "#### Cleaning and Processing speaker_1, all_speakers and about_speakers"
      ]
    },
    {
      "cell_type": "code",
      "execution_count": null,
      "metadata": {
        "id": "1uTX4hABj0MN"
      },
      "outputs": [],
      "source": [
        "df['speaker_1'].nunique()"
      ]
    },
    {
      "cell_type": "code",
      "execution_count": null,
      "metadata": {
        "id": "Dzx4ToUcn0kj"
      },
      "outputs": [],
      "source": [
        "# get the null values in all_speakers\n",
        "df.loc[df['all_speakers'].isnull()]"
      ]
    },
    {
      "cell_type": "markdown",
      "metadata": {
        "id": "6o1LCcXDjAyN"
      },
      "source": [
        "Since there are nan values in all_speakers for some of the values, but the speaker_1 column for them is populated. Hence we can use that and fill the all_speakers with those values, confining \n"
      ]
    },
    {
      "cell_type": "code",
      "execution_count": null,
      "metadata": {
        "id": "DKDeXns1jxtR"
      },
      "outputs": [],
      "source": [
        "# function to create a string map out of a string for speakers\n",
        "def get_str_map(s):\n",
        "  return str({0:s}) if s is not None else str({0:\"\"})"
      ]
    },
    {
      "cell_type": "code",
      "execution_count": null,
      "metadata": {
        "id": "1EsAx2FxjlCa"
      },
      "outputs": [],
      "source": [
        "df['all_speakers'].fillna(df['speaker_1'].apply(get_str_map),axis=0,inplace = True)"
      ]
    },
    {
      "cell_type": "code",
      "execution_count": null,
      "metadata": {
        "id": "orCKhsV0HFBq"
      },
      "outputs": [],
      "source": [
        "# Wrangling about_speakers\n",
        "# checking the null values in about_speakers\n",
        "df['about_speakers'].isnull().sum()"
      ]
    },
    {
      "cell_type": "markdown",
      "metadata": {
        "id": "LU_D10gAHQ4Z"
      },
      "source": [
        "All speakers for the ted session is highly unlikely to be null as at least one speaker is required for the session to be held. Hence for the null treatment we will populate the colunmns with atleast empty values as we do not have all the names of the speakers of that TED session."
      ]
    },
    {
      "cell_type": "code",
      "execution_count": null,
      "metadata": {
        "id": "kpdGDOjz7DWz"
      },
      "outputs": [],
      "source": [
        "# filling the null values\n",
        "df['about_speakers'].fillna(str({0:''}), axis = 0, inplace = True)"
      ]
    },
    {
      "cell_type": "markdown",
      "metadata": {
        "id": "EgHO0ApBmgVv"
      },
      "source": [
        "#### Cleaning and Processing available_lang and native_lang"
      ]
    },
    {
      "cell_type": "code",
      "execution_count": null,
      "metadata": {
        "id": "lsW5Ua-emmOM"
      },
      "outputs": [],
      "source": [
        "print('Unique native languages in the dataset:- ',list(df['native_lang'].unique()))"
      ]
    },
    {
      "cell_type": "code",
      "execution_count": null,
      "metadata": {
        "id": "Cndl7QkFnejq"
      },
      "outputs": [],
      "source": [
        "df['native_lang'].isnull().sum()"
      ]
    },
    {
      "cell_type": "code",
      "execution_count": null,
      "metadata": {
        "id": "i4pyKDAGRmUv"
      },
      "outputs": [],
      "source": [
        "df['available_lang'].isnull().sum()"
      ]
    },
    {
      "cell_type": "markdown",
      "metadata": {
        "id": "OYIfzvtkpkfJ"
      },
      "source": [
        "As analyzed previosuly as well, no null values found to be in either available_lang or native_lang."
      ]
    },
    {
      "cell_type": "code",
      "execution_count": null,
      "metadata": {
        "id": "OdRKGslInd4F"
      },
      "outputs": [],
      "source": [
        "df['available_lang'] = df['available_lang'].apply(lambda s: eval(s))"
      ]
    },
    {
      "cell_type": "markdown",
      "metadata": {
        "id": "SivXESdtn-k1"
      },
      "source": [
        "We can extrat the total number of languages available from the available_lang variable to finally get an understanding of weightage for popularity or outreach of the TED session."
      ]
    },
    {
      "cell_type": "code",
      "execution_count": null,
      "metadata": {
        "id": "EoG4QkxYnj9F"
      },
      "outputs": [],
      "source": [
        "df['total_avail_langs'] = df['available_lang'].apply(lambda x : len(x))"
      ]
    },
    {
      "cell_type": "code",
      "source": [
        "# checking the number of languages we have available for sessions\n",
        "df.loc[df['total_avail_langs'] <=5]['total_avail_langs'].value_counts()"
      ],
      "metadata": {
        "id": "4zuAEoioS4Ef"
      },
      "execution_count": null,
      "outputs": []
    },
    {
      "cell_type": "markdown",
      "metadata": {
        "id": "7JPt86PJm88K"
      },
      "source": [
        "#### Cleaning and Processing topics"
      ]
    },
    {
      "cell_type": "code",
      "execution_count": null,
      "metadata": {
        "id": "H-faDDm7Bv-6"
      },
      "outputs": [],
      "source": [
        "df['topics'].isnull().sum()"
      ]
    },
    {
      "cell_type": "code",
      "execution_count": null,
      "metadata": {
        "id": "KPxX81o5m_mr"
      },
      "outputs": [],
      "source": [
        "print('Sample: Topics in a session => ',df['topics'][0])"
      ]
    },
    {
      "cell_type": "markdown",
      "metadata": {
        "id": "lYeaapqdrQ7z"
      },
      "source": [
        "Converting topics also to a suitable datatype for extracting the total number of topics discussed for that session."
      ]
    },
    {
      "cell_type": "code",
      "execution_count": null,
      "metadata": {
        "id": "uG-EeGD7rzqM"
      },
      "outputs": [],
      "source": [
        "df['topics'] = df['topics'].apply(lambda s: eval(s))"
      ]
    },
    {
      "cell_type": "code",
      "execution_count": null,
      "metadata": {
        "id": "dgB5Q9GBr9rT"
      },
      "outputs": [],
      "source": [
        "type(df['topics'][0])"
      ]
    },
    {
      "cell_type": "markdown",
      "metadata": {
        "id": "PuCgDEk5uqLM"
      },
      "source": [
        "Getting the total number of topics that were discussed in a session."
      ]
    },
    {
      "cell_type": "code",
      "execution_count": null,
      "metadata": {
        "id": "cj7GcgrTrOwG"
      },
      "outputs": [],
      "source": [
        "df['total_topics'] = df['topics'].apply(lambda s : len(s))"
      ]
    },
    {
      "cell_type": "markdown",
      "metadata": {
        "id": "GF8Ens_Soomf"
      },
      "source": [
        "## ***Data Vizualization, Storytelling & Experimenting with charts : Understand the relationships between variables***"
      ]
    },
    {
      "cell_type": "markdown",
      "metadata": {
        "id": "19eN5uUVx3fC"
      },
      "source": [
        "### UNIVARIATE ANALYSIS"
      ]
    },
    {
      "cell_type": "markdown",
      "metadata": {
        "id": "y47Y9B4WyuAT"
      },
      "source": [
        "#### Plotting Views (int)"
      ]
    },
    {
      "cell_type": "code",
      "execution_count": null,
      "metadata": {
        "id": "V3rnz_0HyuAT"
      },
      "outputs": [],
      "source": [
        "plt.figure(figsize=(7,7))\n",
        "sns.distplot(df['views'])\n",
        "plt.show()"
      ]
    },
    {
      "cell_type": "markdown",
      "metadata": {
        "id": "0PDo4TImz3R-"
      },
      "source": [
        "The data available for views column is positively (right) skewed. "
      ]
    },
    {
      "cell_type": "code",
      "execution_count": null,
      "metadata": {
        "id": "sZNsvilqzQO4"
      },
      "outputs": [],
      "source": [
        "sns.boxplot(np.power(df['views'],1/8))\n",
        "plt.show()"
      ]
    },
    {
      "cell_type": "markdown",
      "metadata": {
        "id": "61ZqyNFR0fKJ"
      },
      "source": [
        "After null and outlier treatment for views no further obstacles can be observed from the boxplot with respect to the data"
      ]
    },
    {
      "cell_type": "code",
      "execution_count": null,
      "metadata": {
        "id": "hMWciY-F0PrS"
      },
      "outputs": [],
      "source": [
        "sns.histplot(df['views'])\n",
        "plt.show()"
      ]
    },
    {
      "cell_type": "code",
      "execution_count": null,
      "metadata": {
        "id": "s1rexbrbIhMx"
      },
      "outputs": [],
      "source": [
        "fig = plt.figure(figsize = (7,7))\n",
        "ax = fig.gca()\n",
        "views = df['views'] \n",
        "views.hist(bins = 50,ax = ax)\n",
        "ax.axvline(views.mean(), color='orange', linestyle='dashed', linewidth=2)\n",
        "ax.axvline(views.median(), color='red', linestyle='dashed', linewidth=2)\n",
        "plt.show()"
      ]
    },
    {
      "cell_type": "markdown",
      "metadata": {
        "id": "F599w8r5yuAU"
      },
      "source": [
        "##### 1. Why did you pick the specific chart?"
      ]
    },
    {
      "cell_type": "markdown",
      "metadata": {
        "id": "eGNCupoUyuAU"
      },
      "source": [
        "To analyze the views column."
      ]
    },
    {
      "cell_type": "markdown",
      "metadata": {
        "id": "RlOabK3cyuAU"
      },
      "source": [
        "##### 2. What is/are the insight(s) found from the chart?"
      ]
    },
    {
      "cell_type": "markdown",
      "metadata": {
        "id": "6-n89dunyuAU"
      },
      "source": [
        "The distribution of views column is positively skewed. And after outlier removal no discrepencies can be found in the data."
      ]
    },
    {
      "cell_type": "markdown",
      "metadata": {
        "id": "jnJDRducyuAU"
      },
      "source": [
        "##### 3. Will the gained insights help creating a positive business impact? \n",
        "Are there any insights that lead to negative growth? Justify with specific reason."
      ]
    },
    {
      "cell_type": "markdown",
      "metadata": {
        "id": "bBJfkB0NyuAZ"
      },
      "source": [
        "The views being the dependent variable from the dataset, if formatted correctly and cleaned thoroughly can help in training the model with relative ease."
      ]
    },
    {
      "cell_type": "markdown",
      "metadata": {
        "id": "tn_vLayW2uW9"
      },
      "source": [
        "#### Plotting comments (int)"
      ]
    },
    {
      "cell_type": "code",
      "execution_count": null,
      "metadata": {
        "id": "GeN_eTGY2uW-"
      },
      "outputs": [],
      "source": [
        "sns.distplot(df['comments'])\n",
        "plt.show()"
      ]
    },
    {
      "cell_type": "code",
      "execution_count": null,
      "metadata": {
        "id": "qNBlsPH5Ffj9"
      },
      "outputs": [],
      "source": [
        "fig = plt.figure(figsize = (7,7))\n",
        "ax = fig.gca()\n",
        "comments = df['comments'] \n",
        "comments.hist(bins = 50,ax = ax)\n",
        "ax.axvline(comments.mean(), color='purple', linestyle='dashed', linewidth=2)\n",
        "ax.axvline(comments.median(), color='brown', linestyle='dashed', linewidth=2)\n",
        "plt.show()"
      ]
    },
    {
      "cell_type": "markdown",
      "metadata": {
        "id": "m05dNY492uW-"
      },
      "source": [
        "##### 1. Why did you pick the specific chart?"
      ]
    },
    {
      "cell_type": "markdown",
      "metadata": {
        "id": "l2UcPKeR2uW-"
      },
      "source": [
        "To gain visual insights about the chart and draw heuristics from it for proceeding with the dataset analysis."
      ]
    },
    {
      "cell_type": "markdown",
      "metadata": {
        "id": "YsRCjSEf2uW-"
      },
      "source": [
        "##### 2. What is/are the insight(s) found from the chart?"
      ]
    },
    {
      "cell_type": "markdown",
      "metadata": {
        "id": "eo9nqw-C2uW-"
      },
      "source": [
        "The comments variable is also positively skewed. The comments provided in low numbers occur most frequently and many of the sessions do not have any comments, i.e, 0 comments/ NaN values. And hene are treated with median replacement for the null values."
      ]
    },
    {
      "cell_type": "markdown",
      "metadata": {
        "id": "cRgenMZy2uW-"
      },
      "source": [
        "##### 3. Will the gained insights help creating a positive business impact? \n",
        "Are there any insights that lead to negative growth? Justify with specific reason."
      ]
    },
    {
      "cell_type": "markdown",
      "metadata": {
        "id": "8MllDHYJ2uW-"
      },
      "source": [
        "The comments can be treated as one of the ways to depict the public feedback rearding the TED session. So the number of comments being higher can provide an impression that the video is engaging for most of the users, and hence can attract further increse in views, creating a sense of interest for the next viewer."
      ]
    },
    {
      "cell_type": "markdown",
      "metadata": {
        "id": "xIk32sAS3Z65"
      },
      "source": [
        "#### Plotting Duration (int)"
      ]
    },
    {
      "cell_type": "code",
      "execution_count": null,
      "metadata": {
        "id": "Vp7vP6wM3Z65"
      },
      "outputs": [],
      "source": [
        "plt.figure(figsize=(7,7))\n",
        "sns.distplot(df['duration'])\n",
        "plt.show()"
      ]
    },
    {
      "cell_type": "code",
      "execution_count": null,
      "metadata": {
        "id": "rZNTHWTI3pp2"
      },
      "outputs": [],
      "source": [
        "plt.figure(figsize=(7,7))\n",
        "sns.boxplot(df['duration'])\n",
        "plt.show()"
      ]
    },
    {
      "cell_type": "code",
      "execution_count": null,
      "metadata": {
        "id": "gjgEpsEY7N9T"
      },
      "outputs": [],
      "source": [
        "plt.figure(figsize=(7,7))\n",
        "sns.histplot(df['duration'])\n",
        "plt.show()"
      ]
    },
    {
      "cell_type": "code",
      "execution_count": null,
      "metadata": {
        "id": "2pCVwMp9Dy3Y"
      },
      "outputs": [],
      "source": [
        "fig = plt.figure(figsize = (7,7))\n",
        "ax = fig.gca()\n",
        "duration = df['duration'] \n",
        "duration.hist(bins = 50,ax = ax)\n",
        "ax.axvline(duration.mean(), color='green', linestyle='dashed', linewidth=2)\n",
        "ax.axvline(duration.median(), color='red', linestyle='dashed', linewidth=2)\n",
        "plt.show()"
      ]
    },
    {
      "cell_type": "markdown",
      "metadata": {
        "id": "brXPNxBc67Ms"
      },
      "source": [
        "##### 1. Why did you pick the specific chart?"
      ]
    },
    {
      "cell_type": "markdown",
      "metadata": {
        "id": "pSmjVfnj67Ms"
      },
      "source": [
        "To gain insights about the duration of the sessions."
      ]
    },
    {
      "cell_type": "markdown",
      "metadata": {
        "id": "jvVsuO4T67Mt"
      },
      "source": [
        "##### 2. What is/are the insight(s) found from the chart?"
      ]
    },
    {
      "cell_type": "markdown",
      "metadata": {
        "id": "OSdnL3hg67Mt"
      },
      "source": [
        "The count of TED sessions with high duration is very rare but not in a outlier state of existence, as we can see many variations of count through the visualizations."
      ]
    },
    {
      "cell_type": "markdown",
      "metadata": {
        "id": "xtt0rZov67Mt"
      },
      "source": [
        "##### 3. Will the gained insights help creating a positive business impact? \n",
        "Are there any insights that lead to negative growth? Justify with specific reason."
      ]
    },
    {
      "cell_type": "markdown",
      "metadata": {
        "id": "KhOSYpBL67Mt"
      },
      "source": [
        "The ambiguous decision would be that longer session would attract more viewers or shorter session would. As from a layman perspective the shorter the session would be the more perferred by a viewer on average, and for some considerable perentage of viewers on the hand would prefer the sessions to be a bit longer. Yet the proportionality completely depends on the user preference here."
      ]
    },
    {
      "cell_type": "markdown",
      "metadata": {
        "id": "fxfhokmvyHh2"
      },
      "source": [
        "### BI-VARIATE ANALYSIS"
      ]
    },
    {
      "cell_type": "markdown",
      "metadata": {
        "id": "WQ37BbjvCV4O"
      },
      "source": [
        "#### Scatter plot numerical variables V/S views"
      ]
    },
    {
      "cell_type": "code",
      "execution_count": null,
      "metadata": {
        "id": "kE3BBJwVCV4P"
      },
      "outputs": [],
      "source": [
        "for var in df.describe().columns[2:]:\n",
        "  fig = plt.figure(figsize = (10,8))\n",
        "  ax = fig.gca()\n",
        "  feature = df[var]\n",
        "  plt.xlabel(var)\n",
        "  plt.ylabel('views')\n",
        "  ax.set_title(var+' V/S views')\n",
        "  plt.scatter(x = feature, y = df['views'])\n",
        "  lse = np.polyfit(df[var],df['views'],1)\n",
        "  yh = np.poly1d(lse)(df[var])\n",
        "\n",
        "  plt.plot(df[var],yh,'r--',lw = 1)\n",
        "plt.show()"
      ]
    },
    {
      "cell_type": "markdown",
      "metadata": {
        "id": "4viOgUd2CV4P"
      },
      "source": [
        "##### 1. Why did you pick the specific chart?"
      ]
    },
    {
      "cell_type": "markdown",
      "metadata": {
        "id": "edufFo8mCV4P"
      },
      "source": [
        "To gain insights about the numerical variables v/s the views."
      ]
    },
    {
      "cell_type": "markdown",
      "metadata": {
        "id": "Y_i3T8HoCV4P"
      },
      "source": [
        "##### 2. What is/are the insight(s) found from the chart?"
      ]
    },
    {
      "cell_type": "markdown",
      "metadata": {
        "id": "4iOcw_P4CV4P"
      },
      "source": [
        "The views have relative correlation with the numerical variables."
      ]
    },
    {
      "cell_type": "markdown",
      "metadata": {
        "id": "yDw1tk9PCw8l"
      },
      "source": [
        "#### Language V/S Views\n"
      ]
    },
    {
      "cell_type": "code",
      "execution_count": null,
      "metadata": {
        "id": "rOSMCe9dCw8m"
      },
      "outputs": [],
      "source": [
        "# langs vs views\n",
        "lang_views = df.groupby(['native_lang'],as_index = False)['views'].max().sort_values('views',ascending = False)\n",
        "sns.barplot(data = lang_views, x = 'native_lang', y = 'views')\n",
        "plt.show()"
      ]
    },
    {
      "cell_type": "markdown",
      "metadata": {
        "id": "BZAsVHcFCw8m"
      },
      "source": [
        "##### 1. Why did you pick the specific chart?"
      ]
    },
    {
      "cell_type": "markdown",
      "metadata": {
        "id": "M07Mzxx7Cw8m"
      },
      "source": [
        "Answer Here."
      ]
    },
    {
      "cell_type": "markdown",
      "metadata": {
        "id": "_juznjk_Cw8m"
      },
      "source": [
        "##### 2. What is/are the insight(s) found from the chart?"
      ]
    },
    {
      "cell_type": "markdown",
      "metadata": {
        "id": "P99os1zYCw8m"
      },
      "source": [
        "Answer Here"
      ]
    },
    {
      "cell_type": "markdown",
      "metadata": {
        "id": "Xe9J0-o1Cw8m"
      },
      "source": [
        "##### 3. Will the gained insights help creating a positive business impact? \n",
        "Are there any insights that lead to negative growth? Justify with specific reason."
      ]
    },
    {
      "cell_type": "markdown",
      "metadata": {
        "id": "RXbMWfcBCw8m"
      },
      "source": [
        "Answer Here"
      ]
    },
    {
      "cell_type": "markdown",
      "metadata": {
        "id": "rqRerQUXCylD"
      },
      "source": [
        "#### Speaker V/S Views"
      ]
    },
    {
      "cell_type": "code",
      "execution_count": null,
      "metadata": {
        "id": "omcbG41Lz3ka"
      },
      "outputs": [],
      "source": [
        "print('Three are ',df['speaker_1'].nunique(),' speakers in the dataset of ',len(df['talk_id']))"
      ]
    },
    {
      "cell_type": "code",
      "execution_count": null,
      "metadata": {
        "id": "ushZTYadCylD"
      },
      "outputs": [],
      "source": [
        "# speakers vs views\n",
        "# speaker_views = df[['speaker_1','views']].sort_values(by='views',ascending = False)\n",
        "speaker_views = df.groupby(by = ['speaker_1'],as_index = False)['views'].mean().sort_values(by = 'views',ascending = False).rename(columns = {'speaker_1':'primary_speaker'})"
      ]
    },
    {
      "cell_type": "code",
      "execution_count": null,
      "metadata": {
        "id": "dOtw4L5exg1H"
      },
      "outputs": [],
      "source": [
        "# TOP 10 speakers with highest views average\n",
        "top_speakers = speaker_views.iloc[:10]\n",
        "top_speakers"
      ]
    },
    {
      "cell_type": "code",
      "execution_count": null,
      "metadata": {
        "id": "mfb7gScyxuOM"
      },
      "outputs": [],
      "source": [
        "plt.figure(figsize = (15,10))\n",
        "sns.barplot(data = top_speakers,x = 'primary_speaker',y='views')\n",
        "plt.show()"
      ]
    },
    {
      "cell_type": "markdown",
      "metadata": {
        "id": "OYd3b3NmCylD"
      },
      "source": [
        "##### 1. Why did you pick the specific chart?"
      ]
    },
    {
      "cell_type": "markdown",
      "metadata": {
        "id": "cpSfDXK8CylD"
      },
      "source": [
        "This chart gives information regarding the sessions with the highest average of views on the basis of primary speakers."
      ]
    },
    {
      "cell_type": "markdown",
      "metadata": {
        "id": "Db1LDPq-CylE"
      },
      "source": [
        "##### 2. What is/are the insight(s) found from the chart?"
      ]
    },
    {
      "cell_type": "markdown",
      "metadata": {
        "id": "a_LrR154CylE"
      },
      "source": [
        "From the top 10 speakers of the dataset, the speaker with highest average of views are `Amy Cuddy`, `James Veitch` and, `Tim Urban`."
      ]
    },
    {
      "cell_type": "markdown",
      "metadata": {
        "id": "LYg1F6fpCylE"
      },
      "source": [
        "##### 3. Will the gained insights help creating a positive business impact? \n",
        "Are there any insights that lead to negative growth? Justify with specific reason."
      ]
    },
    {
      "cell_type": "markdown",
      "metadata": {
        "id": "d5ImV46sCylE"
      },
      "source": [
        "This chart here tells us that average views gained by a speaker and hence can help us identify the speaker with higher demand related to other speakers."
      ]
    },
    {
      "cell_type": "markdown",
      "metadata": {
        "id": "hluX-TGovEuB"
      },
      "source": [
        "#### Speakers V/S Duration\n"
      ]
    },
    {
      "cell_type": "code",
      "execution_count": null,
      "metadata": {
        "id": "zm9QI1c3vEuB"
      },
      "outputs": [],
      "source": [
        "speaker_duration = df.groupby('speaker_1',as_index = False)['duration'].mean().sort_values(by = 'duration', ascending = False).rename(columns = {'speaker_1':'primary_speaker'})"
      ]
    },
    {
      "cell_type": "code",
      "execution_count": null,
      "metadata": {
        "id": "Chk49z1QG2Uz"
      },
      "outputs": [],
      "source": [
        "top_speaker_duration = speaker_duration.iloc[:5]"
      ]
    },
    {
      "cell_type": "code",
      "execution_count": null,
      "metadata": {
        "id": "BfLtz8sJHBKS"
      },
      "outputs": [],
      "source": [
        "top_speaker_duration"
      ]
    },
    {
      "cell_type": "code",
      "execution_count": null,
      "metadata": {
        "id": "faNP77vMGsjB"
      },
      "outputs": [],
      "source": [
        "plt.figure(figsize = (8,8))\n",
        "sns.barplot(data = top_speaker_duration, x = 'primary_speaker', y = 'duration')\n",
        "plt.show()"
      ]
    },
    {
      "cell_type": "markdown",
      "metadata": {
        "id": "SoRX2HXUvEuB"
      },
      "source": [
        "##### 1. Why did you pick the specific chart?"
      ]
    },
    {
      "cell_type": "markdown",
      "metadata": {
        "id": "6D69OXUxvEuB"
      },
      "source": [
        "To get information about the speakers with highest average duration."
      ]
    },
    {
      "cell_type": "markdown",
      "metadata": {
        "id": "R0OZwaptvEuB"
      },
      "source": [
        "##### 2. What is/are the insight(s) found from the chart?"
      ]
    },
    {
      "cell_type": "markdown",
      "metadata": {
        "id": "6duBjp-evEuC"
      },
      "source": [
        "The speakers with highest average duration of sessions among the top 5 are `Danielle Allen`, `Michael Moschen` and, `Gary Liu`."
      ]
    },
    {
      "cell_type": "markdown",
      "metadata": {
        "id": "bEA_3-0lvEuC"
      },
      "source": [
        "##### 3. Will the gained insights help creating a positive business impact? \n",
        "Are there any insights that lead to negative growth? Justify with specific reason."
      ]
    },
    {
      "cell_type": "markdown",
      "metadata": {
        "id": "1WdXP4uCvEuC"
      },
      "source": [
        "The sessions with speakers who are capable of speaking more than the average speakers can be more informative for the audience and hence influence the viewers to expect videos of that speaker and the next sessions of the speaker can possibly get increment in the count of views."
      ]
    },
    {
      "cell_type": "markdown",
      "metadata": {
        "id": "WIz9tqgKMjg6"
      },
      "source": [
        "#### Event V/S Views"
      ]
    },
    {
      "cell_type": "code",
      "execution_count": null,
      "metadata": {
        "id": "W5j8zqI9Mjg7"
      },
      "outputs": [],
      "source": [
        "event_views = df.groupby('event',as_index = False)['views'].mean().sort_values(by = 'views',ascending = False)\n",
        "# plt.show()"
      ]
    },
    {
      "cell_type": "code",
      "execution_count": null,
      "metadata": {
        "id": "Q06NSKZVcGer"
      },
      "outputs": [],
      "source": [
        "top_event_views = event_views[:5]\n",
        "top_event_views"
      ]
    },
    {
      "cell_type": "code",
      "execution_count": null,
      "metadata": {
        "id": "MJm0L6XccWLZ"
      },
      "outputs": [],
      "source": [
        "plt.figure(figsize = (10,7))\n",
        "sns.barplot(data = top_event_views, x = 'event', y = 'views')\n",
        "plt.show()"
      ]
    },
    {
      "cell_type": "markdown",
      "metadata": {
        "id": "38L4yHmzMjg7"
      },
      "source": [
        "##### 1. Why did you pick the specific chart?"
      ]
    },
    {
      "cell_type": "markdown",
      "metadata": {
        "id": "4ErL2NsoMjg7"
      },
      "source": [
        "This chart helps in understanding the events with respect to their average views. Here we have the top 5 topics views with the highest average views."
      ]
    },
    {
      "cell_type": "markdown",
      "metadata": {
        "id": "9PAVJCMwMjg7"
      },
      "source": [
        "##### 2. What is/are the insight(s) found from the chart?"
      ]
    },
    {
      "cell_type": "markdown",
      "metadata": {
        "id": "E9DuYEE5Mjg7"
      },
      "source": [
        "Among the top 5 topics `TEDxPuget Sound` ,`TEDxHull` ,`TEDxHouston` have the highest average views."
      ]
    },
    {
      "cell_type": "markdown",
      "metadata": {
        "id": "4-3N9-QTMjg7"
      },
      "source": [
        "##### 3. Will the gained insights help creating a positive business impact? \n",
        "Are there any insights that lead to negative growth? Justify with specific reason."
      ]
    },
    {
      "cell_type": "markdown",
      "metadata": {
        "id": "fcQpIoxrMjg7"
      },
      "source": [
        "The events (venue) can be possibly a factor influencing the count of people arriving to actually attend the session. As the more number of people arrive to attend the session, the higher popularity of the speaker, leading to more number of views or rewatch count when published."
      ]
    },
    {
      "cell_type": "markdown",
      "metadata": {
        "id": "lmWKQwcJybbN"
      },
      "source": [
        "### MULTI-VARIATE ANALYSIS"
      ]
    },
    {
      "cell_type": "markdown",
      "metadata": {
        "id": "0V3mk5kYyhp1"
      },
      "source": [
        "#### CORRELATION and HEATMAP\n",
        "\n"
      ]
    },
    {
      "cell_type": "markdown",
      "metadata": {
        "id": "NC_X3p0fY2L0"
      },
      "source": [
        "#### Correlation Heatmap"
      ]
    },
    {
      "cell_type": "code",
      "execution_count": null,
      "metadata": {
        "id": "xyC9zolEZNRQ"
      },
      "outputs": [],
      "source": [
        "# Correlation Heatmap visualization code\n",
        "plt.figure(figsize = (12,8))\n",
        "sns.heatmap(abs(df.corr()),annot = True, cmap = 'coolwarm')\n",
        "plt.show()"
      ]
    },
    {
      "cell_type": "markdown",
      "metadata": {
        "id": "UV0SzAkaZNRQ"
      },
      "source": [
        "##### 1. Why did you pick the specific chart?"
      ]
    },
    {
      "cell_type": "markdown",
      "metadata": {
        "id": "DVPuT8LYZNRQ"
      },
      "source": [
        "To gain insights about the correlation of the varaibles, specifically with respect to views."
      ]
    },
    {
      "cell_type": "markdown",
      "metadata": {
        "id": "YPEH6qLeZNRQ"
      },
      "source": [
        "##### 2. What is/are the insight(s) found from the chart?"
      ]
    },
    {
      "cell_type": "markdown",
      "metadata": {
        "id": "bfSqtnDqZNRR"
      },
      "source": [
        "The variables promoting multicollinearity need to be eliminated."
      ]
    },
    {
      "cell_type": "markdown",
      "metadata": {
        "id": "q29F0dvdveiT"
      },
      "source": [
        "#### Chart - 15 - Pair Plot "
      ]
    },
    {
      "cell_type": "code",
      "execution_count": null,
      "metadata": {
        "id": "o58-TEIhveiU"
      },
      "outputs": [],
      "source": [
        "# Pair Plot visualization code\n",
        "sns.pairplot(data = df[['comments','duration','total_topics','total_avail_langs','views']],hue = 'views')\n",
        "plt.show()"
      ]
    },
    {
      "cell_type": "markdown",
      "metadata": {
        "id": "EXh0U9oCveiU"
      },
      "source": [
        "##### Why did you pick the specific chart?"
      ]
    },
    {
      "cell_type": "markdown",
      "metadata": {
        "id": "eMmPjTByveiU"
      },
      "source": [
        "To gain insights about the relations between the numerica variables and views."
      ]
    },
    {
      "cell_type": "markdown",
      "metadata": {
        "id": "yLjJCtPM0KBk"
      },
      "source": [
        "## ***Feature Engineering***"
      ]
    },
    {
      "cell_type": "markdown",
      "metadata": {
        "id": "FYIfJkhwUChH"
      },
      "source": [
        "**NOTE**: *Null value treatment, outlier treatement should be done before visulizations to get the best analysis possible and therefore, has been done in the pre processing wrangling steps iteslf.*"
      ]
    },
    {
      "cell_type": "markdown",
      "metadata": {
        "id": "BO2cqEBNDIrf"
      },
      "source": [
        "### Data transformation, Feature Manipulation and Selection"
      ]
    },
    {
      "cell_type": "markdown",
      "metadata": {
        "id": "qj46T8bBIh3i"
      },
      "source": [
        "#### Getting average views of a speaker"
      ]
    },
    {
      "cell_type": "code",
      "execution_count": null,
      "metadata": {
        "id": "eFFLhRMDEntx"
      },
      "outputs": [],
      "source": [
        "df[['speaker_1','views']].head(5)"
      ]
    },
    {
      "cell_type": "markdown",
      "metadata": {
        "id": "SSLFT9ROP7eR"
      },
      "source": [
        "If we notice closely some speaker_1 values have trailing space of tab spaces in them causing an issue when trying to fetch the values"
      ]
    },
    {
      "cell_type": "code",
      "execution_count": null,
      "metadata": {
        "id": "sdKa3Q7CQ2ok"
      },
      "outputs": [],
      "source": [
        "df['speaker_1'].apply(lambda s : s.endswith(' ') or s.startswith(' ')).sum()"
      ]
    },
    {
      "cell_type": "code",
      "execution_count": null,
      "metadata": {
        "id": "FWzJTCtGQMh9"
      },
      "outputs": [],
      "source": [
        "df[df.speaker_1 == ' BLACK']"
      ]
    },
    {
      "cell_type": "code",
      "execution_count": null,
      "metadata": {
        "id": "hw_2gD2UQfa7"
      },
      "outputs": [],
      "source": [
        "# getting strictly the name only in the string\n",
        "df['speaker_1'] = df.speaker_1.apply(lambda a: a.strip())"
      ]
    },
    {
      "cell_type": "code",
      "execution_count": null,
      "metadata": {
        "id": "YbzNg9bjC-Hy"
      },
      "outputs": [],
      "source": [
        "# Using groupby to get the speaker_1 average views faster\n",
        "speaker_avg_views = df.groupby(by = ['speaker_1'],as_index = False)['views'].mean()"
      ]
    },
    {
      "cell_type": "code",
      "execution_count": null,
      "metadata": {
        "id": "ZgUAPSIDEwZ4"
      },
      "outputs": [],
      "source": [
        "# Setting the index to speaker_1 to get it as key\n",
        "speaker_avg_views.set_index('speaker_1',inplace = True)"
      ]
    },
    {
      "cell_type": "code",
      "execution_count": null,
      "metadata": {
        "id": "r5aiJQ3VDg3n"
      },
      "outputs": [],
      "source": [
        "# create a dict with speaker_1 as its key\n",
        "speaker_avg_views = speaker_avg_views.to_dict(orient = 'index')"
      ]
    },
    {
      "cell_type": "code",
      "execution_count": null,
      "metadata": {
        "id": "lmzkaW8UFBuv"
      },
      "outputs": [],
      "source": [
        "# Picking up some random value to confirm the dict is formed or not\n",
        "speaker_avg_views['Al Gore']['views']"
      ]
    },
    {
      "cell_type": "code",
      "execution_count": null,
      "metadata": {
        "id": "eKlxNG0WFPVL"
      },
      "outputs": [],
      "source": [
        "# initializing the column\n",
        "df['speaker_avg_views'] = 0"
      ]
    },
    {
      "cell_type": "code",
      "execution_count": null,
      "metadata": {
        "id": "Q3bjzWLcOcmR"
      },
      "outputs": [],
      "source": [
        "# function to get the speaker_avg_views\n",
        "def get_speaker_avg_views(speaker):\n",
        "  return speaker_avg_views[speaker]['views']"
      ]
    },
    {
      "cell_type": "code",
      "execution_count": null,
      "metadata": {
        "id": "RXgfhi59Ju6k"
      },
      "outputs": [],
      "source": [
        "# add the values to the dataframe\n",
        "df['speaker_avg_views'] = df['speaker_1'].apply(get_speaker_avg_views)"
      ]
    },
    {
      "cell_type": "code",
      "execution_count": null,
      "metadata": {
        "id": "2Z8zVLXIJ3TC"
      },
      "outputs": [],
      "source": [
        "df['speaker_avg_views'].isnull().sum()"
      ]
    },
    {
      "cell_type": "markdown",
      "metadata": {
        "id": "rU0nDMSbIMXE"
      },
      "source": [
        "We had already handled all the null values so no null values are expected to be present in the processed column here."
      ]
    },
    {
      "cell_type": "markdown",
      "metadata": {
        "id": "ZU9dBt2-M95a"
      },
      "source": [
        "#### Getting speaker's average duration"
      ]
    },
    {
      "cell_type": "code",
      "execution_count": null,
      "metadata": {
        "id": "zLGt906TNDOR"
      },
      "outputs": [],
      "source": [
        "speaker_avg_duration = df.groupby('speaker_1', as_index = False)['duration'].mean()"
      ]
    },
    {
      "cell_type": "code",
      "execution_count": null,
      "metadata": {
        "id": "dD-4f8J3NwQe"
      },
      "outputs": [],
      "source": [
        "speaker_avg_duration.head()"
      ]
    },
    {
      "cell_type": "code",
      "execution_count": null,
      "metadata": {
        "id": "6AcMNIUsN3rg"
      },
      "outputs": [],
      "source": [
        "avg_speaker_duration_map = {}\n",
        "for idx,row in speaker_avg_duration.iterrows():\n",
        "  avg_speaker_duration_map[row['speaker_1']] = row['duration']"
      ]
    },
    {
      "cell_type": "code",
      "execution_count": null,
      "metadata": {
        "id": "t5R4_QnJOLza"
      },
      "outputs": [],
      "source": [
        "def get_speaker_avg_duration(s):\n",
        "  return avg_speaker_duration_map[s]"
      ]
    },
    {
      "cell_type": "code",
      "execution_count": null,
      "metadata": {
        "id": "sA5kD7uBOiOz"
      },
      "outputs": [],
      "source": [
        "df['speaker_avg_duration'] = df['speaker_1'].apply(get_speaker_avg_duration)"
      ]
    },
    {
      "cell_type": "code",
      "execution_count": null,
      "metadata": {
        "id": "EhR6-X4xOo1e"
      },
      "outputs": [],
      "source": [
        "# taking a look at speaker average duration\n",
        "df[['speaker_1','speaker_avg_duration']].head()"
      ]
    },
    {
      "cell_type": "code",
      "execution_count": null,
      "metadata": {
        "id": "YTCxX3ppNg5O"
      },
      "outputs": [],
      "source": [
        "df['speaker_avg_duration'].isnull().sum()"
      ]
    },
    {
      "cell_type": "code",
      "execution_count": null,
      "metadata": {
        "id": "dvJaj131UuIP"
      },
      "outputs": [],
      "source": []
    },
    {
      "cell_type": "markdown",
      "metadata": {
        "id": "ET9vTkdlId0h"
      },
      "source": [
        "#### Getting average views based on the event"
      ]
    },
    {
      "cell_type": "code",
      "execution_count": null,
      "metadata": {
        "id": "i0nhrqOCJD7z"
      },
      "outputs": [],
      "source": [
        "df['event'].nunique()"
      ]
    },
    {
      "cell_type": "code",
      "execution_count": null,
      "metadata": {
        "id": "BFARF4gNJbRQ"
      },
      "outputs": [],
      "source": [
        "event_avg_views = df.groupby('event',as_index = False)['views'].mean()"
      ]
    },
    {
      "cell_type": "code",
      "execution_count": null,
      "metadata": {
        "id": "o8VLIunPJyck"
      },
      "outputs": [],
      "source": [
        "event_avg_views.head(10)"
      ]
    },
    {
      "cell_type": "code",
      "execution_count": null,
      "metadata": {
        "id": "n7vsYapyKK71"
      },
      "outputs": [],
      "source": [
        "event_avg_views_map = {}\n",
        "for idx,row in event_avg_views.iterrows():\n",
        "  event_avg_views_map[row['event']] = row['views']"
      ]
    },
    {
      "cell_type": "code",
      "execution_count": null,
      "metadata": {
        "id": "1Q2B9LvRKgyh"
      },
      "outputs": [],
      "source": [
        "def get_event_avg_views(s):\n",
        "  return event_avg_views_map[s]"
      ]
    },
    {
      "cell_type": "code",
      "execution_count": null,
      "metadata": {
        "id": "iy3-TrHxKupO"
      },
      "outputs": [],
      "source": [
        "df['event_avg_views'] = df['event'].apply(get_event_avg_views)"
      ]
    },
    {
      "cell_type": "code",
      "execution_count": null,
      "metadata": {
        "id": "ykZq03CyK2EC"
      },
      "outputs": [],
      "source": [
        "# taking a look at the event average views\n",
        "df[['event','event_avg_views']].tail(10)"
      ]
    },
    {
      "cell_type": "markdown",
      "metadata": {
        "id": "qAlOLIXDJ01y"
      },
      "source": [
        "Most of the events are repeated for a session hence we can see that there will be obvious repitition for the average number of views for that event and that should not distrurb the coefficients negatively while training the model(s)."
      ]
    },
    {
      "cell_type": "markdown",
      "metadata": {
        "id": "9qyC7GllI2gx"
      },
      "source": [
        "#### Getting transcript total weight"
      ]
    },
    {
      "cell_type": "code",
      "execution_count": null,
      "metadata": {
        "id": "NbyOEQycLv_b"
      },
      "outputs": [],
      "source": [
        "df['transcript'].isnull().sum()"
      ]
    },
    {
      "cell_type": "code",
      "execution_count": null,
      "metadata": {
        "id": "yMotbM6zMBtx"
      },
      "outputs": [],
      "source": [
        "df['transcript_weight'] = df['transcript'].apply(lambda t: len(str(t)))"
      ]
    },
    {
      "cell_type": "code",
      "execution_count": null,
      "metadata": {
        "id": "bl71pMhlMQVc"
      },
      "outputs": [],
      "source": [
        "# taking a look at the transcript weights\n",
        "df[['speaker_1','transcript','transcript_weight']].head(10)"
      ]
    },
    {
      "cell_type": "markdown",
      "metadata": {
        "id": "weKne7TkfKpE"
      },
      "source": [
        "#### Getting related_topics views"
      ]
    },
    {
      "cell_type": "markdown",
      "metadata": {
        "id": "P4bUjofhfpxM"
      },
      "source": [
        "As metioned in the variables description we have talk_id vs topics in related topics in an dictionar format.\n",
        "\n",
        "We can extract each topic and get the average of views."
      ]
    },
    {
      "cell_type": "code",
      "execution_count": null,
      "metadata": {
        "id": "IEzWaxoUfO9u"
      },
      "outputs": [],
      "source": [
        "df['related_talks'][0:5]"
      ]
    },
    {
      "cell_type": "code",
      "execution_count": null,
      "metadata": {
        "id": "g31-iXMGfbVk"
      },
      "outputs": [],
      "source": [
        "type(df['related_talks'][0])"
      ]
    },
    {
      "cell_type": "code",
      "execution_count": null,
      "metadata": {
        "id": "OA_VR9PvgiVa"
      },
      "outputs": [],
      "source": [
        "df['related_talks'] = df['related_talks'].apply(lambda t: eval(t))"
      ]
    },
    {
      "cell_type": "code",
      "execution_count": null,
      "metadata": {
        "id": "CnXTbJA9gq_m"
      },
      "outputs": [],
      "source": [
        "# extracting all the talk_id of each session separately for faster execution\n",
        "talk_ids = df['talk_id']"
      ]
    },
    {
      "cell_type": "code",
      "execution_count": null,
      "metadata": {
        "id": "eE-2U0nFjlkU"
      },
      "outputs": [],
      "source": [
        "# creating a new column\n",
        "df['related_views'] = 0"
      ]
    },
    {
      "cell_type": "code",
      "execution_count": null,
      "metadata": {
        "id": "eP6gwF5lhkNG"
      },
      "outputs": [],
      "source": [
        "# going throuh each session and fetching all related topic ids and then views of those topics\n",
        "for idx, row in df.iterrows():\n",
        "  t_ids_ = list(row['related_talks'].keys())\n",
        "  views_sum = 0\n",
        "  len_t = len(t_ids_)\n",
        "\n",
        "  # getting views of each related topic \n",
        "  views_sum = np.array(df.loc[(df['talk_id'].isin(t_ids_))]['views'].values).sum()\n",
        "\n",
        "  df.loc[idx,'related_views'] = views_sum//len_t"
      ]
    },
    {
      "cell_type": "code",
      "execution_count": null,
      "metadata": {
        "id": "Lit2Zg3ai3PQ"
      },
      "outputs": [],
      "source": [
        "df['related_views']"
      ]
    },
    {
      "cell_type": "markdown",
      "metadata": {
        "id": "NzG0GpdBhi1F"
      },
      "source": [
        "#### Getting description words count for each session"
      ]
    },
    {
      "cell_type": "code",
      "execution_count": null,
      "metadata": {
        "id": "Ux4v9SXqhpHq"
      },
      "outputs": [],
      "source": [
        "df['description'].isnull().sum()"
      ]
    },
    {
      "cell_type": "code",
      "execution_count": null,
      "metadata": {
        "id": "kDk6jW00h1E2"
      },
      "outputs": [],
      "source": [
        "# fetching the words count for description of a TED session\n",
        "df['desc_count'] = df['description'].apply(lambda s: len(str(s).split()))"
      ]
    },
    {
      "cell_type": "code",
      "execution_count": null,
      "metadata": {
        "id": "mafa6XqoiMG6"
      },
      "outputs": [],
      "source": [
        "df['desc_count'].head(10)"
      ]
    },
    {
      "cell_type": "code",
      "execution_count": null,
      "metadata": {
        "id": "jiabkJ8Qh9_p"
      },
      "outputs": [],
      "source": []
    },
    {
      "cell_type": "markdown",
      "metadata": {
        "id": "BBBEY8Grhu5p"
      },
      "source": [
        "#### Getting average views based on each topic "
      ]
    },
    {
      "cell_type": "code",
      "execution_count": null,
      "metadata": {
        "id": "EJqkqNUxpCZl"
      },
      "outputs": [],
      "source": [
        "def get_unique_topics(topics_matrix):\n",
        "  unique_topics_all = set()\n",
        "\n",
        "  for topics in topics_matrix:\n",
        "    [unique_topics_all.add(topic) for topic in topics if topic not in unique_topics_all]\n",
        "  return list(unique_topics_all)"
      ]
    },
    {
      "cell_type": "code",
      "execution_count": null,
      "metadata": {
        "id": "RNAiA22HsQiD"
      },
      "outputs": [],
      "source": [
        "all_topics_unique = get_unique_topics(df['topics'])"
      ]
    },
    {
      "cell_type": "code",
      "execution_count": null,
      "metadata": {
        "id": "fW3YO0RRsiQ6"
      },
      "outputs": [],
      "source": [
        "len(all_topics_unique)"
      ]
    },
    {
      "cell_type": "code",
      "execution_count": null,
      "metadata": {
        "id": "x_NjaPw_spss"
      },
      "outputs": [],
      "source": [
        "topic_v_views = {}\n",
        "\n",
        "for unique_topic in all_topics_unique:\n",
        "  topic_len = 0\n",
        "  views_t = 0\n",
        "  for idx, row in df.iterrows():\n",
        "    topic = df['topics'][idx]\n",
        "    if unique_topic in topic:\n",
        "      views_t += df['views'][idx]\n",
        "      topic_len += 1\n",
        "  topic_v_views[unique_topic] = views_t//topic_len"
      ]
    },
    {
      "cell_type": "code",
      "execution_count": null,
      "metadata": {
        "id": "9zvekemlyjJo"
      },
      "outputs": [],
      "source": [
        "df['avg_views_per_topic'] = 0\n",
        "\n",
        "for idx,row in df.iterrows():\n",
        "  views_t = 0\n",
        "  topics = df['topics'][idx]\n",
        "\n",
        "  for topic in topics:\n",
        "    views_t += topic_v_views[topic]\n",
        "\n",
        "  df['avg_views_per_topic'][idx] = views_t//len(topics)"
      ]
    },
    {
      "cell_type": "code",
      "execution_count": null,
      "metadata": {
        "id": "9aw3FxYO1fmP"
      },
      "outputs": [],
      "source": [
        "df[['speaker_1','avg_views_per_topic']]"
      ]
    },
    {
      "cell_type": "markdown",
      "metadata": {
        "id": "WrLI1PQvCrLo"
      },
      "source": [
        "#### Processing the published date into date, month, year and weekday"
      ]
    },
    {
      "cell_type": "code",
      "execution_count": null,
      "metadata": {
        "id": "VFMfjfwwCJIv"
      },
      "outputs": [],
      "source": [
        "df['day'] = df['published_date'].apply(lambda d: d.day)"
      ]
    },
    {
      "cell_type": "code",
      "execution_count": null,
      "metadata": {
        "id": "MEOoq_2NC6NZ"
      },
      "outputs": [],
      "source": [
        "df['month'] = df['published_date'].apply(lambda d: d.month)"
      ]
    },
    {
      "cell_type": "code",
      "execution_count": null,
      "metadata": {
        "id": "ScgqRicPDG3i"
      },
      "outputs": [],
      "source": [
        "df['year'] = df['published_date'].apply(lambda d: d.year)"
      ]
    },
    {
      "cell_type": "code",
      "execution_count": null,
      "metadata": {
        "id": "tw7ALnd9DdG8"
      },
      "outputs": [],
      "source": [
        "df['weekday'] = df['published_date'].apply(lambda d: d.weekday())"
      ]
    },
    {
      "cell_type": "code",
      "execution_count": null,
      "metadata": {
        "id": "7uMJdATNDiOI"
      },
      "outputs": [],
      "source": [
        "df[['speaker_1','published_date','year','month','day','weekday']].head(5)"
      ]
    },
    {
      "cell_type": "code",
      "execution_count": null,
      "metadata": {
        "id": "D0ezUVsrymnI"
      },
      "outputs": [],
      "source": [
        "df.columns"
      ]
    },
    {
      "cell_type": "markdown",
      "metadata": {
        "id": "VZLI01THgapa"
      },
      "source": [
        "#### Getting whether the published day is weekend (Friday, Saturday or Sunday)"
      ]
    },
    {
      "cell_type": "code",
      "execution_count": null,
      "metadata": {
        "id": "WLEm1Vsfgl3j"
      },
      "outputs": [],
      "source": [
        "df['is_friday'] = df['weekday'].apply(lambda d: 1 if d == 4 else 0)"
      ]
    },
    {
      "cell_type": "code",
      "execution_count": null,
      "metadata": {
        "id": "_lkc-KuIhurx"
      },
      "outputs": [],
      "source": [
        "df['is_saturday'] = df['weekday'].apply(lambda d: 1 if d == 5 else 0)"
      ]
    },
    {
      "cell_type": "code",
      "execution_count": null,
      "metadata": {
        "id": "6iCOVYz_h2Q5"
      },
      "outputs": [],
      "source": [
        "df['is_sunday'] = df['weekday'].apply(lambda d: 1 if d == 6 else 0)"
      ]
    },
    {
      "cell_type": "markdown",
      "source": [
        "#### Getting year gap based on published date of the session"
      ],
      "metadata": {
        "id": "ksYYgajHgsi7"
      }
    },
    {
      "cell_type": "code",
      "source": [
        "current_year = datetime.today().year"
      ],
      "metadata": {
        "id": "Svz11zzqg3Oa"
      },
      "execution_count": null,
      "outputs": []
    },
    {
      "cell_type": "code",
      "source": [
        "df['cur_vs_pub_year'] = current_year - df['year'] "
      ],
      "metadata": {
        "id": "S9RXqwVGg7_C"
      },
      "execution_count": null,
      "outputs": []
    },
    {
      "cell_type": "code",
      "source": [
        "# take a look at the variable\n",
        "df[['speaker_1','cur_vs_pub_year']]"
      ],
      "metadata": {
        "id": "uGd-sr6yhg14"
      },
      "execution_count": null,
      "outputs": []
    },
    {
      "cell_type": "markdown",
      "source": [
        "#### Getting views on per year basis"
      ],
      "metadata": {
        "id": "QXMbhpCT--HU"
      }
    },
    {
      "cell_type": "code",
      "source": [
        "df['views_per_annum']  = df['views'] // df['cur_vs_pub_year']"
      ],
      "metadata": {
        "id": "9XVU-2FxBeGy"
      },
      "execution_count": null,
      "outputs": []
    },
    {
      "cell_type": "code",
      "source": [
        "df['views_per_annum']"
      ],
      "metadata": {
        "id": "G_J_UU8OCrTy"
      },
      "execution_count": null,
      "outputs": []
    },
    {
      "cell_type": "markdown",
      "metadata": {
        "id": "upfBJgBy1P8N"
      },
      "source": [
        "### Remove unwanted variables, Feature selection, and Encoding variables"
      ]
    },
    {
      "cell_type": "code",
      "execution_count": null,
      "metadata": {
        "id": "w2DQ793Q0ZHa"
      },
      "outputs": [],
      "source": [
        "df.drop(columns = 'talk_id',inplace = True)"
      ]
    },
    {
      "cell_type": "code",
      "execution_count": null,
      "metadata": {
        "id": "QqatmRJ__PW3"
      },
      "outputs": [],
      "source": [
        "numerical_features = df.describe().columns\n",
        "numerical_features"
      ]
    },
    {
      "cell_type": "code",
      "execution_count": null,
      "metadata": {
        "id": "TcgNlPyc05OM"
      },
      "outputs": [],
      "source": [
        "df.head(1)"
      ]
    },
    {
      "cell_type": "markdown",
      "metadata": {
        "id": "PYNFRaP20NDI"
      },
      "source": [
        "#### Determine the correlation of each variable"
      ]
    },
    {
      "cell_type": "code",
      "execution_count": null,
      "metadata": {
        "id": "Zshwa4e11Nzc"
      },
      "outputs": [],
      "source": [
        "plt.figure(figsize = (15,8))\n",
        "sns.heatmap(abs(df.corr()),annot = True, cmap = 'coolwarm')\n",
        "plt.show()"
      ]
    },
    {
      "cell_type": "markdown",
      "metadata": {
        "id": "Yo6CzVOvO6Jk"
      },
      "source": [
        "##### Splitting the data"
      ]
    },
    {
      "cell_type": "code",
      "execution_count": null,
      "metadata": {
        "id": "XSpK1vvC0Urh"
      },
      "outputs": [],
      "source": [
        "X = df[[i for i in df.describe().columns if i not in 'views']]\n",
        "y = df['views']"
      ]
    },
    {
      "cell_type": "code",
      "execution_count": null,
      "metadata": {
        "id": "3UoV5quet_sV"
      },
      "outputs": [],
      "source": [
        "X.columns"
      ]
    },
    {
      "cell_type": "markdown",
      "metadata": {
        "id": "nSjogx9JtiEF"
      },
      "source": [
        "#### Feature selection"
      ]
    },
    {
      "cell_type": "code",
      "execution_count": null,
      "metadata": {
        "id": "mR6T1DgrWqbv"
      },
      "outputs": [],
      "source": [
        "# removing variables\n",
        "exclude = ['month','desc_count','speaker_avg_duration','transcript_weight','event_avg_views','avg_views_per_topic','year','is_friday','is_saturday','is_sunday','weekday','day']"
      ]
    },
    {
      "cell_type": "code",
      "execution_count": null,
      "metadata": {
        "id": "dyN5orPmZGA5"
      },
      "outputs": [],
      "source": [
        "X = df[[i for i in df.describe().columns if (i not in 'views') and (i not in exclude)]]"
      ]
    },
    {
      "cell_type": "code",
      "source": [
        "df[[i for i in df.describe().columns if (i not in 'views') and (i not in exclude)]]"
      ],
      "metadata": {
        "id": "fTlDVruJa_Mj"
      },
      "execution_count": null,
      "outputs": []
    },
    {
      "cell_type": "code",
      "source": [
        "plt.figure(figsize = (15,8))\n",
        "sns.heatmap(abs(df.drop(columns = exclude).corr()),annot = True, cmap = 'coolwarm')\n",
        "plt.show()"
      ],
      "metadata": {
        "id": "a-kbqo8mfi2p"
      },
      "execution_count": null,
      "outputs": []
    },
    {
      "cell_type": "markdown",
      "metadata": {
        "id": "HjgqNOYQ1hUc"
      },
      "source": [
        "### Data Scaling"
      ]
    },
    {
      "cell_type": "markdown",
      "metadata": {
        "id": "_vMSGFA5GyEt"
      },
      "source": [
        "#### Scale the values"
      ]
    },
    {
      "cell_type": "code",
      "execution_count": null,
      "metadata": {
        "id": "RBNvYzLTG1tX"
      },
      "outputs": [],
      "source": [
        "scaler = MinMaxScaler()"
      ]
    },
    {
      "cell_type": "code",
      "execution_count": null,
      "metadata": {
        "id": "aoLuFiedQi60"
      },
      "outputs": [],
      "source": [
        "# scaling the values\n",
        "X = scaler.fit_transform(X)\n",
        "\n",
        "# Scaling of dependent variable is optinal\n",
        "# y = scaler.fit_transform(y.values.reshape(-1,1))\n",
        "# y = np.log10(y.values)"
      ]
    },
    {
      "cell_type": "markdown",
      "metadata": {
        "id": "dQZ6nLZEQ1t2"
      },
      "source": [
        "#### Split into train and test dataset"
      ]
    },
    {
      "cell_type": "code",
      "execution_count": null,
      "metadata": {
        "id": "7vX8OZW5RDeB"
      },
      "outputs": [],
      "source": [
        "X_train, X_test, y_train, y_test = train_test_split(X, y, test_size=0.20, random_state=0)"
      ]
    },
    {
      "cell_type": "markdown",
      "metadata": {
        "id": "VfCC591jGiD4"
      },
      "source": [
        "## ***7. ML Model Implementation***"
      ]
    },
    {
      "cell_type": "code",
      "execution_count": null,
      "metadata": {
        "id": "a0wWs4cnpOQJ"
      },
      "outputs": [],
      "source": [
        "models = pd.DataFrame(columns = ['model_name','train_score','test_score','train_score_cv','test_score_cv',\n",
        "                  'MSE','RMSE','MAE','R2_SCORE','MSE_CV','RMSE_CV','MAE_CV','R2_SCORE_CV'])"
      ]
    },
    {
      "cell_type": "markdown",
      "metadata": {
        "id": "Vz8IznDFonHs"
      },
      "source": [
        "### ML Model - Linear Regression"
      ]
    },
    {
      "cell_type": "code",
      "execution_count": null,
      "metadata": {
        "id": "5R_BZmtEpB8V"
      },
      "outputs": [],
      "source": [
        "# ML Model - Linear Regression Implementation\n",
        "linear_reg = LinearRegression()\n",
        "\n",
        "# Fit the Algorithm\n",
        "linear_reg.fit(X_train,y_train)\n",
        "\n",
        "# Predict on the model\n",
        "y_pred_test = linear_reg.predict(X_test)"
      ]
    },
    {
      "cell_type": "code",
      "execution_count": null,
      "metadata": {
        "id": "0CUfcOddqC3j",
        "colab": {
          "base_uri": "https://localhost:8080/"
        },
        "outputId": "05a1aeae-e50e-4e6f-e0d6-d298adedeea5"
      },
      "outputs": [
        {
          "output_type": "stream",
          "name": "stdout",
          "text": [
            "Linear Regression: Train:      => 0.9077704289921005\n"
          ]
        }
      ],
      "source": [
        "print('Linear Regression: Train: '.ljust(30,' '),'=>',linear_reg.score(X_train,y_train))"
      ]
    },
    {
      "cell_type": "code",
      "execution_count": null,
      "metadata": {
        "id": "Ey546Z4sqbUD",
        "colab": {
          "base_uri": "https://localhost:8080/"
        },
        "outputId": "9f0fc297-9e3c-40fb-dde9-d0878f0d29ee"
      },
      "outputs": [
        {
          "output_type": "stream",
          "name": "stdout",
          "text": [
            "Linear Regession: Test:        => 0.8699250323297967\n"
          ]
        }
      ],
      "source": [
        "print('Linear Regession: Test: '.ljust(30,' '),'=>',linear_reg.score(X_test,y_test))"
      ]
    },
    {
      "cell_type": "code",
      "execution_count": null,
      "metadata": {
        "id": "sjx17FIPqiFH",
        "colab": {
          "base_uri": "https://localhost:8080/"
        },
        "outputId": "bcda2145-f65c-492f-ed26-51c153518d7e"
      },
      "outputs": [
        {
          "output_type": "stream",
          "name": "stdout",
          "text": [
            "Linear Regression: MSE         => 1986549741615.0134\n",
            "Linear Regression: RMSE        => 1409450.1557752986\n",
            "Linear Regression: MAE         => 529169.1077861005\n",
            "Linear Regression: R2 SCORE    => 0.8699250323297967\n"
          ]
        }
      ],
      "source": [
        "lr_mse = mean_squared_error(y_test,y_pred_test)\n",
        "lr_rmse = np.sqrt(lr_mse)\n",
        "lr_mae = mean_absolute_error(y_test,y_pred_test)\n",
        "lr_r2 = r2_score(y_test,y_pred_test)\n",
        "print('Linear Regression: MSE'.ljust(30,' '),'=>',lr_mse)\n",
        "print('Linear Regression: RMSE'.ljust(30,' '),'=>',lr_rmse)\n",
        "print('Linear Regression: MAE'.ljust(30,' '),'=>',lr_mae)\n",
        "print('Linear Regression: R2 SCORE'.ljust(30,' '),'=>',lr_r2)"
      ]
    },
    {
      "cell_type": "markdown",
      "metadata": {
        "id": "fzNPg-kconHs"
      },
      "source": [
        "#### 1. Explain the ML Model used and it's performance using Evaluation metric Score Chart."
      ]
    },
    {
      "cell_type": "code",
      "execution_count": null,
      "metadata": {
        "id": "20-5sT8SonHt",
        "colab": {
          "base_uri": "https://localhost:8080/"
        },
        "outputId": "dcedfc09-8c77-49ef-f641-3dcf919b9211"
      },
      "outputs": [
        {
          "output_type": "display_data",
          "data": {
            "text/plain": [
              "<Figure size 640x480 with 1 Axes>"
            ],
            "image/png": "[encoded data removed]"
          },
          "metadata": {}
        }
      ],
      "source": [
        "# Visualizing evaluation Metric Score chart\n",
        "\n",
        "plt.plot(np.array(y_test), color = 'blue', label = 'actual')\n",
        "plt.plot(np.array(y_pred_test), color = 'red', label = 'predicted')\n",
        "\n",
        "plt.show()"
      ]
    },
    {
      "cell_type": "markdown",
      "metadata": {
        "id": "TttnZPzPonHt"
      },
      "source": [
        "#### 2. Cross- Validation & Hyperparameter Tuning"
      ]
    },
    {
      "cell_type": "code",
      "execution_count": null,
      "metadata": {
        "id": "YHSrurTnonHt",
        "colab": {
          "base_uri": "https://localhost:8080/"
        },
        "outputId": "f87d32d0-e51d-41a1-dcd0-37bb875962f7"
      },
      "outputs": [
        {
          "output_type": "stream",
          "name": "stdout",
          "text": [
            "Optimal hyperparameters =>  {'copy_X': True, 'fit_intercept': True, 'n_jobs': 1, 'positive': False}\n",
            "Best score captured =>  0.8855563245672016\n"
          ]
        }
      ],
      "source": [
        "# ML Model - Linear Regression Implementation with hyperparameter optimization techniques (i.e., GridSearch CV, RandomSearch CV, Bayesian Optimization etc.)\n",
        "linear_cv = LinearRegression()\n",
        "\n",
        "grid_params = {'fit_intercept' : [True,False], \n",
        "               'n_jobs':[1,2,4,8],\n",
        "               'copy_X' : [True, False],\n",
        "               'positive': [True, False]}\n",
        "\n",
        "# Fit the Algorithm\n",
        "gridcv = GridSearchCV(linear_cv, grid_params,cv = 5)\n",
        "\n",
        "# Predict on the model\n",
        "gridcv.fit(X_train,y_train)\n",
        "\n",
        "print('Optimal hyperparameters => ',gridcv.best_params_)\n",
        "print('Best score captured => ',gridcv.best_score_)"
      ]
    },
    {
      "cell_type": "code",
      "execution_count": null,
      "metadata": {
        "id": "CqIRtyzdRoM0"
      },
      "outputs": [],
      "source": [
        "grid_linear_reg = gridcv.best_estimator_"
      ]
    },
    {
      "cell_type": "code",
      "execution_count": null,
      "metadata": {
        "id": "4KnUxtRJUvBc"
      },
      "outputs": [],
      "source": [
        "y_pred_test_cv =  grid_linear_reg.predict(X_test)"
      ]
    },
    {
      "cell_type": "code",
      "execution_count": null,
      "metadata": {
        "id": "sMOkzJgPqkED",
        "colab": {
          "base_uri": "https://localhost:8080/"
        },
        "outputId": "b8cb20b8-29ed-4c82-ba69-4ee01cec19e2"
      },
      "outputs": [
        {
          "output_type": "stream",
          "name": "stdout",
          "text": [
            "Linear Regression: Train(CV):  => 0.9077704289921005\n"
          ]
        }
      ],
      "source": [
        "print('Linear Regression: Train(CV): '.ljust(30,' '),'=>',grid_linear_reg.score(X_train,y_train))"
      ]
    },
    {
      "cell_type": "code",
      "execution_count": null,
      "metadata": {
        "id": "CWegm9mZqXZ_",
        "colab": {
          "base_uri": "https://localhost:8080/"
        },
        "outputId": "a3c050f1-88ac-463a-9d2b-ad9956f3a644"
      },
      "outputs": [
        {
          "output_type": "stream",
          "name": "stdout",
          "text": [
            "Linear Regression: Test(CV):   => 0.8699250323297967\n"
          ]
        }
      ],
      "source": [
        "print('Linear Regression: Test(CV): '.ljust(30,' '),'=>',grid_linear_reg.score(X_test,y_test))"
      ]
    },
    {
      "cell_type": "code",
      "execution_count": null,
      "metadata": {
        "id": "-6ViM1FoVG5L",
        "colab": {
          "base_uri": "https://localhost:8080/"
        },
        "outputId": "a180e741-4ac2-4db6-eb81-477fbf8a5d5d"
      },
      "outputs": [
        {
          "output_type": "stream",
          "name": "stdout",
          "text": [
            "Linear Regression: MSE (CV)          => 1986549741615.0134\n",
            "Linear Regression: RMSE (CV)         => 1409450.1557752986\n",
            "Linear Regression: MAE (CV)          => 529169.1077861005\n",
            "Linear Regression: R2 SCORE (CV)     => 0.8699250323297967\n"
          ]
        }
      ],
      "source": [
        "lr_mse_cv = mean_squared_error(y_test,y_pred_test_cv)\n",
        "lr_rmse_cv = np.sqrt(lr_mse_cv)\n",
        "lr_mae_cv = mean_absolute_error(y_test,y_pred_test_cv)\n",
        "lr_r2_cv = r2_score(y_test,y_pred_test_cv)\n",
        "print('Linear Regression: MSE (CV)'.ljust(36,' '),'=>',lr_mse_cv)\n",
        "print('Linear Regression: RMSE (CV)'.ljust(36,' '),'=>',lr_rmse_cv)\n",
        "print('Linear Regression: MAE (CV)'.ljust(36,' '),'=>',lr_mae_cv)\n",
        "print('Linear Regression: R2 SCORE (CV)'.ljust(36,' '),'=>',lr_r2_cv)"
      ]
    },
    {
      "cell_type": "code",
      "execution_count": null,
      "metadata": {
        "id": "ia3pLjdOq0q_"
      },
      "outputs": [],
      "source": [
        "mrow = {'model_name': 'LinearRegression',\n",
        "        'train_score': linear_reg.score(X_train,y_train),\n",
        "        'test_score': linear_reg.score(X_test,y_test),\n",
        "        'train_score_cv': grid_linear_reg.score(X_train,y_train),\n",
        "        'test_score_cv' : grid_linear_reg.score(X_test,y_test),\n",
        "        'MSE': lr_mse,\n",
        "        'RMSE': lr_rmse,\n",
        "        'MAE': lr_mae,\n",
        "        'R2_SCORE': lr_r2,\n",
        "        'MSE_CV': lr_mse_cv,\n",
        "        'MAE_CV': lr_mae_cv,\n",
        "        'RMSE_CV': lr_rmse_cv,\n",
        "        'R2_SCORE_CV': lr_r2_cv}\n",
        "models = models.append(mrow,ignore_index = True)"
      ]
    },
    {
      "cell_type": "markdown",
      "metadata": {
        "id": "m9f7lSn9onHu"
      },
      "source": [
        "##### Which hyperparameter optimization technique have you used and why?"
      ]
    },
    {
      "cell_type": "markdown",
      "metadata": {
        "id": "dRd4preWonHu"
      },
      "source": [
        "Here GridSearchCV is opted as we require to tune the paramateres as closely as possible to get a tuple of best parameters there exist. Also it is supported by the requirement that we do not have a large hyperparameter space here, and if that would have been the case in order to improve the speed RandomizedSearchCV could have been used."
      ]
    },
    {
      "cell_type": "markdown",
      "metadata": {
        "id": "CZXoY5woonHu"
      },
      "source": [
        "##### Have you seen any improvement? Note down the improvement with updates Evaluation metric Score Chart."
      ]
    },
    {
      "cell_type": "markdown",
      "metadata": {
        "id": "vnM9sw6donHu"
      },
      "source": [
        "No, as the default parameters as we can see has provided same accuracy on dataset and the parameterized model. And on the basis of MSE, RMSE and MAE the error is comparatively similar for the default model vs the tuned model."
      ]
    },
    {
      "cell_type": "markdown",
      "metadata": {
        "id": "_0iSsygponHv"
      },
      "source": [
        "#### 3. Explain each evaluation metric's indication towards business and the business impact pf the ML model used."
      ]
    },
    {
      "cell_type": "markdown",
      "metadata": {
        "id": "XWJXzLe9onHv"
      },
      "source": [
        "The model does not follow a linear relation somehow, but the scores received are decent."
      ]
    },
    {
      "cell_type": "markdown",
      "metadata": {
        "id": "dJ2tPlVmpsJ0"
      },
      "source": [
        "### ML Model - Ridge Regression"
      ]
    },
    {
      "cell_type": "code",
      "execution_count": null,
      "metadata": {
        "id": "veF7U2paqjw1"
      },
      "outputs": [],
      "source": [
        "# ML Model - Ridge Regression Implementation\n",
        "ridge_reg = Ridge(alpha = 0.1)\n",
        "\n",
        "# Fit the Algorithm\n",
        "ridge_reg.fit(X_train, y_train)\n",
        "\n",
        "# Predict on the model\n",
        "y_pred_test_ridge = ridge_reg.predict(X_test)"
      ]
    },
    {
      "cell_type": "code",
      "execution_count": null,
      "metadata": {
        "id": "3pb7594NtR3_",
        "colab": {
          "base_uri": "https://localhost:8080/"
        },
        "outputId": "612788c6-dc64-4514-a17a-a2286482da88"
      },
      "outputs": [
        {
          "output_type": "stream",
          "name": "stdout",
          "text": [
            "Ridge Regression: Train:       => 0.907716344510733\n"
          ]
        }
      ],
      "source": [
        "print('Ridge Regression: Train: '.ljust(30,' '),'=>',ridge_reg.score(X_train,y_train))"
      ]
    },
    {
      "cell_type": "code",
      "execution_count": null,
      "metadata": {
        "id": "-cjN7EL1r8VF",
        "colab": {
          "base_uri": "https://localhost:8080/"
        },
        "outputId": "50fe844b-b87a-432c-c94b-d050deb1592b"
      },
      "outputs": [
        {
          "output_type": "stream",
          "name": "stdout",
          "text": [
            "Ridge Regression: Test:        => 0.8696728644141192\n"
          ]
        }
      ],
      "source": [
        "print('Ridge Regression: Test: '.ljust(30,' '),'=>',ridge_reg.score(X_test,y_test))"
      ]
    },
    {
      "cell_type": "code",
      "execution_count": null,
      "metadata": {
        "id": "DffH2S5GtMR4",
        "colab": {
          "base_uri": "https://localhost:8080/"
        },
        "outputId": "57bbc7b3-d119-4b44-9449-90b264e977e1"
      },
      "outputs": [
        {
          "output_type": "stream",
          "name": "stdout",
          "text": [
            "Ridge Regression: MSE                => 1990400936942.6416\n",
            "Ridge Regression: RMSE               => 1410815.6991409762\n",
            "Ridge Regression: MAE                => 523354.9398250869\n",
            "Ridge Regression: R2 SCORE           => 0.8696728644141192\n"
          ]
        }
      ],
      "source": [
        "# Evaluation metrics of the default parameters provided\n",
        "rr_mse = mean_squared_error(y_test,y_pred_test_ridge)\n",
        "rr_rmse = np.sqrt(rr_mse)\n",
        "rr_mae = mean_absolute_error(y_test,y_pred_test_ridge)\n",
        "rr_r2 = r2_score(y_test,y_pred_test_ridge)\n",
        "print('Ridge Regression: MSE '.ljust(36,' '),'=>',rr_mse)\n",
        "print('Ridge Regression: RMSE '.ljust(36,' '),'=>',rr_rmse)\n",
        "print('Ridge Regression: MAE  '.ljust(36,' '),'=>',rr_mae)\n",
        "print('Ridge Regression: R2 SCORE '.ljust(36,' '),'=>',rr_r2)"
      ]
    },
    {
      "cell_type": "markdown",
      "metadata": {
        "id": "JWYfwnehpsJ1"
      },
      "source": [
        "#### 1. Explain the ML Model used and it's performance using Evaluation metric Score Chart."
      ]
    },
    {
      "cell_type": "code",
      "execution_count": null,
      "metadata": {
        "id": "yEl-hgQWpsJ1",
        "colab": {
          "base_uri": "https://localhost:8080/"
        },
        "outputId": "faa4c2a6-9bd9-4876-bb00-cf6923d3963a"
      },
      "outputs": [
        {
          "output_type": "display_data",
          "data": {
            "text/plain": [
              "<Figure size 640x480 with 1 Axes>"
            ],
            "image/png": "[encoded data removed]"
          },
          "metadata": {}
        }
      ],
      "source": [
        "# Visualizing evaluation Metric Score chart\n",
        "plt.plot(np.array(y_test), color = 'red', label = 'Actual')\n",
        "plt.plot(np.array(y_pred_test_ridge), color = 'blue', label = 'Predicted')\n",
        "plt.show()"
      ]
    },
    {
      "cell_type": "markdown",
      "metadata": {
        "id": "-jK_YjpMpsJ2"
      },
      "source": [
        "#### 2. Cross- Validation & Hyperparameter Tuning"
      ]
    },
    {
      "cell_type": "code",
      "execution_count": null,
      "metadata": {
        "id": "Dn0EOfS6psJ2",
        "colab": {
          "base_uri": "https://localhost:8080/"
        },
        "outputId": "790593d1-29b3-4b83-fe30-0639f91a0d8e"
      },
      "outputs": [
        {
          "output_type": "execute_result",
          "data": {
            "text/plain": [
              "GridSearchCV(cv=5, estimator=Ridge(),\n",
              "             param_grid={'alpha': [0.001, 0.01, 1.0, 10],\n",
              "                         'copy_X': [True, False],\n",
              "                         'fit_intercept': [True, False],\n",
              "                         'max_iter': [3000, 5000, 8000],\n",
              "                         'positive': [True, False]})"
            ],
            "text/html": [
              "<style>#sk-container-id-13 {color: black;background-color: white;}#sk-container-id-13 pre{padding: 0;}#sk-container-id-13 div.sk-toggleable {background-color: white;}#sk-container-id-13 label.sk-toggleable__label {cursor: pointer;display: block;width: 100%;margin-bottom: 0;padding: 0.3em;box-sizing: border-box;text-align: center;}#sk-container-id-13 label.sk-toggleable__label-arrow:before {content: \"▸\";float: left;margin-right: 0.25em;color: #696969;}#sk-container-id-13 label.sk-toggleable__label-arrow:hover:before {color: black;}#sk-container-id-13 div.sk-estimator:hover label.sk-toggleable__label-arrow:before {color: black;}#sk-container-id-13 div.sk-toggleable__content {max-height: 0;max-width: 0;overflow: hidden;text-align: left;background-color: #f0f8ff;}#sk-container-id-13 div.sk-toggleable__content pre {margin: 0.2em;color: black;border-radius: 0.25em;background-color: #f0f8ff;}#sk-container-id-13 input.sk-toggleable__control:checked~div.sk-toggleable__content {max-height: 200px;max-width: 100%;overflow: auto;}#sk-container-id-13 input.sk-toggleable__control:checked~label.sk-toggleable__label-arrow:before {content: \"▾\";}#sk-container-id-13 div.sk-estimator input.sk-toggleable__control:checked~label.sk-toggleable__label {background-color: #d4ebff;}#sk-container-id-13 div.sk-label input.sk-toggleable__control:checked~label.sk-toggleable__label {background-color: #d4ebff;}#sk-container-id-13 input.sk-hidden--visually {border: 0;clip: rect(1px 1px 1px 1px);clip: rect(1px, 1px, 1px, 1px);height: 1px;margin: -1px;overflow: hidden;padding: 0;position: absolute;width: 1px;}#sk-container-id-13 div.sk-estimator {font-family: monospace;background-color: #f0f8ff;border: 1px dotted black;border-radius: 0.25em;box-sizing: border-box;margin-bottom: 0.5em;}#sk-container-id-13 div.sk-estimator:hover {background-color: #d4ebff;}#sk-container-id-13 div.sk-parallel-item::after {content: \"\";width: 100%;border-bottom: 1px solid gray;flex-grow: 1;}#sk-container-id-13 div.sk-label:hover label.sk-toggleable__label {background-color: #d4ebff;}#sk-container-id-13 div.sk-serial::before {content: \"\";position: absolute;border-left: 1px solid gray;box-sizing: border-box;top: 0;bottom: 0;left: 50%;z-index: 0;}#sk-container-id-13 div.sk-serial {display: flex;flex-direction: column;align-items: center;background-color: white;padding-right: 0.2em;padding-left: 0.2em;position: relative;}#sk-container-id-13 div.sk-item {position: relative;z-index: 1;}#sk-container-id-13 div.sk-parallel {display: flex;align-items: stretch;justify-content: center;background-color: white;position: relative;}#sk-container-id-13 div.sk-item::before, #sk-container-id-13 div.sk-parallel-item::before {content: \"\";position: absolute;border-left: 1px solid gray;box-sizing: border-box;top: 0;bottom: 0;left: 50%;z-index: -1;}#sk-container-id-13 div.sk-parallel-item {display: flex;flex-direction: column;z-index: 1;position: relative;background-color: white;}#sk-container-id-13 div.sk-parallel-item:first-child::after {align-self: flex-end;width: 50%;}#sk-container-id-13 div.sk-parallel-item:last-child::after {align-self: flex-start;width: 50%;}#sk-container-id-13 div.sk-parallel-item:only-child::after {width: 0;}#sk-container-id-13 div.sk-dashed-wrapped {border: 1px dashed gray;margin: 0 0.4em 0.5em 0.4em;box-sizing: border-box;padding-bottom: 0.4em;background-color: white;}#sk-container-id-13 div.sk-label label {font-family: monospace;font-weight: bold;display: inline-block;line-height: 1.2em;}#sk-container-id-13 div.sk-label-container {text-align: center;}#sk-container-id-13 div.sk-container {/* jupyter's `normalize.less` sets `[hidden] { display: none; }` but bootstrap.min.css set `[hidden] { display: none !important; }` so we also need the `!important` here to be able to override the default hidden behavior on the sphinx rendered scikit-learn.org. See: https://github.com/scikit-learn/scikit-learn/issues/21755 */display: inline-block !important;position: relative;}#sk-container-id-13 div.sk-text-repr-fallback {display: none;}</style><div id=\"sk-container-id-13\" class=\"sk-top-container\"><div class=\"sk-text-repr-fallback\"><pre>GridSearchCV(cv=5, estimator=Ridge(),\n",
              "             param_grid={&#x27;alpha&#x27;: [0.001, 0.01, 1.0, 10],\n",
              "                         &#x27;copy_X&#x27;: [True, False],\n",
              "                         &#x27;fit_intercept&#x27;: [True, False],\n",
              "                         &#x27;max_iter&#x27;: [3000, 5000, 8000],\n",
              "                         &#x27;positive&#x27;: [True, False]})</pre><b>In a Jupyter environment, please rerun this cell to show the HTML representation or trust the notebook. <br />On GitHub, the HTML representation is unable to render, please try loading this page with nbviewer.org.</b></div><div class=\"sk-container\" hidden><div class=\"sk-item sk-dashed-wrapped\"><div class=\"sk-label-container\"><div class=\"sk-label sk-toggleable\"><input class=\"sk-toggleable__control sk-hidden--visually\" id=\"sk-estimator-id-33\" type=\"checkbox\" ><label for=\"sk-estimator-id-33\" class=\"sk-toggleable__label sk-toggleable__label-arrow\">GridSearchCV</label><div class=\"sk-toggleable__content\"><pre>GridSearchCV(cv=5, estimator=Ridge(),\n",
              "             param_grid={&#x27;alpha&#x27;: [0.001, 0.01, 1.0, 10],\n",
              "                         &#x27;copy_X&#x27;: [True, False],\n",
              "                         &#x27;fit_intercept&#x27;: [True, False],\n",
              "                         &#x27;max_iter&#x27;: [3000, 5000, 8000],\n",
              "                         &#x27;positive&#x27;: [True, False]})</pre></div></div></div><div class=\"sk-parallel\"><div class=\"sk-parallel-item\"><div class=\"sk-item\"><div class=\"sk-label-container\"><div class=\"sk-label sk-toggleable\"><input class=\"sk-toggleable__control sk-hidden--visually\" id=\"sk-estimator-id-34\" type=\"checkbox\" ><label for=\"sk-estimator-id-34\" class=\"sk-toggleable__label sk-toggleable__label-arrow\">estimator: Ridge</label><div class=\"sk-toggleable__content\"><pre>Ridge()</pre></div></div></div><div class=\"sk-serial\"><div class=\"sk-item\"><div class=\"sk-estimator sk-toggleable\"><input class=\"sk-toggleable__control sk-hidden--visually\" id=\"sk-estimator-id-35\" type=\"checkbox\" ><label for=\"sk-estimator-id-35\" class=\"sk-toggleable__label sk-toggleable__label-arrow\">Ridge</label><div class=\"sk-toggleable__content\"><pre>Ridge()</pre></div></div></div></div></div></div></div></div></div></div>"
            ]
          },
          "metadata": {},
          "execution_count": 632
        }
      ],
      "source": [
        "# ML Model - Ridge Regression Implementation with hyperparameter optimization techniques (i.e., GridSearch CV, RandomSearch CV, Bayesian Optimization etc.)\n",
        "ridge_cv = Ridge()\n",
        "\n",
        "grid_params_reg = { 'alpha' : [0.001,0.01,1.0,10],\n",
        "              'fit_intercept' : [True,False], \n",
        "               'copy_X' : [True, False],\n",
        "               'positive': [True, False],\n",
        "               'max_iter':[3000,5000,8000]}\n",
        "\n",
        "ridge_cv_grid = GridSearchCV(ridge_cv,grid_params_reg,cv = 5)\n",
        "\n",
        "# Fit the Algorithm\n",
        "ridge_cv_grid.fit(X_train,y_train)"
      ]
    },
    {
      "cell_type": "code",
      "execution_count": null,
      "metadata": {
        "id": "Wxgs1sw6-PqV"
      },
      "outputs": [],
      "source": [
        "# Get the model with best parameters\n",
        "ridge_cv_mod = ridge_cv_grid.best_estimator_"
      ]
    },
    {
      "cell_type": "code",
      "execution_count": null,
      "metadata": {
        "id": "PtzHAySmYrDm"
      },
      "outputs": [],
      "source": [
        "# Predict on the model\n",
        "y_pred_test_ridge_cv = ridge_cv_mod.predict(X_test)"
      ]
    },
    {
      "cell_type": "code",
      "execution_count": null,
      "metadata": {
        "id": "AuC5Ex1U4xVL",
        "colab": {
          "base_uri": "https://localhost:8080/"
        },
        "outputId": "9ca39bf8-fefd-49e5-feaa-51b044a960e2"
      },
      "outputs": [
        {
          "output_type": "stream",
          "name": "stdout",
          "text": [
            "Ridge CV best params => {'alpha': 1.0, 'copy_X': True, 'fit_intercept': True, 'max_iter': 3000, 'positive': False}\n"
          ]
        }
      ],
      "source": [
        "print('Ridge CV best params =>',ridge_cv_grid.best_params_)"
      ]
    },
    {
      "cell_type": "code",
      "execution_count": null,
      "metadata": {
        "id": "ydNp1d9F3HUe",
        "colab": {
          "base_uri": "https://localhost:8080/"
        },
        "outputId": "a42aecb5-b0f5-4f14-c2d7-6a93f0b4c865"
      },
      "outputs": [
        {
          "output_type": "stream",
          "name": "stdout",
          "text": [
            "Ridge Regression: Train(CV):   => 0.9036489763793327\n"
          ]
        }
      ],
      "source": [
        "print('Ridge Regression: Train(CV): '.ljust(30,' '),'=>',ridge_cv_mod.score(X_train,y_train))"
      ]
    },
    {
      "cell_type": "code",
      "execution_count": null,
      "metadata": {
        "id": "EXrvDIse3nZX",
        "colab": {
          "base_uri": "https://localhost:8080/"
        },
        "outputId": "2b2a0606-7e80-42a6-b390-f5a5d2557712"
      },
      "outputs": [
        {
          "output_type": "stream",
          "name": "stdout",
          "text": [
            "Ridge Regression: Test(CV):    => 0.8640585013731682\n"
          ]
        }
      ],
      "source": [
        "print('Ridge Regression: Test(CV): '.ljust(30,' '),'=>',ridge_cv_mod.score(X_test,y_test))"
      ]
    },
    {
      "cell_type": "code",
      "execution_count": null,
      "metadata": {
        "id": "ZxT0xEjl4RMH",
        "colab": {
          "base_uri": "https://localhost:8080/"
        },
        "outputId": "8a44bff6-b935-4df7-80f2-c67dead512e0"
      },
      "outputs": [
        {
          "output_type": "stream",
          "name": "stdout",
          "text": [
            "Ridge Regression: MSE (CV)           => 2076145424510.8584\n",
            "Ridge Regression: RMSE (CV)          => 1410815.6991409762\n",
            "Ridge Regression: MAE (CV)           => 495887.8418977292\n",
            "Ridge Regression: R2 SCORE (CV)      => 0.8640585013731682\n"
          ]
        }
      ],
      "source": [
        "# Evaluation metrics of the default parameters provided\n",
        "rr_mse_cv = mean_squared_error(y_test,y_pred_test_ridge_cv)\n",
        "rr_rmse_cv = np.sqrt(rr_mse)\n",
        "rr_mae_cv = mean_absolute_error(y_test,y_pred_test_ridge_cv)\n",
        "rr_r2_cv = r2_score(y_test,y_pred_test_ridge_cv)\n",
        "print('Ridge Regression: MSE (CV)'.ljust(36,' '),'=>',rr_mse_cv)\n",
        "print('Ridge Regression: RMSE (CV)'.ljust(36,' '),'=>',rr_rmse_cv)\n",
        "print('Ridge Regression: MAE (CV)'.ljust(36,' '),'=>',rr_mae_cv)\n",
        "print('Ridge Regression: R2 SCORE (CV)'.ljust(36,' '),'=>',rr_r2_cv)"
      ]
    },
    {
      "cell_type": "code",
      "execution_count": null,
      "metadata": {
        "id": "Q9ptZQC2vNci"
      },
      "outputs": [],
      "source": [
        "mrow = {'model_name': 'RidgeRegression',\n",
        "        'train_score': ridge_reg.score(X_train,y_train),\n",
        "        'test_score': ridge_reg.score(X_test,y_test),\n",
        "        'train_score_cv': ridge_cv_mod.score(X_train,y_train),\n",
        "        'test_score_cv' : ridge_cv_mod.score(X_test,y_test),\n",
        "        'MSE': rr_mse,\n",
        "        'RMSE': rr_rmse,\n",
        "        'MAE': rr_mae,\n",
        "        'R2_SCORE': rr_r2,\n",
        "        'MSE_CV': rr_mse_cv,\n",
        "        'MAE_CV': rr_mae_cv,\n",
        "        'RMSE_CV': rr_rmse_cv,\n",
        "        'R2_SCORE_CV': rr_r2_cv}\n",
        "models = models.append(mrow,ignore_index = True)"
      ]
    },
    {
      "cell_type": "markdown",
      "metadata": {
        "id": "HAih1iBOpsJ2"
      },
      "source": [
        "##### Which hyperparameter optimization technique have you used and why?"
      ]
    },
    {
      "cell_type": "markdown",
      "metadata": {
        "id": "9kBgjYcdpsJ2"
      },
      "source": [
        "The RandomizedSearchCV method is applied here to get the best alpha paramater and train the model."
      ]
    },
    {
      "cell_type": "markdown",
      "metadata": {
        "id": "zVGeBEFhpsJ2"
      },
      "source": [
        "##### Have you seen any improvement? Note down the improvement with updates Evaluation metric Score Chart."
      ]
    },
    {
      "cell_type": "markdown",
      "metadata": {
        "id": "74yRdG6UpsJ3"
      },
      "source": [
        "The performance is relatively poor as the r-squared score is very less and the model is only performing well on the train dataset. This indicates that Ridge regression can not be applied to the data here."
      ]
    },
    {
      "cell_type": "markdown",
      "metadata": {
        "id": "bmKjuQ-FpsJ3"
      },
      "source": [
        "#### 3. Explain each evaluation metric's indication towards business and the business impact pf the ML model used."
      ]
    },
    {
      "cell_type": "markdown",
      "metadata": {
        "id": "BDKtOrBQpsJ3"
      },
      "source": [
        "The r-squared score as we have observed depicts that the model can only cover and explain a small portion of the dataset available. The score on train dataset is adequate, but the model does not perform well on test dataset. The MSE, RMSE and MAE are greater than the previous model Linear Regression, yet still provide an appreciable value."
      ]
    },
    {
      "cell_type": "markdown",
      "metadata": {
        "id": "Fze-IPXLpx6K"
      },
      "source": [
        "### ML Model - Lasso Regression"
      ]
    },
    {
      "cell_type": "code",
      "execution_count": null,
      "metadata": {
        "id": "FFrSXAtrpx6M"
      },
      "outputs": [],
      "source": [
        "# ML Model - 3 Implementation\n",
        "lasso = Lasso(alpha = 0.00001)\n",
        "\n",
        "# Fit the Algorithm\n",
        "lasso.fit(X_train,y_train)\n",
        "\n",
        "# Predict on the model\n",
        "y_pred_test_lasso = lasso.predict(X_test)"
      ]
    },
    {
      "cell_type": "code",
      "execution_count": null,
      "metadata": {
        "id": "ZbamPkK7TUd3",
        "colab": {
          "base_uri": "https://localhost:8080/"
        },
        "outputId": "106edc77-cdbf-4d49-fa31-d67349a67649"
      },
      "outputs": [
        {
          "output_type": "stream",
          "name": "stdout",
          "text": [
            "Lasso Regression: Train:       => 0.9077704289921005\n"
          ]
        }
      ],
      "source": [
        "print('Lasso Regression: Train: '.ljust(30,' '),'=>',lasso.score(X_train,y_train))"
      ]
    },
    {
      "cell_type": "code",
      "execution_count": null,
      "metadata": {
        "id": "PgVAj-sbTY0S",
        "colab": {
          "base_uri": "https://localhost:8080/"
        },
        "outputId": "af76dcde-c006-4ed8-db38-f13de4c8b53f"
      },
      "outputs": [
        {
          "output_type": "stream",
          "name": "stdout",
          "text": [
            "Lasso Regression: Test:        => 0.8699250323078986\n"
          ]
        }
      ],
      "source": [
        "print('Lasso Regression: Test: '.ljust(30,' '),'=>',lasso.score(X_test,y_test))"
      ]
    },
    {
      "cell_type": "code",
      "execution_count": null,
      "metadata": {
        "id": "6s4qJm8qjeOQ",
        "colab": {
          "base_uri": "https://localhost:8080/"
        },
        "outputId": "9c0afe4a-2249-4f3f-a282-bba9b71220a8"
      },
      "outputs": [
        {
          "output_type": "stream",
          "name": "stdout",
          "text": [
            "Lasso Regression: MSE                => 1986549741949.4487\n",
            "Lasso Regression: RMSE               => 1409450.1558939388\n",
            "Lasso Regression: MAE                => 529169.1077303984\n",
            "Lasso Regression: R2 SCORE           => 0.8699250323078986\n"
          ]
        }
      ],
      "source": [
        "# Evaluation metrics of the default parameters provided\n",
        "ls_mse = mean_squared_error(y_test,y_pred_test_lasso)\n",
        "ls_rmse = np.sqrt(ls_mse)\n",
        "ls_mae = mean_absolute_error(y_test,y_pred_test_lasso)\n",
        "ls_r2 = r2_score(y_test,y_pred_test_lasso)\n",
        "print('Lasso Regression: MSE '.ljust(36,' '),'=>',ls_mse)\n",
        "print('Lasso Regression: RMSE '.ljust(36,' '),'=>',ls_rmse)\n",
        "print('Lasso Regression: MAE '.ljust(36,' '),'=>',ls_mae)\n",
        "print('Lasso Regression: R2 SCORE '.ljust(36,' '),'=>',ls_r2)"
      ]
    },
    {
      "cell_type": "markdown",
      "metadata": {
        "id": "7AN1z2sKpx6M"
      },
      "source": [
        "#### 1. Explain the ML Model used and it's performance using Evaluation metric Score Chart."
      ]
    },
    {
      "cell_type": "code",
      "execution_count": null,
      "metadata": {
        "id": "xIY4lxxGpx6M",
        "colab": {
          "base_uri": "https://localhost:8080/"
        },
        "outputId": "ff5bdab3-e70f-4910-b8f4-f1f8f821a713"
      },
      "outputs": [
        {
          "output_type": "display_data",
          "data": {
            "text/plain": [
              "<Figure size 640x480 with 1 Axes>"
            ],
            "image/png": "[encoded data removed]"
          },
          "metadata": {}
        }
      ],
      "source": [
        "# Visualizing evaluation Metric Score chart\n",
        "plt.plot(np.array(y_test), color = 'red', label = 'Actual')\n",
        "plt.plot(np.array(y_pred_test_lasso), color = 'blue', label = 'Predicted')\n",
        "plt.show()"
      ]
    },
    {
      "cell_type": "markdown",
      "metadata": {
        "id": "9PIHJqyupx6M"
      },
      "source": [
        "#### 2. Cross- Validation & Hyperparameter Tuning"
      ]
    },
    {
      "cell_type": "code",
      "execution_count": null,
      "metadata": {
        "id": "eSVXuaSKpx6M",
        "colab": {
          "base_uri": "https://localhost:8080/"
        },
        "outputId": "535116c0-688e-440c-979c-0fa41244901a"
      },
      "outputs": [
        {
          "output_type": "execute_result",
          "data": {
            "text/plain": [
              "GridSearchCV(estimator=Lasso(),\n",
              "             param_grid={'alpha': [1.0, 0.1, 0.001, 0.0001, 1e-05, 1e-06]})"
            ],
            "text/html": [
              "<style>#sk-container-id-14 {color: black;background-color: white;}#sk-container-id-14 pre{padding: 0;}#sk-container-id-14 div.sk-toggleable {background-color: white;}#sk-container-id-14 label.sk-toggleable__label {cursor: pointer;display: block;width: 100%;margin-bottom: 0;padding: 0.3em;box-sizing: border-box;text-align: center;}#sk-container-id-14 label.sk-toggleable__label-arrow:before {content: \"▸\";float: left;margin-right: 0.25em;color: #696969;}#sk-container-id-14 label.sk-toggleable__label-arrow:hover:before {color: black;}#sk-container-id-14 div.sk-estimator:hover label.sk-toggleable__label-arrow:before {color: black;}#sk-container-id-14 div.sk-toggleable__content {max-height: 0;max-width: 0;overflow: hidden;text-align: left;background-color: #f0f8ff;}#sk-container-id-14 div.sk-toggleable__content pre {margin: 0.2em;color: black;border-radius: 0.25em;background-color: #f0f8ff;}#sk-container-id-14 input.sk-toggleable__control:checked~div.sk-toggleable__content {max-height: 200px;max-width: 100%;overflow: auto;}#sk-container-id-14 input.sk-toggleable__control:checked~label.sk-toggleable__label-arrow:before {content: \"▾\";}#sk-container-id-14 div.sk-estimator input.sk-toggleable__control:checked~label.sk-toggleable__label {background-color: #d4ebff;}#sk-container-id-14 div.sk-label input.sk-toggleable__control:checked~label.sk-toggleable__label {background-color: #d4ebff;}#sk-container-id-14 input.sk-hidden--visually {border: 0;clip: rect(1px 1px 1px 1px);clip: rect(1px, 1px, 1px, 1px);height: 1px;margin: -1px;overflow: hidden;padding: 0;position: absolute;width: 1px;}#sk-container-id-14 div.sk-estimator {font-family: monospace;background-color: #f0f8ff;border: 1px dotted black;border-radius: 0.25em;box-sizing: border-box;margin-bottom: 0.5em;}#sk-container-id-14 div.sk-estimator:hover {background-color: #d4ebff;}#sk-container-id-14 div.sk-parallel-item::after {content: \"\";width: 100%;border-bottom: 1px solid gray;flex-grow: 1;}#sk-container-id-14 div.sk-label:hover label.sk-toggleable__label {background-color: #d4ebff;}#sk-container-id-14 div.sk-serial::before {content: \"\";position: absolute;border-left: 1px solid gray;box-sizing: border-box;top: 0;bottom: 0;left: 50%;z-index: 0;}#sk-container-id-14 div.sk-serial {display: flex;flex-direction: column;align-items: center;background-color: white;padding-right: 0.2em;padding-left: 0.2em;position: relative;}#sk-container-id-14 div.sk-item {position: relative;z-index: 1;}#sk-container-id-14 div.sk-parallel {display: flex;align-items: stretch;justify-content: center;background-color: white;position: relative;}#sk-container-id-14 div.sk-item::before, #sk-container-id-14 div.sk-parallel-item::before {content: \"\";position: absolute;border-left: 1px solid gray;box-sizing: border-box;top: 0;bottom: 0;left: 50%;z-index: -1;}#sk-container-id-14 div.sk-parallel-item {display: flex;flex-direction: column;z-index: 1;position: relative;background-color: white;}#sk-container-id-14 div.sk-parallel-item:first-child::after {align-self: flex-end;width: 50%;}#sk-container-id-14 div.sk-parallel-item:last-child::after {align-self: flex-start;width: 50%;}#sk-container-id-14 div.sk-parallel-item:only-child::after {width: 0;}#sk-container-id-14 div.sk-dashed-wrapped {border: 1px dashed gray;margin: 0 0.4em 0.5em 0.4em;box-sizing: border-box;padding-bottom: 0.4em;background-color: white;}#sk-container-id-14 div.sk-label label {font-family: monospace;font-weight: bold;display: inline-block;line-height: 1.2em;}#sk-container-id-14 div.sk-label-container {text-align: center;}#sk-container-id-14 div.sk-container {/* jupyter's `normalize.less` sets `[hidden] { display: none; }` but bootstrap.min.css set `[hidden] { display: none !important; }` so we also need the `!important` here to be able to override the default hidden behavior on the sphinx rendered scikit-learn.org. See: https://github.com/scikit-learn/scikit-learn/issues/21755 */display: inline-block !important;position: relative;}#sk-container-id-14 div.sk-text-repr-fallback {display: none;}</style><div id=\"sk-container-id-14\" class=\"sk-top-container\"><div class=\"sk-text-repr-fallback\"><pre>GridSearchCV(estimator=Lasso(),\n",
              "             param_grid={&#x27;alpha&#x27;: [1.0, 0.1, 0.001, 0.0001, 1e-05, 1e-06]})</pre><b>In a Jupyter environment, please rerun this cell to show the HTML representation or trust the notebook. <br />On GitHub, the HTML representation is unable to render, please try loading this page with nbviewer.org.</b></div><div class=\"sk-container\" hidden><div class=\"sk-item sk-dashed-wrapped\"><div class=\"sk-label-container\"><div class=\"sk-label sk-toggleable\"><input class=\"sk-toggleable__control sk-hidden--visually\" id=\"sk-estimator-id-36\" type=\"checkbox\" ><label for=\"sk-estimator-id-36\" class=\"sk-toggleable__label sk-toggleable__label-arrow\">GridSearchCV</label><div class=\"sk-toggleable__content\"><pre>GridSearchCV(estimator=Lasso(),\n",
              "             param_grid={&#x27;alpha&#x27;: [1.0, 0.1, 0.001, 0.0001, 1e-05, 1e-06]})</pre></div></div></div><div class=\"sk-parallel\"><div class=\"sk-parallel-item\"><div class=\"sk-item\"><div class=\"sk-label-container\"><div class=\"sk-label sk-toggleable\"><input class=\"sk-toggleable__control sk-hidden--visually\" id=\"sk-estimator-id-37\" type=\"checkbox\" ><label for=\"sk-estimator-id-37\" class=\"sk-toggleable__label sk-toggleable__label-arrow\">estimator: Lasso</label><div class=\"sk-toggleable__content\"><pre>Lasso()</pre></div></div></div><div class=\"sk-serial\"><div class=\"sk-item\"><div class=\"sk-estimator sk-toggleable\"><input class=\"sk-toggleable__control sk-hidden--visually\" id=\"sk-estimator-id-38\" type=\"checkbox\" ><label for=\"sk-estimator-id-38\" class=\"sk-toggleable__label sk-toggleable__label-arrow\">Lasso</label><div class=\"sk-toggleable__content\"><pre>Lasso()</pre></div></div></div></div></div></div></div></div></div></div>"
            ]
          },
          "metadata": {},
          "execution_count": 645
        }
      ],
      "source": [
        "# ML Model - Lasso Regression Implementation with hyperparameter optimization techniques (i.e., GridSearch CV, RandomSearch CV, Bayesian Optimization etc.)\n",
        "lasso_cv = Lasso()\n",
        "lasso_params = {'alpha' : [1.0,0.1,0.001,0.0001,0.00001,0.000001]}\n",
        "\n",
        "lasso_grid_cv = GridSearchCV(lasso_cv,lasso_params)\n",
        "\n",
        "# Fit the Algorithm\n",
        "lasso_grid_cv.fit(X_train, y_train)\n"
      ]
    },
    {
      "cell_type": "code",
      "execution_count": null,
      "metadata": {
        "id": "LU9L4kHUiLcn"
      },
      "outputs": [],
      "source": [
        "lasso_cv_model = lasso_grid_cv.best_estimator_"
      ]
    },
    {
      "cell_type": "code",
      "execution_count": null,
      "metadata": {
        "id": "vuHc1kwSiWu_"
      },
      "outputs": [],
      "source": [
        "y_pred_test_lasso_cv = lasso_cv_model.predict(X_test)"
      ]
    },
    {
      "cell_type": "code",
      "execution_count": null,
      "metadata": {
        "id": "k5qnq03UjRFa",
        "colab": {
          "base_uri": "https://localhost:8080/"
        },
        "outputId": "7aab81f4-a62d-4ecc-eea7-0bbc70a01165"
      },
      "outputs": [
        {
          "output_type": "stream",
          "name": "stdout",
          "text": [
            "Lasso CV best params => {'alpha': 1.0}\n"
          ]
        }
      ],
      "source": [
        "print('Lasso CV best params =>',lasso_grid_cv.best_params_)"
      ]
    },
    {
      "cell_type": "code",
      "execution_count": null,
      "metadata": {
        "id": "BS0pfVN5jVQI",
        "colab": {
          "base_uri": "https://localhost:8080/"
        },
        "outputId": "b3e61221-6c09-424e-c745-36c7a3ea912b"
      },
      "outputs": [
        {
          "output_type": "stream",
          "name": "stdout",
          "text": [
            "Ridge Regression: Train(CV):   => 0.9077704288720964\n"
          ]
        }
      ],
      "source": [
        "print('Ridge Regression: Train(CV): '.ljust(30,' '),'=>',lasso_cv_model.score(X_train,y_train))"
      ]
    },
    {
      "cell_type": "code",
      "execution_count": null,
      "metadata": {
        "id": "MM_Ps2Mxl0ns",
        "colab": {
          "base_uri": "https://localhost:8080/"
        },
        "outputId": "417ece4c-f5c6-499b-ad54-79a9542b620f"
      },
      "outputs": [
        {
          "output_type": "stream",
          "name": "stdout",
          "text": [
            "Ridge Regression: Train(CV):   => 0.869922842797592\n"
          ]
        }
      ],
      "source": [
        "print('Ridge Regression: Train(CV): '.ljust(30,' '),'=>',lasso_cv_model.score(X_test,y_test))"
      ]
    },
    {
      "cell_type": "code",
      "execution_count": null,
      "metadata": {
        "id": "IZaji1gyjNSb",
        "colab": {
          "base_uri": "https://localhost:8080/"
        },
        "outputId": "ec480f8d-4729-46e0-d549-83876412639e"
      },
      "outputs": [
        {
          "output_type": "stream",
          "name": "stdout",
          "text": [
            "Lasso Regression: MSE (CV)           => 1986583180905.55\n",
            "Lasso Regression: RMSE (CV)          => 1409450.1558939388\n",
            "Lasso Regression: MAE (CV)           => 529163.5294727178\n",
            "Lasso Regression: R2 SCORE (CV)      => 0.869922842797592\n"
          ]
        }
      ],
      "source": [
        "# Evaluation metrics of the default parameters provided\n",
        "ls_mse_cv = mean_squared_error(y_test,y_pred_test_lasso_cv)\n",
        "ls_rmse_cv = np.sqrt(ls_mse)\n",
        "ls_mae_cv = mean_absolute_error(y_test,y_pred_test_lasso_cv)\n",
        "ls_r2_cv = r2_score(y_test,y_pred_test_lasso_cv)\n",
        "print('Lasso Regression: MSE (CV)'.ljust(36,' '),'=>',ls_mse_cv)\n",
        "print('Lasso Regression: RMSE (CV)'.ljust(36,' '),'=>',ls_rmse_cv)\n",
        "print('Lasso Regression: MAE (CV)'.ljust(36,' '),'=>',ls_mae_cv)\n",
        "print('Lasso Regression: R2 SCORE (CV)'.ljust(36,' '),'=>',ls_r2_cv)"
      ]
    },
    {
      "cell_type": "code",
      "execution_count": null,
      "metadata": {
        "id": "PMMiud3avuje"
      },
      "outputs": [],
      "source": [
        "mrow = {'model_name': 'LassoRegression',\n",
        "        'train_score': lasso.score(X_train,y_train),\n",
        "        'test_score': lasso.score(X_test,y_test),\n",
        "        'train_score_cv': lasso_cv_model.score(X_train,y_train),\n",
        "        'test_score_cv' : lasso_cv_model.score(X_test,y_test),\n",
        "        'MSE': ls_mse,\n",
        "        'RMSE': ls_rmse,\n",
        "        'MAE': ls_mae,\n",
        "        'R2_SCORE': ls_r2,\n",
        "        'MSE_CV': ls_mse_cv,\n",
        "        'MAE_CV': ls_mae_cv,\n",
        "        'RMSE_CV': ls_rmse_cv,\n",
        "        'R2_SCORE_CV': ls_r2_cv}\n",
        "models = models.append(mrow,ignore_index = True)"
      ]
    },
    {
      "cell_type": "markdown",
      "metadata": {
        "id": "_-qAgymDpx6N"
      },
      "source": [
        "##### Which hyperparameter optimization technique have you used and why?"
      ]
    },
    {
      "cell_type": "markdown",
      "metadata": {
        "id": "lQMffxkwpx6N"
      },
      "source": [
        "We have used GridSearchCV keeping in mind the computational costs and timeframe abundance and short range of parameters required here for Lasso Regression."
      ]
    },
    {
      "cell_type": "markdown",
      "metadata": {
        "id": "Z-hykwinpx6N"
      },
      "source": [
        "##### Have you seen any improvement? Note down the improvement with updates Evaluation metric Score Chart."
      ]
    },
    {
      "cell_type": "markdown",
      "metadata": {
        "id": "MzVzZC6opx6N"
      },
      "source": [
        "The results gained are almost similar to the point, so it would be safe to assume that the parameters chosen are great already."
      ]
    },
    {
      "cell_type": "markdown",
      "metadata": {
        "id": "NNpBldCOo-Qy"
      },
      "source": [
        "### ML Model - RandomForestRegressor"
      ]
    },
    {
      "cell_type": "code",
      "execution_count": null,
      "metadata": {
        "id": "qAj85KxWo-Qz",
        "colab": {
          "base_uri": "https://localhost:8080/",
          "height": 74
        },
        "outputId": "a72e9868-fa8f-4aa8-822e-f6cf7685fcf8"
      },
      "outputs": [
        {
          "output_type": "execute_result",
          "data": {
            "text/plain": [
              "RandomForestRegressor(max_depth=10, n_estimators=10)"
            ],
            "text/html": [
              "<style>#sk-container-id-15 {color: black;background-color: white;}#sk-container-id-15 pre{padding: 0;}#sk-container-id-15 div.sk-toggleable {background-color: white;}#sk-container-id-15 label.sk-toggleable__label {cursor: pointer;display: block;width: 100%;margin-bottom: 0;padding: 0.3em;box-sizing: border-box;text-align: center;}#sk-container-id-15 label.sk-toggleable__label-arrow:before {content: \"▸\";float: left;margin-right: 0.25em;color: #696969;}#sk-container-id-15 label.sk-toggleable__label-arrow:hover:before {color: black;}#sk-container-id-15 div.sk-estimator:hover label.sk-toggleable__label-arrow:before {color: black;}#sk-container-id-15 div.sk-toggleable__content {max-height: 0;max-width: 0;overflow: hidden;text-align: left;background-color: #f0f8ff;}#sk-container-id-15 div.sk-toggleable__content pre {margin: 0.2em;color: black;border-radius: 0.25em;background-color: #f0f8ff;}#sk-container-id-15 input.sk-toggleable__control:checked~div.sk-toggleable__content {max-height: 200px;max-width: 100%;overflow: auto;}#sk-container-id-15 input.sk-toggleable__control:checked~label.sk-toggleable__label-arrow:before {content: \"▾\";}#sk-container-id-15 div.sk-estimator input.sk-toggleable__control:checked~label.sk-toggleable__label {background-color: #d4ebff;}#sk-container-id-15 div.sk-label input.sk-toggleable__control:checked~label.sk-toggleable__label {background-color: #d4ebff;}#sk-container-id-15 input.sk-hidden--visually {border: 0;clip: rect(1px 1px 1px 1px);clip: rect(1px, 1px, 1px, 1px);height: 1px;margin: -1px;overflow: hidden;padding: 0;position: absolute;width: 1px;}#sk-container-id-15 div.sk-estimator {font-family: monospace;background-color: #f0f8ff;border: 1px dotted black;border-radius: 0.25em;box-sizing: border-box;margin-bottom: 0.5em;}#sk-container-id-15 div.sk-estimator:hover {background-color: #d4ebff;}#sk-container-id-15 div.sk-parallel-item::after {content: \"\";width: 100%;border-bottom: 1px solid gray;flex-grow: 1;}#sk-container-id-15 div.sk-label:hover label.sk-toggleable__label {background-color: #d4ebff;}#sk-container-id-15 div.sk-serial::before {content: \"\";position: absolute;border-left: 1px solid gray;box-sizing: border-box;top: 0;bottom: 0;left: 50%;z-index: 0;}#sk-container-id-15 div.sk-serial {display: flex;flex-direction: column;align-items: center;background-color: white;padding-right: 0.2em;padding-left: 0.2em;position: relative;}#sk-container-id-15 div.sk-item {position: relative;z-index: 1;}#sk-container-id-15 div.sk-parallel {display: flex;align-items: stretch;justify-content: center;background-color: white;position: relative;}#sk-container-id-15 div.sk-item::before, #sk-container-id-15 div.sk-parallel-item::before {content: \"\";position: absolute;border-left: 1px solid gray;box-sizing: border-box;top: 0;bottom: 0;left: 50%;z-index: -1;}#sk-container-id-15 div.sk-parallel-item {display: flex;flex-direction: column;z-index: 1;position: relative;background-color: white;}#sk-container-id-15 div.sk-parallel-item:first-child::after {align-self: flex-end;width: 50%;}#sk-container-id-15 div.sk-parallel-item:last-child::after {align-self: flex-start;width: 50%;}#sk-container-id-15 div.sk-parallel-item:only-child::after {width: 0;}#sk-container-id-15 div.sk-dashed-wrapped {border: 1px dashed gray;margin: 0 0.4em 0.5em 0.4em;box-sizing: border-box;padding-bottom: 0.4em;background-color: white;}#sk-container-id-15 div.sk-label label {font-family: monospace;font-weight: bold;display: inline-block;line-height: 1.2em;}#sk-container-id-15 div.sk-label-container {text-align: center;}#sk-container-id-15 div.sk-container {/* jupyter's `normalize.less` sets `[hidden] { display: none; }` but bootstrap.min.css set `[hidden] { display: none !important; }` so we also need the `!important` here to be able to override the default hidden behavior on the sphinx rendered scikit-learn.org. See: https://github.com/scikit-learn/scikit-learn/issues/21755 */display: inline-block !important;position: relative;}#sk-container-id-15 div.sk-text-repr-fallback {display: none;}</style><div id=\"sk-container-id-15\" class=\"sk-top-container\"><div class=\"sk-text-repr-fallback\"><pre>RandomForestRegressor(max_depth=10, n_estimators=10)</pre><b>In a Jupyter environment, please rerun this cell to show the HTML representation or trust the notebook. <br />On GitHub, the HTML representation is unable to render, please try loading this page with nbviewer.org.</b></div><div class=\"sk-container\" hidden><div class=\"sk-item\"><div class=\"sk-estimator sk-toggleable\"><input class=\"sk-toggleable__control sk-hidden--visually\" id=\"sk-estimator-id-39\" type=\"checkbox\" checked><label for=\"sk-estimator-id-39\" class=\"sk-toggleable__label sk-toggleable__label-arrow\">RandomForestRegressor</label><div class=\"sk-toggleable__content\"><pre>RandomForestRegressor(max_depth=10, n_estimators=10)</pre></div></div></div></div></div>"
            ]
          },
          "metadata": {},
          "execution_count": 653
        }
      ],
      "source": [
        "# ML Model - RandomForestRegressor Implementation\n",
        "rf_mod = RandomForestRegressor(n_estimators = 10, max_depth = 10)\n",
        "\n",
        "# Fit the Algorithm\n",
        "rf_mod.fit(X_train,y_train)"
      ]
    },
    {
      "cell_type": "code",
      "source": [
        "# Predict on the model\n",
        "y_pred_test_rf = rf_mod.predict(X_test)"
      ],
      "metadata": {
        "id": "Bpa6pjoseFC0"
      },
      "execution_count": null,
      "outputs": []
    },
    {
      "cell_type": "code",
      "execution_count": null,
      "metadata": {
        "id": "-VgP_f3xUZ6O",
        "colab": {
          "base_uri": "https://localhost:8080/"
        },
        "outputId": "3508efdb-9e83-429c-e5cd-06777bf006e2"
      },
      "outputs": [
        {
          "output_type": "stream",
          "name": "stdout",
          "text": [
            "CURRENT PARAMS => {'bootstrap': True, 'ccp_alpha': 0.0, 'criterion': 'squared_error', 'max_depth': 10, 'max_features': 1.0, 'max_leaf_nodes': None, 'max_samples': None, 'min_impurity_decrease': 0.0, 'min_samples_leaf': 1, 'min_samples_split': 2, 'min_weight_fraction_leaf': 0.0, 'n_estimators': 10, 'n_jobs': None, 'oob_score': False, 'random_state': None, 'verbose': 0, 'warm_start': False}\n"
          ]
        }
      ],
      "source": [
        "print('CURRENT PARAMS =>',rf_mod.get_params())"
      ]
    },
    {
      "cell_type": "code",
      "execution_count": null,
      "metadata": {
        "id": "8XXWge2tF6Ub",
        "colab": {
          "base_uri": "https://localhost:8080/"
        },
        "outputId": "9c86b35d-3122-441e-8278-144c3f04bbfb"
      },
      "outputs": [
        {
          "output_type": "stream",
          "name": "stdout",
          "text": [
            "RandomForestRegressor : Train:  => 0.9885057599638924\n"
          ]
        }
      ],
      "source": [
        "print('RandomForestRegressor : Train: '.ljust(30,' '),'=>',rf_mod.score(X_train,y_train))"
      ]
    },
    {
      "cell_type": "code",
      "execution_count": null,
      "metadata": {
        "id": "r8XaRuCgGMzR",
        "colab": {
          "base_uri": "https://localhost:8080/"
        },
        "outputId": "8f3f80c5-19cb-4102-e108-d1d98f5e9c1a"
      },
      "outputs": [
        {
          "output_type": "stream",
          "name": "stdout",
          "text": [
            "RandomForestRegressor : Test:  => 0.9434863570878437\n"
          ]
        }
      ],
      "source": [
        "print('RandomForestRegressor : Test: '.ljust(30,' '),'=>',rf_mod.score(X_test,y_test))"
      ]
    },
    {
      "cell_type": "code",
      "execution_count": null,
      "metadata": {
        "id": "dRyWvynVGTut",
        "colab": {
          "base_uri": "https://localhost:8080/"
        },
        "outputId": "2f9cc281-e49d-48ca-94f8-801872268e2f"
      },
      "outputs": [
        {
          "output_type": "stream",
          "name": "stdout",
          "text": [
            "RandomForestRegressor: MSE           => 863095834161.6761\n",
            "RandomForestRegressor: RMSE          => 929029.5119971572\n",
            "RandomForestRegressor: MAE           => 243742.0358073194\n",
            "RandomForestRegressor: R2 SCORE      => 0.9434863570878437\n"
          ]
        }
      ],
      "source": [
        "# Evaluation metrics of the default parameters provided\n",
        "rf_mse = mean_squared_error(y_test,y_pred_test_rf)\n",
        "rf_rmse = np.sqrt(rf_mse)\n",
        "rf_mae = mean_absolute_error(y_test,y_pred_test_rf)\n",
        "rf_r2 = r2_score(y_test,y_pred_test_rf)\n",
        "print('RandomForestRegressor: MSE '.ljust(36,' '),'=>',rf_mse)\n",
        "print('RandomForestRegressor: RMSE '.ljust(36,' '),'=>',rf_rmse)\n",
        "print('RandomForestRegressor: MAE '.ljust(36,' '),'=>',rf_mae)\n",
        "print('RandomForestRegressor: R2 SCORE '.ljust(36,' '),'=>',rf_r2)"
      ]
    },
    {
      "cell_type": "markdown",
      "metadata": {
        "id": "E09ZgWoOo-Qz"
      },
      "source": [
        "#### 1. Explain the ML Model used and it's performance using Evaluation metric Score Chart."
      ]
    },
    {
      "cell_type": "code",
      "execution_count": null,
      "metadata": {
        "id": "CcrH5MZxo-Q0",
        "colab": {
          "base_uri": "https://localhost:8080/",
          "height": 445
        },
        "outputId": "629fe616-f922-4d68-c148-42d051e08e11"
      },
      "outputs": [
        {
          "output_type": "display_data",
          "data": {
            "text/plain": [
              "<Figure size 640x480 with 1 Axes>"
            ],
            "image/png": "[encoded data removed]"
          },
          "metadata": {}
        }
      ],
      "source": [
        "# Visualizing evaluation Metric Score chart\n",
        "plt.plot(np.array(y_test), color = 'red', label = 'Actual')\n",
        "plt.plot(np.array(y_pred_test_rf), color = 'blue', label = 'Predicted')\n",
        "plt.show()"
      ]
    },
    {
      "cell_type": "markdown",
      "metadata": {
        "id": "ndBeQ-00o-Q0"
      },
      "source": [
        "#### 2. Cross- Validation & Hyperparameter Tuning"
      ]
    },
    {
      "cell_type": "code",
      "execution_count": null,
      "metadata": {
        "id": "Mb2o5Qsdo-Q0",
        "colab": {
          "base_uri": "https://localhost:8080/",
          "height": 135
        },
        "outputId": "d1aa1bf7-c0ad-4da9-8f7c-e2a56b60b623"
      },
      "outputs": [
        {
          "output_type": "stream",
          "name": "stdout",
          "text": [
            "Fitting 5 folds for each of 42 candidates, totalling 210 fits\n"
          ]
        },
        {
          "output_type": "execute_result",
          "data": {
            "text/plain": [
              "GridSearchCV(cv=5, estimator=RandomForestRegressor(), n_jobs=2,\n",
              "             param_grid={'max_depth': [5, 6, 7, 8, 9, 10, 11],\n",
              "                         'max_features': ['auto', 'sqrt', 'log2'],\n",
              "                         'n_estimators': [200, 500]},\n",
              "             verbose=1)"
            ],
            "text/html": [
              "<style>#sk-container-id-16 {color: black;background-color: white;}#sk-container-id-16 pre{padding: 0;}#sk-container-id-16 div.sk-toggleable {background-color: white;}#sk-container-id-16 label.sk-toggleable__label {cursor: pointer;display: block;width: 100%;margin-bottom: 0;padding: 0.3em;box-sizing: border-box;text-align: center;}#sk-container-id-16 label.sk-toggleable__label-arrow:before {content: \"▸\";float: left;margin-right: 0.25em;color: #696969;}#sk-container-id-16 label.sk-toggleable__label-arrow:hover:before {color: black;}#sk-container-id-16 div.sk-estimator:hover label.sk-toggleable__label-arrow:before {color: black;}#sk-container-id-16 div.sk-toggleable__content {max-height: 0;max-width: 0;overflow: hidden;text-align: left;background-color: #f0f8ff;}#sk-container-id-16 div.sk-toggleable__content pre {margin: 0.2em;color: black;border-radius: 0.25em;background-color: #f0f8ff;}#sk-container-id-16 input.sk-toggleable__control:checked~div.sk-toggleable__content {max-height: 200px;max-width: 100%;overflow: auto;}#sk-container-id-16 input.sk-toggleable__control:checked~label.sk-toggleable__label-arrow:before {content: \"▾\";}#sk-container-id-16 div.sk-estimator input.sk-toggleable__control:checked~label.sk-toggleable__label {background-color: #d4ebff;}#sk-container-id-16 div.sk-label input.sk-toggleable__control:checked~label.sk-toggleable__label {background-color: #d4ebff;}#sk-container-id-16 input.sk-hidden--visually {border: 0;clip: rect(1px 1px 1px 1px);clip: rect(1px, 1px, 1px, 1px);height: 1px;margin: -1px;overflow: hidden;padding: 0;position: absolute;width: 1px;}#sk-container-id-16 div.sk-estimator {font-family: monospace;background-color: #f0f8ff;border: 1px dotted black;border-radius: 0.25em;box-sizing: border-box;margin-bottom: 0.5em;}#sk-container-id-16 div.sk-estimator:hover {background-color: #d4ebff;}#sk-container-id-16 div.sk-parallel-item::after {content: \"\";width: 100%;border-bottom: 1px solid gray;flex-grow: 1;}#sk-container-id-16 div.sk-label:hover label.sk-toggleable__label {background-color: #d4ebff;}#sk-container-id-16 div.sk-serial::before {content: \"\";position: absolute;border-left: 1px solid gray;box-sizing: border-box;top: 0;bottom: 0;left: 50%;z-index: 0;}#sk-container-id-16 div.sk-serial {display: flex;flex-direction: column;align-items: center;background-color: white;padding-right: 0.2em;padding-left: 0.2em;position: relative;}#sk-container-id-16 div.sk-item {position: relative;z-index: 1;}#sk-container-id-16 div.sk-parallel {display: flex;align-items: stretch;justify-content: center;background-color: white;position: relative;}#sk-container-id-16 div.sk-item::before, #sk-container-id-16 div.sk-parallel-item::before {content: \"\";position: absolute;border-left: 1px solid gray;box-sizing: border-box;top: 0;bottom: 0;left: 50%;z-index: -1;}#sk-container-id-16 div.sk-parallel-item {display: flex;flex-direction: column;z-index: 1;position: relative;background-color: white;}#sk-container-id-16 div.sk-parallel-item:first-child::after {align-self: flex-end;width: 50%;}#sk-container-id-16 div.sk-parallel-item:last-child::after {align-self: flex-start;width: 50%;}#sk-container-id-16 div.sk-parallel-item:only-child::after {width: 0;}#sk-container-id-16 div.sk-dashed-wrapped {border: 1px dashed gray;margin: 0 0.4em 0.5em 0.4em;box-sizing: border-box;padding-bottom: 0.4em;background-color: white;}#sk-container-id-16 div.sk-label label {font-family: monospace;font-weight: bold;display: inline-block;line-height: 1.2em;}#sk-container-id-16 div.sk-label-container {text-align: center;}#sk-container-id-16 div.sk-container {/* jupyter's `normalize.less` sets `[hidden] { display: none; }` but bootstrap.min.css set `[hidden] { display: none !important; }` so we also need the `!important` here to be able to override the default hidden behavior on the sphinx rendered scikit-learn.org. See: https://github.com/scikit-learn/scikit-learn/issues/21755 */display: inline-block !important;position: relative;}#sk-container-id-16 div.sk-text-repr-fallback {display: none;}</style><div id=\"sk-container-id-16\" class=\"sk-top-container\"><div class=\"sk-text-repr-fallback\"><pre>GridSearchCV(cv=5, estimator=RandomForestRegressor(), n_jobs=2,\n",
              "             param_grid={&#x27;max_depth&#x27;: [5, 6, 7, 8, 9, 10, 11],\n",
              "                         &#x27;max_features&#x27;: [&#x27;auto&#x27;, &#x27;sqrt&#x27;, &#x27;log2&#x27;],\n",
              "                         &#x27;n_estimators&#x27;: [200, 500]},\n",
              "             verbose=1)</pre><b>In a Jupyter environment, please rerun this cell to show the HTML representation or trust the notebook. <br />On GitHub, the HTML representation is unable to render, please try loading this page with nbviewer.org.</b></div><div class=\"sk-container\" hidden><div class=\"sk-item sk-dashed-wrapped\"><div class=\"sk-label-container\"><div class=\"sk-label sk-toggleable\"><input class=\"sk-toggleable__control sk-hidden--visually\" id=\"sk-estimator-id-40\" type=\"checkbox\" ><label for=\"sk-estimator-id-40\" class=\"sk-toggleable__label sk-toggleable__label-arrow\">GridSearchCV</label><div class=\"sk-toggleable__content\"><pre>GridSearchCV(cv=5, estimator=RandomForestRegressor(), n_jobs=2,\n",
              "             param_grid={&#x27;max_depth&#x27;: [5, 6, 7, 8, 9, 10, 11],\n",
              "                         &#x27;max_features&#x27;: [&#x27;auto&#x27;, &#x27;sqrt&#x27;, &#x27;log2&#x27;],\n",
              "                         &#x27;n_estimators&#x27;: [200, 500]},\n",
              "             verbose=1)</pre></div></div></div><div class=\"sk-parallel\"><div class=\"sk-parallel-item\"><div class=\"sk-item\"><div class=\"sk-label-container\"><div class=\"sk-label sk-toggleable\"><input class=\"sk-toggleable__control sk-hidden--visually\" id=\"sk-estimator-id-41\" type=\"checkbox\" ><label for=\"sk-estimator-id-41\" class=\"sk-toggleable__label sk-toggleable__label-arrow\">estimator: RandomForestRegressor</label><div class=\"sk-toggleable__content\"><pre>RandomForestRegressor()</pre></div></div></div><div class=\"sk-serial\"><div class=\"sk-item\"><div class=\"sk-estimator sk-toggleable\"><input class=\"sk-toggleable__control sk-hidden--visually\" id=\"sk-estimator-id-42\" type=\"checkbox\" ><label for=\"sk-estimator-id-42\" class=\"sk-toggleable__label sk-toggleable__label-arrow\">RandomForestRegressor</label><div class=\"sk-toggleable__content\"><pre>RandomForestRegressor()</pre></div></div></div></div></div></div></div></div></div></div>"
            ]
          },
          "metadata": {},
          "execution_count": 660
        }
      ],
      "source": [
        "# ML Model - RandomForestRegressor Implementation with hyperparameter optimization techniques (i.e., GridSearch CV, RandomSearch CV, Bayesian Optimization etc.)\n",
        "rf_mod_cv = RandomForestRegressor(verbose =1)\n",
        "\n",
        "rf_params = {\n",
        "  'n_estimators': [200, 500],\n",
        "  'max_features': ['auto', 'sqrt', 'log2'],\n",
        "  'max_depth' : [5,6,7,8,9,10,11]\n",
        "  }\n",
        "rf_random_cv = GridSearchCV(rf_mod_cv,rf_params, cv = 5, n_jobs = 2)\n",
        "# Fit the Algorithm\n",
        "rf_random_cv.fit(X_train,y_train)\n"
      ]
    },
    {
      "cell_type": "code",
      "execution_count": null,
      "metadata": {
        "id": "NU-vRAaAOUEJ"
      },
      "outputs": [],
      "source": [
        "# Predict on the model\n",
        "rf_mod_random_cv = rf_random_cv.best_estimator_\n",
        "\n",
        "y_pred_test_rf_cv =  rf_mod_random_cv.predict(X_test)"
      ]
    },
    {
      "cell_type": "code",
      "source": [
        "print('Features Importance =>',rf_mod_random_cv.feature_importances_)"
      ],
      "metadata": {
        "colab": {
          "base_uri": "https://localhost:8080/"
        },
        "id": "c2vb1FSPkaeI",
        "outputId": "a64cc625-ad10-4cb4-db7a-9c67b7d34e2c"
      },
      "execution_count": null,
      "outputs": [
        {
          "output_type": "stream",
          "name": "stdout",
          "text": [
            "Features Importance => [0.02591643 0.00683973 0.0299665  0.00287547 0.47881831 0.00515894\n",
            " 0.02756586 0.42285875]\n"
          ]
        }
      ]
    },
    {
      "cell_type": "code",
      "execution_count": null,
      "metadata": {
        "id": "_OhlpLB-YzCL",
        "colab": {
          "base_uri": "https://localhost:8080/"
        },
        "outputId": "113de4f0-44e0-423e-dfc9-f862c2af9048"
      },
      "outputs": [
        {
          "output_type": "stream",
          "name": "stdout",
          "text": [
            "Best Params => {'max_depth': 11, 'max_features': 'auto', 'n_estimators': 200}\n"
          ]
        }
      ],
      "source": [
        "print('Best Params =>',rf_random_cv.best_params_)"
      ]
    },
    {
      "cell_type": "code",
      "execution_count": null,
      "metadata": {
        "id": "3igmZNgsh-ow",
        "colab": {
          "base_uri": "https://localhost:8080/"
        },
        "outputId": "f87bd1bd-e64e-415a-dcfe-fb2423a4c811"
      },
      "outputs": [
        {
          "output_type": "stream",
          "name": "stdout",
          "text": [
            "RandomForestRegressor : Train(CV):  => 0.9894384694762883\n"
          ]
        }
      ],
      "source": [
        "print('RandomForestRegressor : Train(CV): '.ljust(30,' '),'=>',rf_mod_random_cv.score(X_train,y_train))"
      ]
    },
    {
      "cell_type": "code",
      "execution_count": null,
      "metadata": {
        "id": "7BQwFN4Dh-ow",
        "colab": {
          "base_uri": "https://localhost:8080/"
        },
        "outputId": "315f687a-2b73-4422-f846-d3ee169cade1"
      },
      "outputs": [
        {
          "output_type": "stream",
          "name": "stdout",
          "text": [
            "RandomForestRegressor : Test(CV):  => 0.9248076735981383\n"
          ]
        }
      ],
      "source": [
        "print('RandomForestRegressor : Test(CV): '.ljust(30,' '),'=>',rf_mod_random_cv.score(X_test,y_test))"
      ]
    },
    {
      "cell_type": "code",
      "execution_count": null,
      "metadata": {
        "id": "K2cA4EE5GqUD",
        "colab": {
          "base_uri": "https://localhost:8080/"
        },
        "outputId": "4e9a1c3b-b94e-41cb-ba2c-84b9ba96c519"
      },
      "outputs": [
        {
          "output_type": "stream",
          "name": "stdout",
          "text": [
            "RandomForestRegressor: MSE (CV)      => 1148363126745.3123\n",
            "RandomForestRegressor: RMSE (CV)     => 1071617.0616154412\n",
            "RandomForestRegressor: MAE (CV)      => 235148.87852325573\n",
            "RandomForestRegressor: R2 SCORE (CV) => 0.9248076735981383\n"
          ]
        }
      ],
      "source": [
        "rf_mse_cv = mean_squared_error(y_test,y_pred_test_rf_cv)\n",
        "rf_rmse_cv = np.sqrt(rf_mse_cv)\n",
        "rf_mae_cv = mean_absolute_error(y_test,y_pred_test_rf_cv)\n",
        "rf_r2_cv = r2_score(y_test,y_pred_test_rf_cv)\n",
        "print('RandomForestRegressor: MSE (CV)'.ljust(36,' '),'=>',rf_mse_cv)\n",
        "print('RandomForestRegressor: RMSE (CV)'.ljust(36,' '),'=>',rf_rmse_cv)\n",
        "print('RandomForestRegressor: MAE (CV)'.ljust(36,' '),'=>',rf_mae_cv)\n",
        "print('RandomForestRegressor: R2 SCORE (CV)'.ljust(36,' '),'=>',rf_r2_cv)"
      ]
    },
    {
      "cell_type": "code",
      "execution_count": null,
      "metadata": {
        "id": "L0hy9mX5VzvS"
      },
      "outputs": [],
      "source": [
        "mrow = {'model_name': 'RandomForestRegression',\n",
        "        'train_score': rf_mod.score(X_train,y_train),\n",
        "        'test_score': rf_mod.score(X_test,y_test),\n",
        "        'train_score_cv': rf_mod_random_cv.score(X_train,y_train),\n",
        "        'test_score_cv' : rf_mod_random_cv.score(X_test,y_test),\n",
        "        'MSE': rf_mse,\n",
        "        'RMSE': rf_rmse,\n",
        "        'MAE': rf_mae,\n",
        "        'R2_SCORE': rf_r2,\n",
        "        'MSE_CV': rf_mse_cv,\n",
        "        'MAE_CV': rf_mae_cv,\n",
        "        'RMSE_CV': rf_rmse_cv,\n",
        "        'R2_SCORE_CV': rf_r2_cv}\n",
        "models = models.append(mrow,ignore_index = True)"
      ]
    },
    {
      "cell_type": "markdown",
      "metadata": {
        "id": "B4wS2K99o-Q0"
      },
      "source": [
        "##### Which hyperparameter optimization technique have you used and why?"
      ]
    },
    {
      "cell_type": "markdown",
      "metadata": {
        "id": "TG3UVBCho-Q1"
      },
      "source": [
        "We have applied GridSearchCV here to acquire the optimal set of parameters from the ones which we have defined, assuming to form the best combination."
      ]
    },
    {
      "cell_type": "markdown",
      "metadata": {
        "id": "8kpV3jfNo-Q1"
      },
      "source": [
        "##### Have you seen any improvement? Note down the improvement with updates Evaluation metric Score Chart."
      ]
    },
    {
      "cell_type": "markdown",
      "metadata": {
        "id": "3sl6KVzbo-Q1"
      },
      "source": [
        "The evaluation metrics show acceptable error results and r-squared score is lesser than expected for the model."
      ]
    },
    {
      "cell_type": "markdown",
      "metadata": {
        "id": "Vl5EBJTB5jPK"
      },
      "source": [
        "### ML Model - XGBRegressor"
      ]
    },
    {
      "cell_type": "code",
      "execution_count": null,
      "metadata": {
        "id": "CfPputvO6A6m"
      },
      "outputs": [],
      "source": [
        "# ML Model - XGBRegressor Implementation\n",
        "xgbr = XGBRegressor(n_estimators = 10, max_depth = 9)\n",
        "\n",
        "# Fit the Algorithm\n",
        "xgbr.fit(X_train,y_train)\n",
        "# Predict on the model\n",
        "\n",
        "y_pred_test_xgbr = xgbr.predict(X_test)"
      ]
    },
    {
      "cell_type": "code",
      "execution_count": null,
      "metadata": {
        "id": "CEqds9x26A6m",
        "colab": {
          "base_uri": "https://localhost:8080/"
        },
        "outputId": "5e9e81bd-7ccf-4bc7-baa2-320374aee277"
      },
      "outputs": [
        {
          "output_type": "stream",
          "name": "stdout",
          "text": [
            "XGBRegressor : Train:          => 0.9885057599638924\n"
          ]
        }
      ],
      "source": [
        "print('XGBRegressor : Train: '.ljust(30,' '),'=>',rf_mod.score(X_train,y_train))"
      ]
    },
    {
      "cell_type": "code",
      "execution_count": null,
      "metadata": {
        "id": "Vph32Xh96A6m",
        "colab": {
          "base_uri": "https://localhost:8080/"
        },
        "outputId": "7dc41e5c-c94c-464e-e196-b649b07bbac2"
      },
      "outputs": [
        {
          "output_type": "stream",
          "name": "stdout",
          "text": [
            "XGBRegressor : Test:           => 0.9434863570878437\n"
          ]
        }
      ],
      "source": [
        "print('XGBRegressor : Test: '.ljust(30,' '),'=>',rf_mod.score(X_test,y_test))"
      ]
    },
    {
      "cell_type": "code",
      "execution_count": null,
      "metadata": {
        "id": "YyTLl_-n6A6m",
        "colab": {
          "base_uri": "https://localhost:8080/"
        },
        "outputId": "860b456d-72bb-40d9-80d1-15d44fd9e389"
      },
      "outputs": [
        {
          "output_type": "stream",
          "name": "stdout",
          "text": [
            "XGBRegressor: MSE                    => 1038051732422.2239\n",
            "XGBRegressor: RMSE                   => 1018848.2381700544\n",
            "XGBRegressor: MAE                    => 230907.41243408204\n",
            "XGBRegressor: R2 SCORE               => 0.932030624400551\n"
          ]
        }
      ],
      "source": [
        "# Evaluation metrics of the default parameters provided\n",
        "xr_mse = mean_squared_error(y_test,y_pred_test_xgbr)\n",
        "xr_rmse = np.sqrt(xr_mse)\n",
        "xr_mae = mean_absolute_error(y_test,y_pred_test_xgbr)\n",
        "xr_r2 = r2_score(y_test,y_pred_test_xgbr)\n",
        "print('XGBRegressor: MSE '.ljust(36,' '),'=>',xr_mse)\n",
        "print('XGBRegressor: RMSE '.ljust(36,' '),'=>',xr_rmse)\n",
        "print('XGBRegressor: MAE '.ljust(36,' '),'=>',xr_mae)\n",
        "print('XGBRegressor: R2 SCORE '.ljust(36,' '),'=>',xr_r2)"
      ]
    },
    {
      "cell_type": "markdown",
      "metadata": {
        "id": "2oMlZ4w66A6m"
      },
      "source": [
        "#### 1. Explain the ML Model used and it's performance using Evaluation metric Score Chart."
      ]
    },
    {
      "cell_type": "code",
      "execution_count": null,
      "metadata": {
        "id": "Opss5O066A6m",
        "colab": {
          "base_uri": "https://localhost:8080/",
          "height": 445
        },
        "outputId": "160dac56-35ab-4d0a-931a-c9f273d367f5"
      },
      "outputs": [
        {
          "output_type": "display_data",
          "data": {
            "text/plain": [
              "<Figure size 640x480 with 1 Axes>"
            ],
            "image/png": "[encoded data removed]"
          },
          "metadata": {}
        }
      ],
      "source": [
        "# Visualizing evaluation Metric Score chart\n",
        "plt.plot(np.array(y_test), color = 'red', label = 'Actual')\n",
        "plt.plot(np.array(y_pred_test_xgbr), color = 'blue', label = 'Predicted')\n",
        "plt.show()"
      ]
    },
    {
      "cell_type": "markdown",
      "metadata": {
        "id": "Tqy7mc7U6A6m"
      },
      "source": [
        "#### 2. Cross- Validation & Hyperparameter Tuning"
      ]
    },
    {
      "cell_type": "code",
      "execution_count": null,
      "metadata": {
        "id": "zb9C3QSQ6A6n",
        "colab": {
          "base_uri": "https://localhost:8080/",
          "height": 117
        },
        "outputId": "66942956-0042-48c3-cd69-6b82bcebd719"
      },
      "outputs": [
        {
          "output_type": "execute_result",
          "data": {
            "text/plain": [
              "GridSearchCV(cv=5,\n",
              "             estimator=XGBRegressor(base_score=None, booster=None,\n",
              "                                    callbacks=None, colsample_bylevel=None,\n",
              "                                    colsample_bynode=None,\n",
              "                                    colsample_bytree=None,\n",
              "                                    early_stopping_rounds=None,\n",
              "                                    enable_categorical=False, eval_metric=None,\n",
              "                                    feature_types=None, gamma=None, gpu_id=None,\n",
              "                                    grow_policy=None, importance_type=None,\n",
              "                                    interaction_constraints=None,\n",
              "                                    learning_rate=None, max_bin=None,\n",
              "                                    max_cat_threshold=None,\n",
              "                                    max_cat_to_onehot=None, max_delta_step=None,\n",
              "                                    max_depth=None, max_leaves=None,\n",
              "                                    min_child_weight=None, missing=nan,\n",
              "                                    monotone_constraints=None, n_estimators=100,\n",
              "                                    n_jobs=None, num_parallel_tree=None,\n",
              "                                    predictor=None, random_state=None, ...),\n",
              "             param_grid={'max_depth': [9, 10, 11, 12],\n",
              "                         'n_estimators': array([100, 200, 300, 400, 500])})"
            ],
            "text/html": [
              "<style>#sk-container-id-17 {color: black;background-color: white;}#sk-container-id-17 pre{padding: 0;}#sk-container-id-17 div.sk-toggleable {background-color: white;}#sk-container-id-17 label.sk-toggleable__label {cursor: pointer;display: block;width: 100%;margin-bottom: 0;padding: 0.3em;box-sizing: border-box;text-align: center;}#sk-container-id-17 label.sk-toggleable__label-arrow:before {content: \"▸\";float: left;margin-right: 0.25em;color: #696969;}#sk-container-id-17 label.sk-toggleable__label-arrow:hover:before {color: black;}#sk-container-id-17 div.sk-estimator:hover label.sk-toggleable__label-arrow:before {color: black;}#sk-container-id-17 div.sk-toggleable__content {max-height: 0;max-width: 0;overflow: hidden;text-align: left;background-color: #f0f8ff;}#sk-container-id-17 div.sk-toggleable__content pre {margin: 0.2em;color: black;border-radius: 0.25em;background-color: #f0f8ff;}#sk-container-id-17 input.sk-toggleable__control:checked~div.sk-toggleable__content {max-height: 200px;max-width: 100%;overflow: auto;}#sk-container-id-17 input.sk-toggleable__control:checked~label.sk-toggleable__label-arrow:before {content: \"▾\";}#sk-container-id-17 div.sk-estimator input.sk-toggleable__control:checked~label.sk-toggleable__label {background-color: #d4ebff;}#sk-container-id-17 div.sk-label input.sk-toggleable__control:checked~label.sk-toggleable__label {background-color: #d4ebff;}#sk-container-id-17 input.sk-hidden--visually {border: 0;clip: rect(1px 1px 1px 1px);clip: rect(1px, 1px, 1px, 1px);height: 1px;margin: -1px;overflow: hidden;padding: 0;position: absolute;width: 1px;}#sk-container-id-17 div.sk-estimator {font-family: monospace;background-color: #f0f8ff;border: 1px dotted black;border-radius: 0.25em;box-sizing: border-box;margin-bottom: 0.5em;}#sk-container-id-17 div.sk-estimator:hover {background-color: #d4ebff;}#sk-container-id-17 div.sk-parallel-item::after {content: \"\";width: 100%;border-bottom: 1px solid gray;flex-grow: 1;}#sk-container-id-17 div.sk-label:hover label.sk-toggleable__label {background-color: #d4ebff;}#sk-container-id-17 div.sk-serial::before {content: \"\";position: absolute;border-left: 1px solid gray;box-sizing: border-box;top: 0;bottom: 0;left: 50%;z-index: 0;}#sk-container-id-17 div.sk-serial {display: flex;flex-direction: column;align-items: center;background-color: white;padding-right: 0.2em;padding-left: 0.2em;position: relative;}#sk-container-id-17 div.sk-item {position: relative;z-index: 1;}#sk-container-id-17 div.sk-parallel {display: flex;align-items: stretch;justify-content: center;background-color: white;position: relative;}#sk-container-id-17 div.sk-item::before, #sk-container-id-17 div.sk-parallel-item::before {content: \"\";position: absolute;border-left: 1px solid gray;box-sizing: border-box;top: 0;bottom: 0;left: 50%;z-index: -1;}#sk-container-id-17 div.sk-parallel-item {display: flex;flex-direction: column;z-index: 1;position: relative;background-color: white;}#sk-container-id-17 div.sk-parallel-item:first-child::after {align-self: flex-end;width: 50%;}#sk-container-id-17 div.sk-parallel-item:last-child::after {align-self: flex-start;width: 50%;}#sk-container-id-17 div.sk-parallel-item:only-child::after {width: 0;}#sk-container-id-17 div.sk-dashed-wrapped {border: 1px dashed gray;margin: 0 0.4em 0.5em 0.4em;box-sizing: border-box;padding-bottom: 0.4em;background-color: white;}#sk-container-id-17 div.sk-label label {font-family: monospace;font-weight: bold;display: inline-block;line-height: 1.2em;}#sk-container-id-17 div.sk-label-container {text-align: center;}#sk-container-id-17 div.sk-container {/* jupyter's `normalize.less` sets `[hidden] { display: none; }` but bootstrap.min.css set `[hidden] { display: none !important; }` so we also need the `!important` here to be able to override the default hidden behavior on the sphinx rendered scikit-learn.org. See: https://github.com/scikit-learn/scikit-learn/issues/21755 */display: inline-block !important;position: relative;}#sk-container-id-17 div.sk-text-repr-fallback {display: none;}</style><div id=\"sk-container-id-17\" class=\"sk-top-container\"><div class=\"sk-text-repr-fallback\"><pre>GridSearchCV(cv=5,\n",
              "             estimator=XGBRegressor(base_score=None, booster=None,\n",
              "                                    callbacks=None, colsample_bylevel=None,\n",
              "                                    colsample_bynode=None,\n",
              "                                    colsample_bytree=None,\n",
              "                                    early_stopping_rounds=None,\n",
              "                                    enable_categorical=False, eval_metric=None,\n",
              "                                    feature_types=None, gamma=None, gpu_id=None,\n",
              "                                    grow_policy=None, importance_type=None,\n",
              "                                    interaction_constraints=None,\n",
              "                                    learning_rate=None, max_bin=None,\n",
              "                                    max_cat_threshold=None,\n",
              "                                    max_cat_to_onehot=None, max_delta_step=None,\n",
              "                                    max_depth=None, max_leaves=None,\n",
              "                                    min_child_weight=None, missing=nan,\n",
              "                                    monotone_constraints=None, n_estimators=100,\n",
              "                                    n_jobs=None, num_parallel_tree=None,\n",
              "                                    predictor=None, random_state=None, ...),\n",
              "             param_grid={&#x27;max_depth&#x27;: [9, 10, 11, 12],\n",
              "                         &#x27;n_estimators&#x27;: array([100, 200, 300, 400, 500])})</pre><b>In a Jupyter environment, please rerun this cell to show the HTML representation or trust the notebook. <br />On GitHub, the HTML representation is unable to render, please try loading this page with nbviewer.org.</b></div><div class=\"sk-container\" hidden><div class=\"sk-item sk-dashed-wrapped\"><div class=\"sk-label-container\"><div class=\"sk-label sk-toggleable\"><input class=\"sk-toggleable__control sk-hidden--visually\" id=\"sk-estimator-id-43\" type=\"checkbox\" ><label for=\"sk-estimator-id-43\" class=\"sk-toggleable__label sk-toggleable__label-arrow\">GridSearchCV</label><div class=\"sk-toggleable__content\"><pre>GridSearchCV(cv=5,\n",
              "             estimator=XGBRegressor(base_score=None, booster=None,\n",
              "                                    callbacks=None, colsample_bylevel=None,\n",
              "                                    colsample_bynode=None,\n",
              "                                    colsample_bytree=None,\n",
              "                                    early_stopping_rounds=None,\n",
              "                                    enable_categorical=False, eval_metric=None,\n",
              "                                    feature_types=None, gamma=None, gpu_id=None,\n",
              "                                    grow_policy=None, importance_type=None,\n",
              "                                    interaction_constraints=None,\n",
              "                                    learning_rate=None, max_bin=None,\n",
              "                                    max_cat_threshold=None,\n",
              "                                    max_cat_to_onehot=None, max_delta_step=None,\n",
              "                                    max_depth=None, max_leaves=None,\n",
              "                                    min_child_weight=None, missing=nan,\n",
              "                                    monotone_constraints=None, n_estimators=100,\n",
              "                                    n_jobs=None, num_parallel_tree=None,\n",
              "                                    predictor=None, random_state=None, ...),\n",
              "             param_grid={&#x27;max_depth&#x27;: [9, 10, 11, 12],\n",
              "                         &#x27;n_estimators&#x27;: array([100, 200, 300, 400, 500])})</pre></div></div></div><div class=\"sk-parallel\"><div class=\"sk-parallel-item\"><div class=\"sk-item\"><div class=\"sk-label-container\"><div class=\"sk-label sk-toggleable\"><input class=\"sk-toggleable__control sk-hidden--visually\" id=\"sk-estimator-id-44\" type=\"checkbox\" ><label for=\"sk-estimator-id-44\" class=\"sk-toggleable__label sk-toggleable__label-arrow\">estimator: XGBRegressor</label><div class=\"sk-toggleable__content\"><pre>XGBRegressor(base_score=None, booster=None, callbacks=None,\n",
              "             colsample_bylevel=None, colsample_bynode=None,\n",
              "             colsample_bytree=None, early_stopping_rounds=None,\n",
              "             enable_categorical=False, eval_metric=None, feature_types=None,\n",
              "             gamma=None, gpu_id=None, grow_policy=None, importance_type=None,\n",
              "             interaction_constraints=None, learning_rate=None, max_bin=None,\n",
              "             max_cat_threshold=None, max_cat_to_onehot=None,\n",
              "             max_delta_step=None, max_depth=None, max_leaves=None,\n",
              "             min_child_weight=None, missing=nan, monotone_constraints=None,\n",
              "             n_estimators=100, n_jobs=None, num_parallel_tree=None,\n",
              "             predictor=None, random_state=None, ...)</pre></div></div></div><div class=\"sk-serial\"><div class=\"sk-item\"><div class=\"sk-estimator sk-toggleable\"><input class=\"sk-toggleable__control sk-hidden--visually\" id=\"sk-estimator-id-45\" type=\"checkbox\" ><label for=\"sk-estimator-id-45\" class=\"sk-toggleable__label sk-toggleable__label-arrow\">XGBRegressor</label><div class=\"sk-toggleable__content\"><pre>XGBRegressor(base_score=None, booster=None, callbacks=None,\n",
              "             colsample_bylevel=None, colsample_bynode=None,\n",
              "             colsample_bytree=None, early_stopping_rounds=None,\n",
              "             enable_categorical=False, eval_metric=None, feature_types=None,\n",
              "             gamma=None, gpu_id=None, grow_policy=None, importance_type=None,\n",
              "             interaction_constraints=None, learning_rate=None, max_bin=None,\n",
              "             max_cat_threshold=None, max_cat_to_onehot=None,\n",
              "             max_delta_step=None, max_depth=None, max_leaves=None,\n",
              "             min_child_weight=None, missing=nan, monotone_constraints=None,\n",
              "             n_estimators=100, n_jobs=None, num_parallel_tree=None,\n",
              "             predictor=None, random_state=None, ...)</pre></div></div></div></div></div></div></div></div></div></div>"
            ]
          },
          "metadata": {},
          "execution_count": 673
        }
      ],
      "source": [
        "# ML Model - XGBRegressor Implementation with hyperparameter optimization techniques (i.e., GridSearch CV, RandomSearch CV, Bayesian Optimization etc.)\n",
        "xgbr_mod_cv = XGBRegressor()\n",
        "\n",
        "xgbr_params = {\n",
        "    'n_estimators' : np.arange(100,600,100),\n",
        "    'max_depth' : [9,10,11,12],\n",
        "}\n",
        "\n",
        "xgbr_grid_cv = GridSearchCV(xgbr_mod_cv,xgbr_params, cv = 5)\n",
        "# Fit the Algorithm\n",
        "xgbr_grid_cv.fit(X_train,y_train)\n"
      ]
    },
    {
      "cell_type": "code",
      "execution_count": null,
      "metadata": {
        "id": "NIMhiMA36A6n"
      },
      "outputs": [],
      "source": [
        "# Predict on the model\n",
        "xgbr_grid_cv_mod = xgbr_grid_cv.best_estimator_\n",
        "\n",
        "y_pred_test_xgbr_cv =  xgbr_grid_cv_mod.predict(X_test)"
      ]
    },
    {
      "cell_type": "code",
      "source": [],
      "metadata": {
        "id": "EQ318hXBtU3V"
      },
      "execution_count": null,
      "outputs": []
    },
    {
      "cell_type": "code",
      "source": [
        "print('Feature Importances XGBREgressor => ',xgbr_grid_cv_mod.feature_importances_)"
      ],
      "metadata": {
        "colab": {
          "base_uri": "https://localhost:8080/"
        },
        "id": "mqRXr_3Ms3B-",
        "outputId": "3677a941-9002-4de9-b2d6-df607118dc87"
      },
      "execution_count": null,
      "outputs": [
        {
          "output_type": "stream",
          "name": "stdout",
          "text": [
            "Feature Importances XGBREgressor =>  [7.1308487e-03 1.3621415e-03 3.8522594e-02 1.5300568e-03 4.2133942e-01\n",
            " 2.9159538e-04 7.9110853e-02 4.5071247e-01]\n"
          ]
        }
      ]
    },
    {
      "cell_type": "code",
      "execution_count": null,
      "metadata": {
        "id": "AdKPvgeSG3UT",
        "colab": {
          "base_uri": "https://localhost:8080/"
        },
        "outputId": "66c305d6-7aef-416c-9e48-002cb7355a7f"
      },
      "outputs": [
        {
          "output_type": "stream",
          "name": "stdout",
          "text": [
            "Best Params : XGBRegressor:    => {'max_depth': 11, 'n_estimators': 200}\n"
          ]
        }
      ],
      "source": [
        "print('Best Params : XGBRegressor: '.ljust(30,' '),'=>',xgbr_grid_cv.best_params_)"
      ]
    },
    {
      "cell_type": "code",
      "execution_count": null,
      "metadata": {
        "id": "K8Ywk_p96A6n",
        "colab": {
          "base_uri": "https://localhost:8080/"
        },
        "outputId": "aa7c0bb1-7a6a-4fd5-b0af-0caa1877afca"
      },
      "outputs": [
        {
          "output_type": "stream",
          "name": "stdout",
          "text": [
            "XGBRegressor : Train(CV):      => 0.9999999999294615\n"
          ]
        }
      ],
      "source": [
        "print('XGBRegressor : Train(CV): '.ljust(30,' '),'=>',xgbr_grid_cv_mod.score(X_train,y_train))"
      ]
    },
    {
      "cell_type": "code",
      "execution_count": null,
      "metadata": {
        "id": "Nu_tKxQ56A6n",
        "colab": {
          "base_uri": "https://localhost:8080/"
        },
        "outputId": "7703e241-c715-464c-9239-331c5de2e480"
      },
      "outputs": [
        {
          "output_type": "stream",
          "name": "stdout",
          "text": [
            "XGBRegressor : Test(CV):       => 0.938762635871558\n"
          ]
        }
      ],
      "source": [
        "print('XGBRegressor : Test(CV): '.ljust(30,' '),'=>',xgbr_grid_cv_mod.score(X_test,y_test))"
      ]
    },
    {
      "cell_type": "code",
      "execution_count": null,
      "metadata": {
        "id": "jRirx3dB6A6n",
        "colab": {
          "base_uri": "https://localhost:8080/"
        },
        "outputId": "e91be601-4215-4fb1-a45d-b6ebb3009b61"
      },
      "outputs": [
        {
          "output_type": "stream",
          "name": "stdout",
          "text": [
            "XGBRegressor: MSE (CV)               => 935238132789.5431\n",
            "XGBRegressor: RMSE (CV)              => 967077.1079854714\n",
            "XGBRegressor: MAE (CV)               => 193285.53283935547\n",
            "XGBRegressor: R2 SCORE (CV)          => 0.938762635871558\n"
          ]
        }
      ],
      "source": [
        "xr_mse_cv = mean_squared_error(y_test,y_pred_test_xgbr_cv)\n",
        "xr_rmse_cv = np.sqrt(xr_mse_cv)\n",
        "xr_mae_cv = mean_absolute_error(y_test,y_pred_test_xgbr_cv)\n",
        "xr_r2_cv = r2_score(y_test,y_pred_test_xgbr_cv)\n",
        "print('XGBRegressor: MSE (CV)'.ljust(36,' '),'=>',xr_mse_cv)\n",
        "print('XGBRegressor: RMSE (CV)'.ljust(36,' '),'=>',xr_rmse_cv)\n",
        "print('XGBRegressor: MAE (CV)'.ljust(36,' '),'=>',xr_mae_cv)\n",
        "print('XGBRegressor: R2 SCORE (CV)'.ljust(36,' '),'=>',xr_r2_cv)"
      ]
    },
    {
      "cell_type": "code",
      "execution_count": null,
      "metadata": {
        "id": "H53KQclS6A6n"
      },
      "outputs": [],
      "source": [
        "mrow = {'model_name': 'XGBRegressor',\n",
        "        'train_score': xgbr.score(X_train,y_train),\n",
        "        'test_score': xgbr.score(X_test,y_test),\n",
        "        'train_score_cv': xgbr_grid_cv_mod.score(X_train,y_train),\n",
        "        'test_score_cv' : xgbr_grid_cv_mod.score(X_test,y_test),\n",
        "        'MSE': xr_mse,\n",
        "        'RMSE': xr_rmse,\n",
        "        'MAE': xr_mae,\n",
        "        'R2_SCORE': xr_r2,\n",
        "        'MSE_CV': xr_mse_cv,\n",
        "        'MAE_CV': xr_mae_cv,\n",
        "        'RMSE_CV': xr_rmse_cv,\n",
        "        'R2_SCORE_CV': xr_r2_cv}\n",
        "models = models.append(mrow,ignore_index = True)"
      ]
    },
    {
      "cell_type": "markdown",
      "metadata": {
        "id": "1ZJfqv-h6A6n"
      },
      "source": [
        "##### Which hyperparameter optimization technique have you used and why?"
      ]
    },
    {
      "cell_type": "markdown",
      "metadata": {
        "id": "dljMoWuy6A6n"
      },
      "source": [
        "We have applied GridSearchCV here to get specific parameters for best results."
      ]
    },
    {
      "cell_type": "markdown",
      "metadata": {
        "id": "x1J_mxy16A6n"
      },
      "source": [
        "##### Have you seen any improvement? Note down the improvement with updates Evaluation metric Score Chart."
      ]
    },
    {
      "cell_type": "markdown",
      "metadata": {
        "id": "jdwS89vt6A6n"
      },
      "source": [
        "The evaluation metrics show acceptable error results and r-squared score is lesser than expected for the model."
      ]
    },
    {
      "cell_type": "markdown",
      "metadata": {
        "id": "91YjEZOowmEp"
      },
      "source": [
        "### Evalution metrics"
      ]
    },
    {
      "cell_type": "code",
      "execution_count": null,
      "metadata": {
        "id": "6BSxS8MAwpjF",
        "colab": {
          "base_uri": "https://localhost:8080/",
          "height": 270
        },
        "outputId": "c701ac39-573c-4622-b9bd-34d38295f2e2"
      },
      "outputs": [
        {
          "output_type": "execute_result",
          "data": {
            "text/plain": [
              "               model_name  train_score  test_score  train_score_cv  \\\n",
              "0        LinearRegression     0.907770    0.869925        0.907770   \n",
              "1         RidgeRegression     0.907716    0.869673        0.903649   \n",
              "2         LassoRegression     0.907770    0.869925        0.907770   \n",
              "3  RandomForestRegression     0.988506    0.943486        0.989438   \n",
              "4            XGBRegressor     0.993426    0.932031        1.000000   \n",
              "\n",
              "   test_score_cv           MSE          RMSE            MAE  R2_SCORE  \\\n",
              "0       0.869925  1.986550e+12  1.409450e+06  529169.107786  0.869925   \n",
              "1       0.864059  1.990401e+12  1.410816e+06  523354.939825  0.869673   \n",
              "2       0.869923  1.986550e+12  1.409450e+06  529169.107730  0.869925   \n",
              "3       0.924808  8.630958e+11  9.290295e+05  243742.035807  0.943486   \n",
              "4       0.938763  1.038052e+12  1.018848e+06  230907.412434  0.932031   \n",
              "\n",
              "         MSE_CV       RMSE_CV         MAE_CV  R2_SCORE_CV  \n",
              "0  1.986550e+12  1.409450e+06  529169.107786     0.869925  \n",
              "1  2.076145e+12  1.410816e+06  495887.841898     0.864059  \n",
              "2  1.986583e+12  1.409450e+06  529163.529473     0.869923  \n",
              "3  1.148363e+12  1.071617e+06  235148.878523     0.924808  \n",
              "4  9.352381e+11  9.670771e+05  193285.532839     0.938763  "
            ],
            "text/html": [
              "\n",
              "  <div id=\"df-0411978e-9f85-4428-8751-a6b6be8f30ce\">\n",
              "    <div class=\"colab-df-container\">\n",
              "      <div>\n",
              "<style scoped>\n",
              "    .dataframe tbody tr th:only-of-type {\n",
              "        vertical-align: middle;\n",
              "    }\n",
              "\n",
              "    .dataframe tbody tr th {\n",
              "        vertical-align: top;\n",
              "    }\n",
              "\n",
              "    .dataframe thead th {\n",
              "        text-align: right;\n",
              "    }\n",
              "</style>\n",
              "<table border=\"1\" class=\"dataframe\">\n",
              "  <thead>\n",
              "    <tr style=\"text-align: right;\">\n",
              "      <th></th>\n",
              "      <th>model_name</th>\n",
              "      <th>train_score</th>\n",
              "      <th>test_score</th>\n",
              "      <th>train_score_cv</th>\n",
              "      <th>test_score_cv</th>\n",
              "      <th>MSE</th>\n",
              "      <th>RMSE</th>\n",
              "      <th>MAE</th>\n",
              "      <th>R2_SCORE</th>\n",
              "      <th>MSE_CV</th>\n",
              "      <th>RMSE_CV</th>\n",
              "      <th>MAE_CV</th>\n",
              "      <th>R2_SCORE_CV</th>\n",
              "    </tr>\n",
              "  </thead>\n",
              "  <tbody>\n",
              "    <tr>\n",
              "      <th>0</th>\n",
              "      <td>LinearRegression</td>\n",
              "      <td>0.907770</td>\n",
              "      <td>0.869925</td>\n",
              "      <td>0.907770</td>\n",
              "      <td>0.869925</td>\n",
              "      <td>1.986550e+12</td>\n",
              "      <td>1.409450e+06</td>\n",
              "      <td>529169.107786</td>\n",
              "      <td>0.869925</td>\n",
              "      <td>1.986550e+12</td>\n",
              "      <td>1.409450e+06</td>\n",
              "      <td>529169.107786</td>\n",
              "      <td>0.869925</td>\n",
              "    </tr>\n",
              "    <tr>\n",
              "      <th>1</th>\n",
              "      <td>RidgeRegression</td>\n",
              "      <td>0.907716</td>\n",
              "      <td>0.869673</td>\n",
              "      <td>0.903649</td>\n",
              "      <td>0.864059</td>\n",
              "      <td>1.990401e+12</td>\n",
              "      <td>1.410816e+06</td>\n",
              "      <td>523354.939825</td>\n",
              "      <td>0.869673</td>\n",
              "      <td>2.076145e+12</td>\n",
              "      <td>1.410816e+06</td>\n",
              "      <td>495887.841898</td>\n",
              "      <td>0.864059</td>\n",
              "    </tr>\n",
              "    <tr>\n",
              "      <th>2</th>\n",
              "      <td>LassoRegression</td>\n",
              "      <td>0.907770</td>\n",
              "      <td>0.869925</td>\n",
              "      <td>0.907770</td>\n",
              "      <td>0.869923</td>\n",
              "      <td>1.986550e+12</td>\n",
              "      <td>1.409450e+06</td>\n",
              "      <td>529169.107730</td>\n",
              "      <td>0.869925</td>\n",
              "      <td>1.986583e+12</td>\n",
              "      <td>1.409450e+06</td>\n",
              "      <td>529163.529473</td>\n",
              "      <td>0.869923</td>\n",
              "    </tr>\n",
              "    <tr>\n",
              "      <th>3</th>\n",
              "      <td>RandomForestRegression</td>\n",
              "      <td>0.988506</td>\n",
              "      <td>0.943486</td>\n",
              "      <td>0.989438</td>\n",
              "      <td>0.924808</td>\n",
              "      <td>8.630958e+11</td>\n",
              "      <td>9.290295e+05</td>\n",
              "      <td>243742.035807</td>\n",
              "      <td>0.943486</td>\n",
              "      <td>1.148363e+12</td>\n",
              "      <td>1.071617e+06</td>\n",
              "      <td>235148.878523</td>\n",
              "      <td>0.924808</td>\n",
              "    </tr>\n",
              "    <tr>\n",
              "      <th>4</th>\n",
              "      <td>XGBRegressor</td>\n",
              "      <td>0.993426</td>\n",
              "      <td>0.932031</td>\n",
              "      <td>1.000000</td>\n",
              "      <td>0.938763</td>\n",
              "      <td>1.038052e+12</td>\n",
              "      <td>1.018848e+06</td>\n",
              "      <td>230907.412434</td>\n",
              "      <td>0.932031</td>\n",
              "      <td>9.352381e+11</td>\n",
              "      <td>9.670771e+05</td>\n",
              "      <td>193285.532839</td>\n",
              "      <td>0.938763</td>\n",
              "    </tr>\n",
              "  </tbody>\n",
              "</table>\n",
              "</div>\n",
              "      <button class=\"colab-df-convert\" onclick=\"convertToInteractive('df-0411978e-9f85-4428-8751-a6b6be8f30ce')\"\n",
              "              title=\"Convert this dataframe to an interactive table.\"\n",
              "              style=\"display:none;\">\n",
              "        \n",
              "  <svg xmlns=\"http://www.w3.org/2000/svg\" height=\"24px\"viewBox=\"0 0 24 24\"\n",
              "       width=\"24px\">\n",
              "    <path d=\"M0 0h24v24H0V0z\" fill=\"none\"/>\n",
              "    <path d=\"M18.56 5.44l.94 2.06.94-2.06 2.06-.94-2.06-.94-.94-2.06-.94 2.06-2.06.94zm-11 1L8.5 8.5l.94-2.06 2.06-.94-2.06-.94L8.5 2.5l-.94 2.06-2.06.94zm10 10l.94 2.06.94-2.06 2.06-.94-2.06-.94-.94-2.06-.94 2.06-2.06.94z\"/><path d=\"M17.41 7.96l-1.37-1.37c-.4-.4-.92-.59-1.43-.59-.52 0-1.04.2-1.43.59L10.3 9.45l-7.72 7.72c-.78.78-.78 2.05 0 2.83L4 21.41c.39.39.9.59 1.41.59.51 0 1.02-.2 1.41-.59l7.78-7.78 2.81-2.81c.8-.78.8-2.07 0-2.86zM5.41 20L4 18.59l7.72-7.72 1.47 1.35L5.41 20z\"/>\n",
              "  </svg>\n",
              "      </button>\n",
              "      \n",
              "  <style>\n",
              "    .colab-df-container {\n",
              "      display:flex;\n",
              "      flex-wrap:wrap;\n",
              "      gap: 12px;\n",
              "    }\n",
              "\n",
              "    .colab-df-convert {\n",
              "      background-color: #E8F0FE;\n",
              "      border: none;\n",
              "      border-radius: 50%;\n",
              "      cursor: pointer;\n",
              "      display: none;\n",
              "      fill: #1967D2;\n",
              "      height: 32px;\n",
              "      padding: 0 0 0 0;\n",
              "      width: 32px;\n",
              "    }\n",
              "\n",
              "    .colab-df-convert:hover {\n",
              "      background-color: #E2EBFA;\n",
              "      box-shadow: 0px 1px 2px rgba(60, 64, 67, 0.3), 0px 1px 3px 1px rgba(60, 64, 67, 0.15);\n",
              "      fill: #174EA6;\n",
              "    }\n",
              "\n",
              "    [theme=dark] .colab-df-convert {\n",
              "      background-color: #3B4455;\n",
              "      fill: #D2E3FC;\n",
              "    }\n",
              "\n",
              "    [theme=dark] .colab-df-convert:hover {\n",
              "      background-color: #434B5C;\n",
              "      box-shadow: 0px 1px 3px 1px rgba(0, 0, 0, 0.15);\n",
              "      filter: drop-shadow(0px 1px 2px rgba(0, 0, 0, 0.3));\n",
              "      fill: #FFFFFF;\n",
              "    }\n",
              "  </style>\n",
              "\n",
              "      <script>\n",
              "        const buttonEl =\n",
              "          document.querySelector('#df-0411978e-9f85-4428-8751-a6b6be8f30ce button.colab-df-convert');\n",
              "        buttonEl.style.display =\n",
              "          google.colab.kernel.accessAllowed ? 'block' : 'none';\n",
              "\n",
              "        async function convertToInteractive(key) {\n",
              "          const element = document.querySelector('#df-0411978e-9f85-4428-8751-a6b6be8f30ce');\n",
              "          const dataTable =\n",
              "            await google.colab.kernel.invokeFunction('convertToInteractive',\n",
              "                                                     [key], {});\n",
              "          if (!dataTable) return;\n",
              "\n",
              "          const docLinkHtml = 'Like what you see? Visit the ' +\n",
              "            '<a target=\"_blank\" href=https://colab.research.google.com/notebooks/data_table.ipynb>data table notebook</a>'\n",
              "            + ' to learn more about interactive tables.';\n",
              "          element.innerHTML = '';\n",
              "          dataTable['output_type'] = 'display_data';\n",
              "          await google.colab.output.renderOutput(dataTable, element);\n",
              "          const docLink = document.createElement('div');\n",
              "          docLink.innerHTML = docLinkHtml;\n",
              "          element.appendChild(docLink);\n",
              "        }\n",
              "      </script>\n",
              "    </div>\n",
              "  </div>\n",
              "  "
            ]
          },
          "metadata": {},
          "execution_count": 681
        }
      ],
      "source": [
        "models"
      ]
    },
    {
      "cell_type": "code",
      "execution_count": null,
      "metadata": {
        "id": "MQRl_AoJ4msn",
        "colab": {
          "base_uri": "https://localhost:8080/",
          "height": 270
        },
        "outputId": "0c08e3fa-269c-4099-d1ee-cde1436d9481"
      },
      "outputs": [
        {
          "output_type": "execute_result",
          "data": {
            "text/plain": [
              "               model_name  train_score  test_score  train_score_cv  \\\n",
              "3  RandomForestRegression     0.988506    0.943486        0.989438   \n",
              "4            XGBRegressor     0.993426    0.932031        1.000000   \n",
              "0        LinearRegression     0.907770    0.869925        0.907770   \n",
              "2         LassoRegression     0.907770    0.869925        0.907770   \n",
              "1         RidgeRegression     0.907716    0.869673        0.903649   \n",
              "\n",
              "   test_score_cv           MSE          RMSE            MAE  R2_SCORE  \\\n",
              "3       0.924808  8.630958e+11  9.290295e+05  243742.035807  0.943486   \n",
              "4       0.938763  1.038052e+12  1.018848e+06  230907.412434  0.932031   \n",
              "0       0.869925  1.986550e+12  1.409450e+06  529169.107786  0.869925   \n",
              "2       0.869923  1.986550e+12  1.409450e+06  529169.107730  0.869925   \n",
              "1       0.864059  1.990401e+12  1.410816e+06  523354.939825  0.869673   \n",
              "\n",
              "         MSE_CV       RMSE_CV         MAE_CV  R2_SCORE_CV  \n",
              "3  1.148363e+12  1.071617e+06  235148.878523     0.924808  \n",
              "4  9.352381e+11  9.670771e+05  193285.532839     0.938763  \n",
              "0  1.986550e+12  1.409450e+06  529169.107786     0.869925  \n",
              "2  1.986583e+12  1.409450e+06  529163.529473     0.869923  \n",
              "1  2.076145e+12  1.410816e+06  495887.841898     0.864059  "
            ],
            "text/html": [
              "\n",
              "  <div id=\"df-e6b358cb-f9b5-4541-8e29-3295684107f9\">\n",
              "    <div class=\"colab-df-container\">\n",
              "      <div>\n",
              "<style scoped>\n",
              "    .dataframe tbody tr th:only-of-type {\n",
              "        vertical-align: middle;\n",
              "    }\n",
              "\n",
              "    .dataframe tbody tr th {\n",
              "        vertical-align: top;\n",
              "    }\n",
              "\n",
              "    .dataframe thead th {\n",
              "        text-align: right;\n",
              "    }\n",
              "</style>\n",
              "<table border=\"1\" class=\"dataframe\">\n",
              "  <thead>\n",
              "    <tr style=\"text-align: right;\">\n",
              "      <th></th>\n",
              "      <th>model_name</th>\n",
              "      <th>train_score</th>\n",
              "      <th>test_score</th>\n",
              "      <th>train_score_cv</th>\n",
              "      <th>test_score_cv</th>\n",
              "      <th>MSE</th>\n",
              "      <th>RMSE</th>\n",
              "      <th>MAE</th>\n",
              "      <th>R2_SCORE</th>\n",
              "      <th>MSE_CV</th>\n",
              "      <th>RMSE_CV</th>\n",
              "      <th>MAE_CV</th>\n",
              "      <th>R2_SCORE_CV</th>\n",
              "    </tr>\n",
              "  </thead>\n",
              "  <tbody>\n",
              "    <tr>\n",
              "      <th>3</th>\n",
              "      <td>RandomForestRegression</td>\n",
              "      <td>0.988506</td>\n",
              "      <td>0.943486</td>\n",
              "      <td>0.989438</td>\n",
              "      <td>0.924808</td>\n",
              "      <td>8.630958e+11</td>\n",
              "      <td>9.290295e+05</td>\n",
              "      <td>243742.035807</td>\n",
              "      <td>0.943486</td>\n",
              "      <td>1.148363e+12</td>\n",
              "      <td>1.071617e+06</td>\n",
              "      <td>235148.878523</td>\n",
              "      <td>0.924808</td>\n",
              "    </tr>\n",
              "    <tr>\n",
              "      <th>4</th>\n",
              "      <td>XGBRegressor</td>\n",
              "      <td>0.993426</td>\n",
              "      <td>0.932031</td>\n",
              "      <td>1.000000</td>\n",
              "      <td>0.938763</td>\n",
              "      <td>1.038052e+12</td>\n",
              "      <td>1.018848e+06</td>\n",
              "      <td>230907.412434</td>\n",
              "      <td>0.932031</td>\n",
              "      <td>9.352381e+11</td>\n",
              "      <td>9.670771e+05</td>\n",
              "      <td>193285.532839</td>\n",
              "      <td>0.938763</td>\n",
              "    </tr>\n",
              "    <tr>\n",
              "      <th>0</th>\n",
              "      <td>LinearRegression</td>\n",
              "      <td>0.907770</td>\n",
              "      <td>0.869925</td>\n",
              "      <td>0.907770</td>\n",
              "      <td>0.869925</td>\n",
              "      <td>1.986550e+12</td>\n",
              "      <td>1.409450e+06</td>\n",
              "      <td>529169.107786</td>\n",
              "      <td>0.869925</td>\n",
              "      <td>1.986550e+12</td>\n",
              "      <td>1.409450e+06</td>\n",
              "      <td>529169.107786</td>\n",
              "      <td>0.869925</td>\n",
              "    </tr>\n",
              "    <tr>\n",
              "      <th>2</th>\n",
              "      <td>LassoRegression</td>\n",
              "      <td>0.907770</td>\n",
              "      <td>0.869925</td>\n",
              "      <td>0.907770</td>\n",
              "      <td>0.869923</td>\n",
              "      <td>1.986550e+12</td>\n",
              "      <td>1.409450e+06</td>\n",
              "      <td>529169.107730</td>\n",
              "      <td>0.869925</td>\n",
              "      <td>1.986583e+12</td>\n",
              "      <td>1.409450e+06</td>\n",
              "      <td>529163.529473</td>\n",
              "      <td>0.869923</td>\n",
              "    </tr>\n",
              "    <tr>\n",
              "      <th>1</th>\n",
              "      <td>RidgeRegression</td>\n",
              "      <td>0.907716</td>\n",
              "      <td>0.869673</td>\n",
              "      <td>0.903649</td>\n",
              "      <td>0.864059</td>\n",
              "      <td>1.990401e+12</td>\n",
              "      <td>1.410816e+06</td>\n",
              "      <td>523354.939825</td>\n",
              "      <td>0.869673</td>\n",
              "      <td>2.076145e+12</td>\n",
              "      <td>1.410816e+06</td>\n",
              "      <td>495887.841898</td>\n",
              "      <td>0.864059</td>\n",
              "    </tr>\n",
              "  </tbody>\n",
              "</table>\n",
              "</div>\n",
              "      <button class=\"colab-df-convert\" onclick=\"convertToInteractive('df-e6b358cb-f9b5-4541-8e29-3295684107f9')\"\n",
              "              title=\"Convert this dataframe to an interactive table.\"\n",
              "              style=\"display:none;\">\n",
              "        \n",
              "  <svg xmlns=\"http://www.w3.org/2000/svg\" height=\"24px\"viewBox=\"0 0 24 24\"\n",
              "       width=\"24px\">\n",
              "    <path d=\"M0 0h24v24H0V0z\" fill=\"none\"/>\n",
              "    <path d=\"M18.56 5.44l.94 2.06.94-2.06 2.06-.94-2.06-.94-.94-2.06-.94 2.06-2.06.94zm-11 1L8.5 8.5l.94-2.06 2.06-.94-2.06-.94L8.5 2.5l-.94 2.06-2.06.94zm10 10l.94 2.06.94-2.06 2.06-.94-2.06-.94-.94-2.06-.94 2.06-2.06.94z\"/><path d=\"M17.41 7.96l-1.37-1.37c-.4-.4-.92-.59-1.43-.59-.52 0-1.04.2-1.43.59L10.3 9.45l-7.72 7.72c-.78.78-.78 2.05 0 2.83L4 21.41c.39.39.9.59 1.41.59.51 0 1.02-.2 1.41-.59l7.78-7.78 2.81-2.81c.8-.78.8-2.07 0-2.86zM5.41 20L4 18.59l7.72-7.72 1.47 1.35L5.41 20z\"/>\n",
              "  </svg>\n",
              "      </button>\n",
              "      \n",
              "  <style>\n",
              "    .colab-df-container {\n",
              "      display:flex;\n",
              "      flex-wrap:wrap;\n",
              "      gap: 12px;\n",
              "    }\n",
              "\n",
              "    .colab-df-convert {\n",
              "      background-color: #E8F0FE;\n",
              "      border: none;\n",
              "      border-radius: 50%;\n",
              "      cursor: pointer;\n",
              "      display: none;\n",
              "      fill: #1967D2;\n",
              "      height: 32px;\n",
              "      padding: 0 0 0 0;\n",
              "      width: 32px;\n",
              "    }\n",
              "\n",
              "    .colab-df-convert:hover {\n",
              "      background-color: #E2EBFA;\n",
              "      box-shadow: 0px 1px 2px rgba(60, 64, 67, 0.3), 0px 1px 3px 1px rgba(60, 64, 67, 0.15);\n",
              "      fill: #174EA6;\n",
              "    }\n",
              "\n",
              "    [theme=dark] .colab-df-convert {\n",
              "      background-color: #3B4455;\n",
              "      fill: #D2E3FC;\n",
              "    }\n",
              "\n",
              "    [theme=dark] .colab-df-convert:hover {\n",
              "      background-color: #434B5C;\n",
              "      box-shadow: 0px 1px 3px 1px rgba(0, 0, 0, 0.15);\n",
              "      filter: drop-shadow(0px 1px 2px rgba(0, 0, 0, 0.3));\n",
              "      fill: #FFFFFF;\n",
              "    }\n",
              "  </style>\n",
              "\n",
              "      <script>\n",
              "        const buttonEl =\n",
              "          document.querySelector('#df-e6b358cb-f9b5-4541-8e29-3295684107f9 button.colab-df-convert');\n",
              "        buttonEl.style.display =\n",
              "          google.colab.kernel.accessAllowed ? 'block' : 'none';\n",
              "\n",
              "        async function convertToInteractive(key) {\n",
              "          const element = document.querySelector('#df-e6b358cb-f9b5-4541-8e29-3295684107f9');\n",
              "          const dataTable =\n",
              "            await google.colab.kernel.invokeFunction('convertToInteractive',\n",
              "                                                     [key], {});\n",
              "          if (!dataTable) return;\n",
              "\n",
              "          const docLinkHtml = 'Like what you see? Visit the ' +\n",
              "            '<a target=\"_blank\" href=https://colab.research.google.com/notebooks/data_table.ipynb>data table notebook</a>'\n",
              "            + ' to learn more about interactive tables.';\n",
              "          element.innerHTML = '';\n",
              "          dataTable['output_type'] = 'display_data';\n",
              "          await google.colab.output.renderOutput(dataTable, element);\n",
              "          const docLink = document.createElement('div');\n",
              "          docLink.innerHTML = docLinkHtml;\n",
              "          element.appendChild(docLink);\n",
              "        }\n",
              "      </script>\n",
              "    </div>\n",
              "  </div>\n",
              "  "
            ]
          },
          "metadata": {},
          "execution_count": 682
        }
      ],
      "source": [
        "models.sort_values(by= ['test_score','R2_SCORE','test_score_cv'], ascending = False)"
      ]
    },
    {
      "cell_type": "code",
      "execution_count": null,
      "metadata": {
        "id": "B-ik5LqUSv6s",
        "colab": {
          "base_uri": "https://localhost:8080/"
        },
        "outputId": "c3baa226-d44d-4df6-a4f6-1b7385825758"
      },
      "outputs": [
        {
          "output_type": "execute_result",
          "data": {
            "text/plain": [
              "array([0.11325212])"
            ]
          },
          "metadata": {},
          "execution_count": 683
        }
      ],
      "source": [
        "models.loc[models.model_name == 'RandomForestRegression']['MAE'].values/y.mean()"
      ]
    },
    {
      "cell_type": "code",
      "source": [
        "models.loc[models.model_name == 'RandomForestRegression']['MAE_CV'].values/y.mean()"
      ],
      "metadata": {
        "colab": {
          "base_uri": "https://localhost:8080/"
        },
        "id": "OjTG9CDoseFN",
        "outputId": "caf0963a-8412-4f00-fe51-5c4e3e5f3ffc"
      },
      "execution_count": null,
      "outputs": [
        {
          "output_type": "execute_result",
          "data": {
            "text/plain": [
              "array([0.1092594])"
            ]
          },
          "metadata": {},
          "execution_count": 684
        }
      ]
    },
    {
      "cell_type": "code",
      "source": [
        "models.loc[models.model_name == 'XGBRegressor']['MAE'].values/y.mean()"
      ],
      "metadata": {
        "colab": {
          "base_uri": "https://localhost:8080/"
        },
        "id": "JOVmTYpNshPR",
        "outputId": "4fa150a3-778d-47d1-8185-09bf8ad479be"
      },
      "execution_count": null,
      "outputs": [
        {
          "output_type": "execute_result",
          "data": {
            "text/plain": [
              "array([0.10728865])"
            ]
          },
          "metadata": {},
          "execution_count": 685
        }
      ]
    },
    {
      "cell_type": "code",
      "source": [
        "models.loc[models.model_name == 'XGBRegressor']['MAE_CV'].values/y.mean()"
      ],
      "metadata": {
        "colab": {
          "base_uri": "https://localhost:8080/"
        },
        "id": "lkIWdM2ssknv",
        "outputId": "d830ff03-2d77-4b7d-e12c-125abfd2c782"
      },
      "execution_count": null,
      "outputs": [
        {
          "output_type": "execute_result",
          "data": {
            "text/plain": [
              "array([0.08980805])"
            ]
          },
          "metadata": {},
          "execution_count": 686
        }
      ]
    },
    {
      "cell_type": "code",
      "execution_count": null,
      "metadata": {
        "id": "ZxZw1fj1S9OU",
        "colab": {
          "base_uri": "https://localhost:8080/"
        },
        "outputId": "a187ba00-bb0b-4c44-f378-3147268faea9"
      },
      "outputs": [
        {
          "output_type": "execute_result",
          "data": {
            "text/plain": [
              "0.294766006189312"
            ]
          },
          "metadata": {},
          "execution_count": 687
        }
      ],
      "source": [
        "489710.718664/1661354.1194756555"
      ]
    },
    {
      "cell_type": "code",
      "source": [
        "end_time = time.time()\n",
        "total_runtime = end_time - start_time\n",
        "print(\"Total runtime of notebook: {:.2f} minutes\".format(total_runtime/60))"
      ],
      "metadata": {
        "colab": {
          "base_uri": "https://localhost:8080/"
        },
        "id": "Mo8LEcTwv_0e",
        "outputId": "303dc50e-990e-4988-c886-bb5369499be8"
      },
      "execution_count": null,
      "outputs": [
        {
          "output_type": "stream",
          "name": "stdout",
          "text": [
            "Total runtime of notebook: 13.91 minutes\n"
          ]
        }
      ]
    },
    {
      "cell_type": "markdown",
      "metadata": {
        "id": "gCX9965dhzqZ"
      },
      "source": [
        "# **Conclusion**"
      ]
    },
    {
      "cell_type": "markdown",
      "metadata": {
        "id": "Fjb1IsQkh3yE"
      },
      "source": [
        "- The views for sessions with longer duration is mostly lesser.\n",
        "- Primary Speaker and comments are the most important features.\n",
        "- "
      ]
    },
    {
      "cell_type": "markdown",
      "metadata": {
        "id": "gIfDvo9L0UH2"
      },
      "source": [
        "### ***Hurrah! You have successfully completed your Machine Learning Capstone Project !!!***"
      ]
    }
  ],
  "metadata": {
    "colab": {
      "collapsed_sections": [
        "beRrZCGUAJYm",
        "FJNUwmbgGyua",
        "w6K7xa23Elo4",
        "mDgbUHAGgjLW",
        "xTLwvoPc6xqE",
        "Y3lxredqlCYt",
        "3RnN4peoiCZX",
        "x71ZqKXriCWQ",
        "7hBIi_osiCS2",
        "JlHwYmJAmNHm",
        "35m5QtbWiB9F",
        "PoPl-ycgm1ru",
        "nA9Y7ga8ng1Z",
        "PBTbrJXOngz2",
        "u3PMJOP6ngxN",
        "b937faYmEvxf",
        "eum4EyOlEvxf",
        "KABYn9QtdxG-",
        "Sf-zHB5Je1Jd",
        "OtcuaYUUfB7y",
        "Xtf3CjC6goK7",
        "EgHO0ApBmgVv",
        "7JPt86PJm88K",
        "GF8Ens_Soomf",
        "19eN5uUVx3fC",
        "y47Y9B4WyuAT",
        "F599w8r5yuAU",
        "RlOabK3cyuAU",
        "jnJDRducyuAU",
        "tn_vLayW2uW9",
        "m05dNY492uW-",
        "YsRCjSEf2uW-",
        "cRgenMZy2uW-",
        "xIk32sAS3Z65",
        "brXPNxBc67Ms",
        "jvVsuO4T67Mt",
        "xtt0rZov67Mt",
        "fxfhokmvyHh2",
        "WQ37BbjvCV4O",
        "4viOgUd2CV4P",
        "Y_i3T8HoCV4P",
        "yDw1tk9PCw8l",
        "BZAsVHcFCw8m",
        "_juznjk_Cw8m",
        "Xe9J0-o1Cw8m",
        "rqRerQUXCylD",
        "OYd3b3NmCylD",
        "Db1LDPq-CylE",
        "LYg1F6fpCylE",
        "hluX-TGovEuB",
        "SoRX2HXUvEuB",
        "R0OZwaptvEuB",
        "bEA_3-0lvEuC",
        "WIz9tqgKMjg6",
        "38L4yHmzMjg7",
        "9PAVJCMwMjg7",
        "4-3N9-QTMjg7",
        "lmWKQwcJybbN",
        "0V3mk5kYyhp1",
        "NC_X3p0fY2L0",
        "UV0SzAkaZNRQ",
        "YPEH6qLeZNRQ",
        "q29F0dvdveiT",
        "EXh0U9oCveiU",
        "BO2cqEBNDIrf",
        "qj46T8bBIh3i",
        "ZU9dBt2-M95a",
        "ET9vTkdlId0h",
        "9qyC7GllI2gx",
        "weKne7TkfKpE",
        "NzG0GpdBhi1F",
        "BBBEY8Grhu5p",
        "WrLI1PQvCrLo",
        "VZLI01THgapa",
        "ksYYgajHgsi7",
        "QXMbhpCT--HU",
        "Yo6CzVOvO6Jk",
        "_vMSGFA5GyEt",
        "Vz8IznDFonHs",
        "fzNPg-kconHs",
        "TttnZPzPonHt",
        "m9f7lSn9onHu",
        "CZXoY5woonHu",
        "_0iSsygponHv",
        "dJ2tPlVmpsJ0",
        "JWYfwnehpsJ1",
        "-jK_YjpMpsJ2",
        "HAih1iBOpsJ2",
        "zVGeBEFhpsJ2",
        "bmKjuQ-FpsJ3",
        "Fze-IPXLpx6K",
        "7AN1z2sKpx6M",
        "9PIHJqyupx6M",
        "_-qAgymDpx6N",
        "Z-hykwinpx6N",
        "gIfDvo9L0UH2"
      ],
      "provenance": [],
      "toc_visible": true
    },
    "gpuClass": "standard",
    "kernelspec": {
      "display_name": "Python 3",
      "name": "python3"
    },
    "language_info": {
      "name": "python"
    }
  },
  "nbformat": 4,
  "nbformat_minor": 0
}